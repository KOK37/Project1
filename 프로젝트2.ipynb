{
  "nbformat": 4,
  "nbformat_minor": 0,
  "metadata": {
    "colab": {
      "provenance": [],
      "collapsed_sections": [
        "qIqfdLUsPHih",
        "ImYDWn0MVb1B",
        "4t03TJPiXe9N",
        "BfChHa8fcpn6",
        "lvn1EnaPWuxA",
        "BLvBdPWjG02X",
        "9N9cMVI6ikQd",
        "7QUNOsrAqQHM",
        "l8tmvdhbxxjw",
        "wtu1V5K1NUmB"
      ],
      "mount_file_id": "1J69GuUO0hxGMO4yu8VAJyOe6umSy88nT",
      "authorship_tag": "ABX9TyO/k30Mo8em6R23RiUdh1hy",
      "include_colab_link": true
    },
    "kernelspec": {
      "name": "python3",
      "display_name": "Python 3"
    },
    "language_info": {
      "name": "python"
    },
    "gpuClass": "standard",
    "accelerator": "GPU"
  },
  "cells": [
    {
      "cell_type": "markdown",
      "metadata": {
        "id": "view-in-github",
        "colab_type": "text"
      },
      "source": [
        "<a href=\"https://colab.research.google.com/github/KOK37/Project1/blob/main/%ED%94%84%EB%A1%9C%EC%A0%9D%ED%8A%B82.ipynb\" target=\"_parent\"><img src=\"https://colab.research.google.com/assets/colab-badge.svg\" alt=\"Open In Colab\"/></a>"
      ]
    },
    {
      "cell_type": "markdown",
      "source": [
        "# +) 끊김방지 (90분/12시간)\n",
        "F12 -> 개발자 콘솔\n",
        "function ConnectButton(){\n",
        "    console.log(\"끊김방지\"); \n",
        "    document.querySelector(\"#top-toolbar > colab-connect-button\").shadowRoot.querySelector(\"#connect\").click() \n",
        "}\n",
        "setInterval(ConnectButton,60000);"
      ],
      "metadata": {
        "id": "K9yuYO7IhmxN"
      }
    },
    {
      "cell_type": "markdown",
      "source": [
        "#데이터 불러오기"
      ],
      "metadata": {
        "id": "qIqfdLUsPHih"
      }
    },
    {
      "cell_type": "code",
      "source": [
        "import pandas as pd\n",
        "import numpy as np\n",
        "import matplotlib.pyplot as plt\n",
        "import seaborn as sns"
      ],
      "metadata": {
        "id": "A9rqx7ssPPap"
      },
      "execution_count": 1,
      "outputs": []
    },
    {
      "cell_type": "code",
      "source": [
        "!sudo apt-get install -y fonts-nanum\n",
        "!sudo fc-cache -fv\n",
        "!rm ~/.cache/matplotlib -rf"
      ],
      "metadata": {
        "colab": {
          "base_uri": "https://localhost:8080/"
        },
        "outputId": "5435008e-4215-4a58-e0e9-464e3f1e39b9",
        "id": "ADOoZJ5uPPaq"
      },
      "execution_count": 2,
      "outputs": [
        {
          "output_type": "stream",
          "name": "stdout",
          "text": [
            "Reading package lists... Done\n",
            "Building dependency tree       \n",
            "Reading state information... Done\n",
            "fonts-nanum is already the newest version (20170925-1).\n",
            "The following package was automatically installed and is no longer required:\n",
            "  libnvidia-common-460\n",
            "Use 'sudo apt autoremove' to remove it.\n",
            "0 upgraded, 0 newly installed, 0 to remove and 7 not upgraded.\n",
            "/usr/share/fonts: caching, new cache contents: 0 fonts, 1 dirs\n",
            "/usr/share/fonts/truetype: caching, new cache contents: 0 fonts, 3 dirs\n",
            "/usr/share/fonts/truetype/humor-sans: caching, new cache contents: 1 fonts, 0 dirs\n",
            "/usr/share/fonts/truetype/liberation: caching, new cache contents: 16 fonts, 0 dirs\n",
            "/usr/share/fonts/truetype/nanum: caching, new cache contents: 10 fonts, 0 dirs\n",
            "/usr/local/share/fonts: caching, new cache contents: 0 fonts, 0 dirs\n",
            "/root/.local/share/fonts: skipping, no such directory\n",
            "/root/.fonts: skipping, no such directory\n",
            "/var/cache/fontconfig: cleaning cache directory\n",
            "/root/.cache/fontconfig: not cleaning non-existent cache directory\n",
            "/root/.fontconfig: not cleaning non-existent cache directory\n",
            "fc-cache: succeeded\n"
          ]
        }
      ]
    },
    {
      "cell_type": "code",
      "source": [
        "!pip install scikit-learn==0.24.2\n",
        "!pip install pandas-profiling==2.11.0 --upgrade\n",
        "!pip install category_encoders"
      ],
      "metadata": {
        "colab": {
          "base_uri": "https://localhost:8080/"
        },
        "id": "19vADPQCj5-z",
        "outputId": "acb83770-19bd-4e98-e8b7-1afb9eebd34f"
      },
      "execution_count": 3,
      "outputs": [
        {
          "output_type": "stream",
          "name": "stdout",
          "text": [
            "Looking in indexes: https://pypi.org/simple, https://us-python.pkg.dev/colab-wheels/public/simple/\n",
            "Requirement already satisfied: scikit-learn==0.24.2 in /usr/local/lib/python3.8/dist-packages (0.24.2)\n",
            "Requirement already satisfied: joblib>=0.11 in /usr/local/lib/python3.8/dist-packages (from scikit-learn==0.24.2) (1.2.0)\n",
            "Requirement already satisfied: numpy>=1.13.3 in /usr/local/lib/python3.8/dist-packages (from scikit-learn==0.24.2) (1.21.6)\n",
            "Requirement already satisfied: threadpoolctl>=2.0.0 in /usr/local/lib/python3.8/dist-packages (from scikit-learn==0.24.2) (3.1.0)\n",
            "Requirement already satisfied: scipy>=0.19.1 in /usr/local/lib/python3.8/dist-packages (from scikit-learn==0.24.2) (1.7.3)\n",
            "Looking in indexes: https://pypi.org/simple, https://us-python.pkg.dev/colab-wheels/public/simple/\n",
            "Requirement already satisfied: pandas-profiling==2.11.0 in /usr/local/lib/python3.8/dist-packages (2.11.0)\n",
            "Requirement already satisfied: pandas!=1.0.0,!=1.0.1,!=1.0.2,!=1.1.0,>=0.25.3 in /usr/local/lib/python3.8/dist-packages (from pandas-profiling==2.11.0) (1.3.5)\n",
            "Requirement already satisfied: matplotlib>=3.2.0 in /usr/local/lib/python3.8/dist-packages (from pandas-profiling==2.11.0) (3.2.2)\n",
            "Requirement already satisfied: jinja2>=2.11.1 in /usr/local/lib/python3.8/dist-packages (from pandas-profiling==2.11.0) (2.11.3)\n",
            "Requirement already satisfied: tangled-up-in-unicode>=0.0.6 in /usr/local/lib/python3.8/dist-packages (from pandas-profiling==2.11.0) (0.2.0)\n",
            "Requirement already satisfied: ipywidgets>=7.5.1 in /usr/local/lib/python3.8/dist-packages (from pandas-profiling==2.11.0) (7.7.1)\n",
            "Requirement already satisfied: numpy>=1.16.0 in /usr/local/lib/python3.8/dist-packages (from pandas-profiling==2.11.0) (1.21.6)\n",
            "Requirement already satisfied: seaborn>=0.10.1 in /usr/local/lib/python3.8/dist-packages (from pandas-profiling==2.11.0) (0.11.2)\n",
            "Requirement already satisfied: visions[type_image_path]==0.6.0 in /usr/local/lib/python3.8/dist-packages (from pandas-profiling==2.11.0) (0.6.0)\n",
            "Requirement already satisfied: phik>=0.10.0 in /usr/local/lib/python3.8/dist-packages (from pandas-profiling==2.11.0) (0.12.2)\n",
            "Requirement already satisfied: joblib in /usr/local/lib/python3.8/dist-packages (from pandas-profiling==2.11.0) (1.2.0)\n",
            "Requirement already satisfied: missingno>=0.4.2 in /usr/local/lib/python3.8/dist-packages (from pandas-profiling==2.11.0) (0.5.1)\n",
            "Requirement already satisfied: requests>=2.24.0 in /usr/local/lib/python3.8/dist-packages (from pandas-profiling==2.11.0) (2.28.1)\n",
            "Requirement already satisfied: tqdm>=4.48.2 in /usr/local/lib/python3.8/dist-packages (from pandas-profiling==2.11.0) (4.64.1)\n",
            "Requirement already satisfied: htmlmin>=0.1.12 in /usr/local/lib/python3.8/dist-packages (from pandas-profiling==2.11.0) (0.1.12)\n",
            "Requirement already satisfied: scipy>=1.4.1 in /usr/local/lib/python3.8/dist-packages (from pandas-profiling==2.11.0) (1.7.3)\n",
            "Requirement already satisfied: confuse>=1.0.0 in /usr/local/lib/python3.8/dist-packages (from pandas-profiling==2.11.0) (2.0.0)\n",
            "Requirement already satisfied: attrs>=19.3.0 in /usr/local/lib/python3.8/dist-packages (from pandas-profiling==2.11.0) (22.1.0)\n",
            "Requirement already satisfied: networkx>=2.4 in /usr/local/lib/python3.8/dist-packages (from visions[type_image_path]==0.6.0->pandas-profiling==2.11.0) (2.6.3)\n",
            "Requirement already satisfied: imagehash in /usr/local/lib/python3.8/dist-packages (from visions[type_image_path]==0.6.0->pandas-profiling==2.11.0) (4.3.1)\n",
            "Requirement already satisfied: Pillow in /usr/local/lib/python3.8/dist-packages (from visions[type_image_path]==0.6.0->pandas-profiling==2.11.0) (7.1.2)\n",
            "Requirement already satisfied: pyyaml in /usr/local/lib/python3.8/dist-packages (from confuse>=1.0.0->pandas-profiling==2.11.0) (6.0)\n",
            "Requirement already satisfied: widgetsnbextension~=3.6.0 in /usr/local/lib/python3.8/dist-packages (from ipywidgets>=7.5.1->pandas-profiling==2.11.0) (3.6.1)\n",
            "Requirement already satisfied: traitlets>=4.3.1 in /usr/local/lib/python3.8/dist-packages (from ipywidgets>=7.5.1->pandas-profiling==2.11.0) (5.1.1)\n",
            "Requirement already satisfied: ipython>=4.0.0 in /usr/local/lib/python3.8/dist-packages (from ipywidgets>=7.5.1->pandas-profiling==2.11.0) (7.9.0)\n",
            "Requirement already satisfied: jupyterlab-widgets>=1.0.0 in /usr/local/lib/python3.8/dist-packages (from ipywidgets>=7.5.1->pandas-profiling==2.11.0) (3.0.3)\n",
            "Requirement already satisfied: ipykernel>=4.5.1 in /usr/local/lib/python3.8/dist-packages (from ipywidgets>=7.5.1->pandas-profiling==2.11.0) (5.3.4)\n",
            "Requirement already satisfied: ipython-genutils~=0.2.0 in /usr/local/lib/python3.8/dist-packages (from ipywidgets>=7.5.1->pandas-profiling==2.11.0) (0.2.0)\n",
            "Requirement already satisfied: tornado>=4.2 in /usr/local/lib/python3.8/dist-packages (from ipykernel>=4.5.1->ipywidgets>=7.5.1->pandas-profiling==2.11.0) (6.0.4)\n",
            "Requirement already satisfied: jupyter-client in /usr/local/lib/python3.8/dist-packages (from ipykernel>=4.5.1->ipywidgets>=7.5.1->pandas-profiling==2.11.0) (6.1.12)\n",
            "Requirement already satisfied: pickleshare in /usr/local/lib/python3.8/dist-packages (from ipython>=4.0.0->ipywidgets>=7.5.1->pandas-profiling==2.11.0) (0.7.5)\n",
            "Requirement already satisfied: prompt-toolkit<2.1.0,>=2.0.0 in /usr/local/lib/python3.8/dist-packages (from ipython>=4.0.0->ipywidgets>=7.5.1->pandas-profiling==2.11.0) (2.0.10)\n",
            "Requirement already satisfied: pygments in /usr/local/lib/python3.8/dist-packages (from ipython>=4.0.0->ipywidgets>=7.5.1->pandas-profiling==2.11.0) (2.6.1)\n",
            "Requirement already satisfied: backcall in /usr/local/lib/python3.8/dist-packages (from ipython>=4.0.0->ipywidgets>=7.5.1->pandas-profiling==2.11.0) (0.2.0)\n",
            "Requirement already satisfied: decorator in /usr/local/lib/python3.8/dist-packages (from ipython>=4.0.0->ipywidgets>=7.5.1->pandas-profiling==2.11.0) (4.4.2)\n",
            "Requirement already satisfied: pexpect in /usr/local/lib/python3.8/dist-packages (from ipython>=4.0.0->ipywidgets>=7.5.1->pandas-profiling==2.11.0) (4.8.0)\n",
            "Requirement already satisfied: setuptools>=18.5 in /usr/local/lib/python3.8/dist-packages (from ipython>=4.0.0->ipywidgets>=7.5.1->pandas-profiling==2.11.0) (57.4.0)\n",
            "Requirement already satisfied: jedi>=0.10 in /usr/local/lib/python3.8/dist-packages (from ipython>=4.0.0->ipywidgets>=7.5.1->pandas-profiling==2.11.0) (0.18.2)\n",
            "Requirement already satisfied: parso<0.9.0,>=0.8.0 in /usr/local/lib/python3.8/dist-packages (from jedi>=0.10->ipython>=4.0.0->ipywidgets>=7.5.1->pandas-profiling==2.11.0) (0.8.3)\n",
            "Requirement already satisfied: MarkupSafe>=0.23 in /usr/local/lib/python3.8/dist-packages (from jinja2>=2.11.1->pandas-profiling==2.11.0) (2.0.1)\n",
            "Requirement already satisfied: kiwisolver>=1.0.1 in /usr/local/lib/python3.8/dist-packages (from matplotlib>=3.2.0->pandas-profiling==2.11.0) (1.4.4)\n",
            "Requirement already satisfied: python-dateutil>=2.1 in /usr/local/lib/python3.8/dist-packages (from matplotlib>=3.2.0->pandas-profiling==2.11.0) (2.8.2)\n",
            "Requirement already satisfied: pyparsing!=2.0.4,!=2.1.2,!=2.1.6,>=2.0.1 in /usr/local/lib/python3.8/dist-packages (from matplotlib>=3.2.0->pandas-profiling==2.11.0) (3.0.9)\n",
            "Requirement already satisfied: cycler>=0.10 in /usr/local/lib/python3.8/dist-packages (from matplotlib>=3.2.0->pandas-profiling==2.11.0) (0.11.0)\n",
            "Requirement already satisfied: pytz>=2017.3 in /usr/local/lib/python3.8/dist-packages (from pandas!=1.0.0,!=1.0.1,!=1.0.2,!=1.1.0,>=0.25.3->pandas-profiling==2.11.0) (2022.6)\n",
            "Requirement already satisfied: six>=1.9.0 in /usr/local/lib/python3.8/dist-packages (from prompt-toolkit<2.1.0,>=2.0.0->ipython>=4.0.0->ipywidgets>=7.5.1->pandas-profiling==2.11.0) (1.15.0)\n",
            "Requirement already satisfied: wcwidth in /usr/local/lib/python3.8/dist-packages (from prompt-toolkit<2.1.0,>=2.0.0->ipython>=4.0.0->ipywidgets>=7.5.1->pandas-profiling==2.11.0) (0.2.5)\n",
            "Requirement already satisfied: idna<4,>=2.5 in /usr/local/lib/python3.8/dist-packages (from requests>=2.24.0->pandas-profiling==2.11.0) (2.10)\n",
            "Requirement already satisfied: charset-normalizer<3,>=2 in /usr/local/lib/python3.8/dist-packages (from requests>=2.24.0->pandas-profiling==2.11.0) (2.1.1)\n",
            "Requirement already satisfied: certifi>=2017.4.17 in /usr/local/lib/python3.8/dist-packages (from requests>=2.24.0->pandas-profiling==2.11.0) (2022.9.24)\n",
            "Requirement already satisfied: urllib3<1.27,>=1.21.1 in /usr/local/lib/python3.8/dist-packages (from requests>=2.24.0->pandas-profiling==2.11.0) (1.24.3)\n",
            "Requirement already satisfied: notebook>=4.4.1 in /usr/local/lib/python3.8/dist-packages (from widgetsnbextension~=3.6.0->ipywidgets>=7.5.1->pandas-profiling==2.11.0) (5.7.16)\n",
            "Requirement already satisfied: Send2Trash in /usr/local/lib/python3.8/dist-packages (from notebook>=4.4.1->widgetsnbextension~=3.6.0->ipywidgets>=7.5.1->pandas-profiling==2.11.0) (1.8.0)\n",
            "Requirement already satisfied: pyzmq>=17 in /usr/local/lib/python3.8/dist-packages (from notebook>=4.4.1->widgetsnbextension~=3.6.0->ipywidgets>=7.5.1->pandas-profiling==2.11.0) (23.2.1)\n",
            "Requirement already satisfied: nbformat in /usr/local/lib/python3.8/dist-packages (from notebook>=4.4.1->widgetsnbextension~=3.6.0->ipywidgets>=7.5.1->pandas-profiling==2.11.0) (5.7.0)\n",
            "Requirement already satisfied: prometheus-client in /usr/local/lib/python3.8/dist-packages (from notebook>=4.4.1->widgetsnbextension~=3.6.0->ipywidgets>=7.5.1->pandas-profiling==2.11.0) (0.15.0)\n",
            "Requirement already satisfied: nbconvert<6.0 in /usr/local/lib/python3.8/dist-packages (from notebook>=4.4.1->widgetsnbextension~=3.6.0->ipywidgets>=7.5.1->pandas-profiling==2.11.0) (5.6.1)\n",
            "Requirement already satisfied: jupyter-core>=4.4.0 in /usr/local/lib/python3.8/dist-packages (from notebook>=4.4.1->widgetsnbextension~=3.6.0->ipywidgets>=7.5.1->pandas-profiling==2.11.0) (4.11.2)\n",
            "Requirement already satisfied: terminado>=0.8.1 in /usr/local/lib/python3.8/dist-packages (from notebook>=4.4.1->widgetsnbextension~=3.6.0->ipywidgets>=7.5.1->pandas-profiling==2.11.0) (0.13.3)\n",
            "Requirement already satisfied: pandocfilters>=1.4.1 in /usr/local/lib/python3.8/dist-packages (from nbconvert<6.0->notebook>=4.4.1->widgetsnbextension~=3.6.0->ipywidgets>=7.5.1->pandas-profiling==2.11.0) (1.5.0)\n",
            "Requirement already satisfied: testpath in /usr/local/lib/python3.8/dist-packages (from nbconvert<6.0->notebook>=4.4.1->widgetsnbextension~=3.6.0->ipywidgets>=7.5.1->pandas-profiling==2.11.0) (0.6.0)\n",
            "Requirement already satisfied: mistune<2,>=0.8.1 in /usr/local/lib/python3.8/dist-packages (from nbconvert<6.0->notebook>=4.4.1->widgetsnbextension~=3.6.0->ipywidgets>=7.5.1->pandas-profiling==2.11.0) (0.8.4)\n",
            "Requirement already satisfied: entrypoints>=0.2.2 in /usr/local/lib/python3.8/dist-packages (from nbconvert<6.0->notebook>=4.4.1->widgetsnbextension~=3.6.0->ipywidgets>=7.5.1->pandas-profiling==2.11.0) (0.4)\n",
            "Requirement already satisfied: defusedxml in /usr/local/lib/python3.8/dist-packages (from nbconvert<6.0->notebook>=4.4.1->widgetsnbextension~=3.6.0->ipywidgets>=7.5.1->pandas-profiling==2.11.0) (0.7.1)\n",
            "Requirement already satisfied: bleach in /usr/local/lib/python3.8/dist-packages (from nbconvert<6.0->notebook>=4.4.1->widgetsnbextension~=3.6.0->ipywidgets>=7.5.1->pandas-profiling==2.11.0) (5.0.1)\n",
            "Requirement already satisfied: jsonschema>=2.6 in /usr/local/lib/python3.8/dist-packages (from nbformat->notebook>=4.4.1->widgetsnbextension~=3.6.0->ipywidgets>=7.5.1->pandas-profiling==2.11.0) (4.3.3)\n",
            "Requirement already satisfied: fastjsonschema in /usr/local/lib/python3.8/dist-packages (from nbformat->notebook>=4.4.1->widgetsnbextension~=3.6.0->ipywidgets>=7.5.1->pandas-profiling==2.11.0) (2.16.2)\n",
            "Requirement already satisfied: importlib-resources>=1.4.0 in /usr/local/lib/python3.8/dist-packages (from jsonschema>=2.6->nbformat->notebook>=4.4.1->widgetsnbextension~=3.6.0->ipywidgets>=7.5.1->pandas-profiling==2.11.0) (5.10.0)\n",
            "Requirement already satisfied: pyrsistent!=0.17.0,!=0.17.1,!=0.17.2,>=0.14.0 in /usr/local/lib/python3.8/dist-packages (from jsonschema>=2.6->nbformat->notebook>=4.4.1->widgetsnbextension~=3.6.0->ipywidgets>=7.5.1->pandas-profiling==2.11.0) (0.19.2)\n",
            "Requirement already satisfied: zipp>=3.1.0 in /usr/local/lib/python3.8/dist-packages (from importlib-resources>=1.4.0->jsonschema>=2.6->nbformat->notebook>=4.4.1->widgetsnbextension~=3.6.0->ipywidgets>=7.5.1->pandas-profiling==2.11.0) (3.10.0)\n",
            "Requirement already satisfied: ptyprocess in /usr/local/lib/python3.8/dist-packages (from terminado>=0.8.1->notebook>=4.4.1->widgetsnbextension~=3.6.0->ipywidgets>=7.5.1->pandas-profiling==2.11.0) (0.7.0)\n",
            "Requirement already satisfied: webencodings in /usr/local/lib/python3.8/dist-packages (from bleach->nbconvert<6.0->notebook>=4.4.1->widgetsnbextension~=3.6.0->ipywidgets>=7.5.1->pandas-profiling==2.11.0) (0.5.1)\n",
            "Requirement already satisfied: PyWavelets in /usr/local/lib/python3.8/dist-packages (from imagehash->visions[type_image_path]==0.6.0->pandas-profiling==2.11.0) (1.3.0)\n",
            "Looking in indexes: https://pypi.org/simple, https://us-python.pkg.dev/colab-wheels/public/simple/\n",
            "Requirement already satisfied: category_encoders in /usr/local/lib/python3.8/dist-packages (2.5.1.post0)\n",
            "Requirement already satisfied: patsy>=0.5.1 in /usr/local/lib/python3.8/dist-packages (from category_encoders) (0.5.3)\n",
            "Requirement already satisfied: numpy>=1.14.0 in /usr/local/lib/python3.8/dist-packages (from category_encoders) (1.21.6)\n",
            "Requirement already satisfied: scikit-learn>=0.20.0 in /usr/local/lib/python3.8/dist-packages (from category_encoders) (0.24.2)\n",
            "Requirement already satisfied: statsmodels>=0.9.0 in /usr/local/lib/python3.8/dist-packages (from category_encoders) (0.12.2)\n",
            "Requirement already satisfied: scipy>=1.0.0 in /usr/local/lib/python3.8/dist-packages (from category_encoders) (1.7.3)\n",
            "Requirement already satisfied: pandas>=1.0.5 in /usr/local/lib/python3.8/dist-packages (from category_encoders) (1.3.5)\n",
            "Requirement already satisfied: pytz>=2017.3 in /usr/local/lib/python3.8/dist-packages (from pandas>=1.0.5->category_encoders) (2022.6)\n",
            "Requirement already satisfied: python-dateutil>=2.7.3 in /usr/local/lib/python3.8/dist-packages (from pandas>=1.0.5->category_encoders) (2.8.2)\n",
            "Requirement already satisfied: six in /usr/local/lib/python3.8/dist-packages (from patsy>=0.5.1->category_encoders) (1.15.0)\n",
            "Requirement already satisfied: joblib>=0.11 in /usr/local/lib/python3.8/dist-packages (from scikit-learn>=0.20.0->category_encoders) (1.2.0)\n",
            "Requirement already satisfied: threadpoolctl>=2.0.0 in /usr/local/lib/python3.8/dist-packages (from scikit-learn>=0.20.0->category_encoders) (3.1.0)\n"
          ]
        }
      ]
    },
    {
      "cell_type": "code",
      "source": [
        "import matplotlib.pyplot as plt\n",
        "plt.rc('font', family='NanumBarunGothic')"
      ],
      "metadata": {
        "id": "KlQwwG-yPPaq"
      },
      "execution_count": 4,
      "outputs": []
    },
    {
      "cell_type": "code",
      "execution_count": 5,
      "metadata": {
        "colab": {
          "base_uri": "https://localhost:8080/"
        },
        "outputId": "ff69bd0a-51fd-4b12-f80f-c729a157b5e4",
        "id": "fyzxfzT6PPaq"
      },
      "outputs": [
        {
          "output_type": "stream",
          "name": "stdout",
          "text": [
            "Mounted at /content/gdrive/\n"
          ]
        }
      ],
      "source": [
        "from google.colab import drive\n",
        "drive.mount('/content/gdrive/')"
      ]
    },
    {
      "cell_type": "code",
      "source": [
        "movies = pd.read_csv('/content/gdrive/MyDrive/Colab Notebooks/movies10_22.csv')"
      ],
      "metadata": {
        "id": "_3zzoMubWFf4"
      },
      "execution_count": 6,
      "outputs": []
    },
    {
      "cell_type": "code",
      "source": [
        "df = movies.copy()"
      ],
      "metadata": {
        "id": "7bdIseFaVzzh"
      },
      "execution_count": 7,
      "outputs": []
    },
    {
      "cell_type": "markdown",
      "source": [
        "# 생략 (전처리 전)"
      ],
      "metadata": {
        "id": "ImYDWn0MVb1B"
      }
    },
    {
      "cell_type": "code",
      "source": [
        "original = pd.read_csv('/content/gdrive/MyDrive/Colab Notebooks/KOBIS_개봉일람.csv')"
      ],
      "metadata": {
        "id": "EdZrUrvxpKdm"
      },
      "execution_count": 28,
      "outputs": []
    },
    {
      "cell_type": "code",
      "source": [
        "original.head(3)"
      ],
      "metadata": {
        "id": "im2V8TmQpckp",
        "colab": {
          "base_uri": "https://localhost:8080/",
          "height": 309
        },
        "outputId": "84331954-ba12-4b2e-c461-5e484884bd7e"
      },
      "execution_count": 29,
      "outputs": [
        {
          "output_type": "execute_result",
          "data": {
            "text/plain": [
              "   순번        영화명   감독                             제작사  수입사            배급사  \\\n",
              "0   1         명량  김한민                       (주)빅스톤픽쳐스  NaN      (주)씨제이이엔엠   \n",
              "1   2       극한직업  이병헌  (주)어바웃잇,영화사 해그림 주식회사,(주)씨제이이엔엠  NaN      (주)씨제이이엔엠   \n",
              "2   3  신과함께-죄와 벌  김용화          리얼라이즈픽쳐스(주),(주)덱스터스튜디오  NaN  롯데쇼핑㈜롯데엔터테인먼트   \n",
              "\n",
              "          개봉일  영화유형 영화형태  국적 전국 스크린수           전국 매출액      전국 관객수  \\\n",
              "0  2014-07-30  개봉영화   장편  한국   1,587  135,748,398,910  17,613,682   \n",
              "1  2019-01-23  개봉영화   장편  한국   1,978  139,647,979,516  16,264,944   \n",
              "2  2017-12-20  개봉영화   장편  한국   1,912  115,698,654,137  14,410,754   \n",
              "\n",
              "           서울 매출액     서울 관객수   장르        등급  영화구분  \n",
              "0  33,121,225,810  4,163,666   사극  15세이상관람가  일반영화  \n",
              "1  31,858,660,536  3,638,287  코미디  15세이상관람가  일반영화  \n",
              "2  27,530,825,087  3,346,172  판타지  12세이상관람가  일반영화  "
            ],
            "text/html": [
              "\n",
              "  <div id=\"df-715d3c97-96a5-4b13-b009-d5424bc3ed8e\">\n",
              "    <div class=\"colab-df-container\">\n",
              "      <div>\n",
              "<style scoped>\n",
              "    .dataframe tbody tr th:only-of-type {\n",
              "        vertical-align: middle;\n",
              "    }\n",
              "\n",
              "    .dataframe tbody tr th {\n",
              "        vertical-align: top;\n",
              "    }\n",
              "\n",
              "    .dataframe thead th {\n",
              "        text-align: right;\n",
              "    }\n",
              "</style>\n",
              "<table border=\"1\" class=\"dataframe\">\n",
              "  <thead>\n",
              "    <tr style=\"text-align: right;\">\n",
              "      <th></th>\n",
              "      <th>순번</th>\n",
              "      <th>영화명</th>\n",
              "      <th>감독</th>\n",
              "      <th>제작사</th>\n",
              "      <th>수입사</th>\n",
              "      <th>배급사</th>\n",
              "      <th>개봉일</th>\n",
              "      <th>영화유형</th>\n",
              "      <th>영화형태</th>\n",
              "      <th>국적</th>\n",
              "      <th>전국 스크린수</th>\n",
              "      <th>전국 매출액</th>\n",
              "      <th>전국 관객수</th>\n",
              "      <th>서울 매출액</th>\n",
              "      <th>서울 관객수</th>\n",
              "      <th>장르</th>\n",
              "      <th>등급</th>\n",
              "      <th>영화구분</th>\n",
              "    </tr>\n",
              "  </thead>\n",
              "  <tbody>\n",
              "    <tr>\n",
              "      <th>0</th>\n",
              "      <td>1</td>\n",
              "      <td>명량</td>\n",
              "      <td>김한민</td>\n",
              "      <td>(주)빅스톤픽쳐스</td>\n",
              "      <td>NaN</td>\n",
              "      <td>(주)씨제이이엔엠</td>\n",
              "      <td>2014-07-30</td>\n",
              "      <td>개봉영화</td>\n",
              "      <td>장편</td>\n",
              "      <td>한국</td>\n",
              "      <td>1,587</td>\n",
              "      <td>135,748,398,910</td>\n",
              "      <td>17,613,682</td>\n",
              "      <td>33,121,225,810</td>\n",
              "      <td>4,163,666</td>\n",
              "      <td>사극</td>\n",
              "      <td>15세이상관람가</td>\n",
              "      <td>일반영화</td>\n",
              "    </tr>\n",
              "    <tr>\n",
              "      <th>1</th>\n",
              "      <td>2</td>\n",
              "      <td>극한직업</td>\n",
              "      <td>이병헌</td>\n",
              "      <td>(주)어바웃잇,영화사 해그림 주식회사,(주)씨제이이엔엠</td>\n",
              "      <td>NaN</td>\n",
              "      <td>(주)씨제이이엔엠</td>\n",
              "      <td>2019-01-23</td>\n",
              "      <td>개봉영화</td>\n",
              "      <td>장편</td>\n",
              "      <td>한국</td>\n",
              "      <td>1,978</td>\n",
              "      <td>139,647,979,516</td>\n",
              "      <td>16,264,944</td>\n",
              "      <td>31,858,660,536</td>\n",
              "      <td>3,638,287</td>\n",
              "      <td>코미디</td>\n",
              "      <td>15세이상관람가</td>\n",
              "      <td>일반영화</td>\n",
              "    </tr>\n",
              "    <tr>\n",
              "      <th>2</th>\n",
              "      <td>3</td>\n",
              "      <td>신과함께-죄와 벌</td>\n",
              "      <td>김용화</td>\n",
              "      <td>리얼라이즈픽쳐스(주),(주)덱스터스튜디오</td>\n",
              "      <td>NaN</td>\n",
              "      <td>롯데쇼핑㈜롯데엔터테인먼트</td>\n",
              "      <td>2017-12-20</td>\n",
              "      <td>개봉영화</td>\n",
              "      <td>장편</td>\n",
              "      <td>한국</td>\n",
              "      <td>1,912</td>\n",
              "      <td>115,698,654,137</td>\n",
              "      <td>14,410,754</td>\n",
              "      <td>27,530,825,087</td>\n",
              "      <td>3,346,172</td>\n",
              "      <td>판타지</td>\n",
              "      <td>12세이상관람가</td>\n",
              "      <td>일반영화</td>\n",
              "    </tr>\n",
              "  </tbody>\n",
              "</table>\n",
              "</div>\n",
              "      <button class=\"colab-df-convert\" onclick=\"convertToInteractive('df-715d3c97-96a5-4b13-b009-d5424bc3ed8e')\"\n",
              "              title=\"Convert this dataframe to an interactive table.\"\n",
              "              style=\"display:none;\">\n",
              "        \n",
              "  <svg xmlns=\"http://www.w3.org/2000/svg\" height=\"24px\"viewBox=\"0 0 24 24\"\n",
              "       width=\"24px\">\n",
              "    <path d=\"M0 0h24v24H0V0z\" fill=\"none\"/>\n",
              "    <path d=\"M18.56 5.44l.94 2.06.94-2.06 2.06-.94-2.06-.94-.94-2.06-.94 2.06-2.06.94zm-11 1L8.5 8.5l.94-2.06 2.06-.94-2.06-.94L8.5 2.5l-.94 2.06-2.06.94zm10 10l.94 2.06.94-2.06 2.06-.94-2.06-.94-.94-2.06-.94 2.06-2.06.94z\"/><path d=\"M17.41 7.96l-1.37-1.37c-.4-.4-.92-.59-1.43-.59-.52 0-1.04.2-1.43.59L10.3 9.45l-7.72 7.72c-.78.78-.78 2.05 0 2.83L4 21.41c.39.39.9.59 1.41.59.51 0 1.02-.2 1.41-.59l7.78-7.78 2.81-2.81c.8-.78.8-2.07 0-2.86zM5.41 20L4 18.59l7.72-7.72 1.47 1.35L5.41 20z\"/>\n",
              "  </svg>\n",
              "      </button>\n",
              "      \n",
              "  <style>\n",
              "    .colab-df-container {\n",
              "      display:flex;\n",
              "      flex-wrap:wrap;\n",
              "      gap: 12px;\n",
              "    }\n",
              "\n",
              "    .colab-df-convert {\n",
              "      background-color: #E8F0FE;\n",
              "      border: none;\n",
              "      border-radius: 50%;\n",
              "      cursor: pointer;\n",
              "      display: none;\n",
              "      fill: #1967D2;\n",
              "      height: 32px;\n",
              "      padding: 0 0 0 0;\n",
              "      width: 32px;\n",
              "    }\n",
              "\n",
              "    .colab-df-convert:hover {\n",
              "      background-color: #E2EBFA;\n",
              "      box-shadow: 0px 1px 2px rgba(60, 64, 67, 0.3), 0px 1px 3px 1px rgba(60, 64, 67, 0.15);\n",
              "      fill: #174EA6;\n",
              "    }\n",
              "\n",
              "    [theme=dark] .colab-df-convert {\n",
              "      background-color: #3B4455;\n",
              "      fill: #D2E3FC;\n",
              "    }\n",
              "\n",
              "    [theme=dark] .colab-df-convert:hover {\n",
              "      background-color: #434B5C;\n",
              "      box-shadow: 0px 1px 3px 1px rgba(0, 0, 0, 0.15);\n",
              "      filter: drop-shadow(0px 1px 2px rgba(0, 0, 0, 0.3));\n",
              "      fill: #FFFFFF;\n",
              "    }\n",
              "  </style>\n",
              "\n",
              "      <script>\n",
              "        const buttonEl =\n",
              "          document.querySelector('#df-715d3c97-96a5-4b13-b009-d5424bc3ed8e button.colab-df-convert');\n",
              "        buttonEl.style.display =\n",
              "          google.colab.kernel.accessAllowed ? 'block' : 'none';\n",
              "\n",
              "        async function convertToInteractive(key) {\n",
              "          const element = document.querySelector('#df-715d3c97-96a5-4b13-b009-d5424bc3ed8e');\n",
              "          const dataTable =\n",
              "            await google.colab.kernel.invokeFunction('convertToInteractive',\n",
              "                                                     [key], {});\n",
              "          if (!dataTable) return;\n",
              "\n",
              "          const docLinkHtml = 'Like what you see? Visit the ' +\n",
              "            '<a target=\"_blank\" href=https://colab.research.google.com/notebooks/data_table.ipynb>data table notebook</a>'\n",
              "            + ' to learn more about interactive tables.';\n",
              "          element.innerHTML = '';\n",
              "          dataTable['output_type'] = 'display_data';\n",
              "          await google.colab.output.renderOutput(dataTable, element);\n",
              "          const docLink = document.createElement('div');\n",
              "          docLink.innerHTML = docLinkHtml;\n",
              "          element.appendChild(docLink);\n",
              "        }\n",
              "      </script>\n",
              "    </div>\n",
              "  </div>\n",
              "  "
            ]
          },
          "metadata": {},
          "execution_count": 29
        }
      ]
    },
    {
      "cell_type": "code",
      "source": [
        "original.info()"
      ],
      "metadata": {
        "id": "OuKEk9qKr2ud",
        "colab": {
          "base_uri": "https://localhost:8080/"
        },
        "outputId": "50a5e9c1-7f41-4333-810c-3a93c7939139"
      },
      "execution_count": 30,
      "outputs": [
        {
          "output_type": "stream",
          "name": "stdout",
          "text": [
            "<class 'pandas.core.frame.DataFrame'>\n",
            "RangeIndex: 16692 entries, 0 to 16691\n",
            "Data columns (total 18 columns):\n",
            " #   Column   Non-Null Count  Dtype \n",
            "---  ------   --------------  ----- \n",
            " 0   순번       16692 non-null  int64 \n",
            " 1   영화명      16692 non-null  object\n",
            " 2   감독       15471 non-null  object\n",
            " 3   제작사      5467 non-null   object\n",
            " 4   수입사      9830 non-null   object\n",
            " 5   배급사      16676 non-null  object\n",
            " 6   개봉일      16692 non-null  object\n",
            " 7   영화유형     16692 non-null  object\n",
            " 8   영화형태     16691 non-null  object\n",
            " 9   국적       16692 non-null  object\n",
            " 10  전국 스크린수  16692 non-null  object\n",
            " 11  전국 매출액   16692 non-null  object\n",
            " 12  전국 관객수   16692 non-null  object\n",
            " 13  서울 매출액   16679 non-null  object\n",
            " 14  서울 관객수   16692 non-null  object\n",
            " 15  장르       16621 non-null  object\n",
            " 16  등급       16691 non-null  object\n",
            " 17  영화구분     16692 non-null  object\n",
            "dtypes: int64(1), object(17)\n",
            "memory usage: 2.3+ MB\n"
          ]
        }
      ]
    },
    {
      "cell_type": "code",
      "source": [
        "original.describe(include='object')"
      ],
      "metadata": {
        "id": "AQ2XMO1Ji3B1",
        "colab": {
          "base_uri": "https://localhost:8080/",
          "height": 253
        },
        "outputId": "a1de215d-ff36-49cd-c5fe-df20f82a74e7"
      },
      "execution_count": 31,
      "outputs": [
        {
          "output_type": "execute_result",
          "data": {
            "text/plain": [
              "          영화명       감독       제작사          수입사          배급사         개봉일   영화유형  \\\n",
              "count   16692    15471      5467         9830        16676       16692  16692   \n",
              "unique  16450     6819      1620          544         1037        2668      1   \n",
              "top       카르멘  버드맨 텟페이  (주)영화사가을  (주)도키엔터테인먼트  (주)도키엔터테인먼트  2017-12-07   개봉영화   \n",
              "freq        8      123       728         1505         1512          32  16692   \n",
              "\n",
              "         영화형태     국적 전국 스크린수 전국 매출액 전국 관객수 서울 매출액 서울 관객수      장르       등급  \\\n",
              "count   16691  16692   16692  16692  16692  16679  16692   16621    16691   \n",
              "unique      3     68    1051   7383   5858   6844   5139      21       12   \n",
              "top        장편     한국       1  6,000      1      0      0  멜로/로맨스  청소년관람불가   \n",
              "freq    16634   5456    8467   3075   5911   6847   6860    4743     9557   \n",
              "\n",
              "         영화구분  \n",
              "count   16692  \n",
              "unique      2  \n",
              "top      일반영화  \n",
              "freq    12168  "
            ],
            "text/html": [
              "\n",
              "  <div id=\"df-ae87f111-a1fa-4237-9034-f557cef8f5d6\">\n",
              "    <div class=\"colab-df-container\">\n",
              "      <div>\n",
              "<style scoped>\n",
              "    .dataframe tbody tr th:only-of-type {\n",
              "        vertical-align: middle;\n",
              "    }\n",
              "\n",
              "    .dataframe tbody tr th {\n",
              "        vertical-align: top;\n",
              "    }\n",
              "\n",
              "    .dataframe thead th {\n",
              "        text-align: right;\n",
              "    }\n",
              "</style>\n",
              "<table border=\"1\" class=\"dataframe\">\n",
              "  <thead>\n",
              "    <tr style=\"text-align: right;\">\n",
              "      <th></th>\n",
              "      <th>영화명</th>\n",
              "      <th>감독</th>\n",
              "      <th>제작사</th>\n",
              "      <th>수입사</th>\n",
              "      <th>배급사</th>\n",
              "      <th>개봉일</th>\n",
              "      <th>영화유형</th>\n",
              "      <th>영화형태</th>\n",
              "      <th>국적</th>\n",
              "      <th>전국 스크린수</th>\n",
              "      <th>전국 매출액</th>\n",
              "      <th>전국 관객수</th>\n",
              "      <th>서울 매출액</th>\n",
              "      <th>서울 관객수</th>\n",
              "      <th>장르</th>\n",
              "      <th>등급</th>\n",
              "      <th>영화구분</th>\n",
              "    </tr>\n",
              "  </thead>\n",
              "  <tbody>\n",
              "    <tr>\n",
              "      <th>count</th>\n",
              "      <td>16692</td>\n",
              "      <td>15471</td>\n",
              "      <td>5467</td>\n",
              "      <td>9830</td>\n",
              "      <td>16676</td>\n",
              "      <td>16692</td>\n",
              "      <td>16692</td>\n",
              "      <td>16691</td>\n",
              "      <td>16692</td>\n",
              "      <td>16692</td>\n",
              "      <td>16692</td>\n",
              "      <td>16692</td>\n",
              "      <td>16679</td>\n",
              "      <td>16692</td>\n",
              "      <td>16621</td>\n",
              "      <td>16691</td>\n",
              "      <td>16692</td>\n",
              "    </tr>\n",
              "    <tr>\n",
              "      <th>unique</th>\n",
              "      <td>16450</td>\n",
              "      <td>6819</td>\n",
              "      <td>1620</td>\n",
              "      <td>544</td>\n",
              "      <td>1037</td>\n",
              "      <td>2668</td>\n",
              "      <td>1</td>\n",
              "      <td>3</td>\n",
              "      <td>68</td>\n",
              "      <td>1051</td>\n",
              "      <td>7383</td>\n",
              "      <td>5858</td>\n",
              "      <td>6844</td>\n",
              "      <td>5139</td>\n",
              "      <td>21</td>\n",
              "      <td>12</td>\n",
              "      <td>2</td>\n",
              "    </tr>\n",
              "    <tr>\n",
              "      <th>top</th>\n",
              "      <td>카르멘</td>\n",
              "      <td>버드맨 텟페이</td>\n",
              "      <td>(주)영화사가을</td>\n",
              "      <td>(주)도키엔터테인먼트</td>\n",
              "      <td>(주)도키엔터테인먼트</td>\n",
              "      <td>2017-12-07</td>\n",
              "      <td>개봉영화</td>\n",
              "      <td>장편</td>\n",
              "      <td>한국</td>\n",
              "      <td>1</td>\n",
              "      <td>6,000</td>\n",
              "      <td>1</td>\n",
              "      <td>0</td>\n",
              "      <td>0</td>\n",
              "      <td>멜로/로맨스</td>\n",
              "      <td>청소년관람불가</td>\n",
              "      <td>일반영화</td>\n",
              "    </tr>\n",
              "    <tr>\n",
              "      <th>freq</th>\n",
              "      <td>8</td>\n",
              "      <td>123</td>\n",
              "      <td>728</td>\n",
              "      <td>1505</td>\n",
              "      <td>1512</td>\n",
              "      <td>32</td>\n",
              "      <td>16692</td>\n",
              "      <td>16634</td>\n",
              "      <td>5456</td>\n",
              "      <td>8467</td>\n",
              "      <td>3075</td>\n",
              "      <td>5911</td>\n",
              "      <td>6847</td>\n",
              "      <td>6860</td>\n",
              "      <td>4743</td>\n",
              "      <td>9557</td>\n",
              "      <td>12168</td>\n",
              "    </tr>\n",
              "  </tbody>\n",
              "</table>\n",
              "</div>\n",
              "      <button class=\"colab-df-convert\" onclick=\"convertToInteractive('df-ae87f111-a1fa-4237-9034-f557cef8f5d6')\"\n",
              "              title=\"Convert this dataframe to an interactive table.\"\n",
              "              style=\"display:none;\">\n",
              "        \n",
              "  <svg xmlns=\"http://www.w3.org/2000/svg\" height=\"24px\"viewBox=\"0 0 24 24\"\n",
              "       width=\"24px\">\n",
              "    <path d=\"M0 0h24v24H0V0z\" fill=\"none\"/>\n",
              "    <path d=\"M18.56 5.44l.94 2.06.94-2.06 2.06-.94-2.06-.94-.94-2.06-.94 2.06-2.06.94zm-11 1L8.5 8.5l.94-2.06 2.06-.94-2.06-.94L8.5 2.5l-.94 2.06-2.06.94zm10 10l.94 2.06.94-2.06 2.06-.94-2.06-.94-.94-2.06-.94 2.06-2.06.94z\"/><path d=\"M17.41 7.96l-1.37-1.37c-.4-.4-.92-.59-1.43-.59-.52 0-1.04.2-1.43.59L10.3 9.45l-7.72 7.72c-.78.78-.78 2.05 0 2.83L4 21.41c.39.39.9.59 1.41.59.51 0 1.02-.2 1.41-.59l7.78-7.78 2.81-2.81c.8-.78.8-2.07 0-2.86zM5.41 20L4 18.59l7.72-7.72 1.47 1.35L5.41 20z\"/>\n",
              "  </svg>\n",
              "      </button>\n",
              "      \n",
              "  <style>\n",
              "    .colab-df-container {\n",
              "      display:flex;\n",
              "      flex-wrap:wrap;\n",
              "      gap: 12px;\n",
              "    }\n",
              "\n",
              "    .colab-df-convert {\n",
              "      background-color: #E8F0FE;\n",
              "      border: none;\n",
              "      border-radius: 50%;\n",
              "      cursor: pointer;\n",
              "      display: none;\n",
              "      fill: #1967D2;\n",
              "      height: 32px;\n",
              "      padding: 0 0 0 0;\n",
              "      width: 32px;\n",
              "    }\n",
              "\n",
              "    .colab-df-convert:hover {\n",
              "      background-color: #E2EBFA;\n",
              "      box-shadow: 0px 1px 2px rgba(60, 64, 67, 0.3), 0px 1px 3px 1px rgba(60, 64, 67, 0.15);\n",
              "      fill: #174EA6;\n",
              "    }\n",
              "\n",
              "    [theme=dark] .colab-df-convert {\n",
              "      background-color: #3B4455;\n",
              "      fill: #D2E3FC;\n",
              "    }\n",
              "\n",
              "    [theme=dark] .colab-df-convert:hover {\n",
              "      background-color: #434B5C;\n",
              "      box-shadow: 0px 1px 3px 1px rgba(0, 0, 0, 0.15);\n",
              "      filter: drop-shadow(0px 1px 2px rgba(0, 0, 0, 0.3));\n",
              "      fill: #FFFFFF;\n",
              "    }\n",
              "  </style>\n",
              "\n",
              "      <script>\n",
              "        const buttonEl =\n",
              "          document.querySelector('#df-ae87f111-a1fa-4237-9034-f557cef8f5d6 button.colab-df-convert');\n",
              "        buttonEl.style.display =\n",
              "          google.colab.kernel.accessAllowed ? 'block' : 'none';\n",
              "\n",
              "        async function convertToInteractive(key) {\n",
              "          const element = document.querySelector('#df-ae87f111-a1fa-4237-9034-f557cef8f5d6');\n",
              "          const dataTable =\n",
              "            await google.colab.kernel.invokeFunction('convertToInteractive',\n",
              "                                                     [key], {});\n",
              "          if (!dataTable) return;\n",
              "\n",
              "          const docLinkHtml = 'Like what you see? Visit the ' +\n",
              "            '<a target=\"_blank\" href=https://colab.research.google.com/notebooks/data_table.ipynb>data table notebook</a>'\n",
              "            + ' to learn more about interactive tables.';\n",
              "          element.innerHTML = '';\n",
              "          dataTable['output_type'] = 'display_data';\n",
              "          await google.colab.output.renderOutput(dataTable, element);\n",
              "          const docLink = document.createElement('div');\n",
              "          docLink.innerHTML = docLinkHtml;\n",
              "          element.appendChild(docLink);\n",
              "        }\n",
              "      </script>\n",
              "    </div>\n",
              "  </div>\n",
              "  "
            ]
          },
          "metadata": {},
          "execution_count": 31
        }
      ]
    },
    {
      "cell_type": "code",
      "source": [
        "df = original.copy()"
      ],
      "metadata": {
        "id": "CQ3_UOwzvPrb"
      },
      "execution_count": 32,
      "outputs": []
    },
    {
      "cell_type": "markdown",
      "source": [
        "#생략 (데이터 전처리)"
      ],
      "metadata": {
        "id": "E3XxFYaZn8BN"
      }
    },
    {
      "cell_type": "markdown",
      "source": [
        "##drop (순번/제작사/수입사)"
      ],
      "metadata": {
        "id": "qr2LVNuJ_lj7"
      }
    },
    {
      "cell_type": "code",
      "source": [
        "#순번 : 의미 없음\n",
        "df = df.drop(['순번'], axis = 1)\n",
        "#제작사, 수입사 : 결측치 너무 많음\n",
        "df = df.drop(['제작사', '수입사'], axis = 1)"
      ],
      "metadata": {
        "id": "RIDj0maoraMQ"
      },
      "execution_count": 33,
      "outputs": []
    },
    {
      "cell_type": "code",
      "source": [
        "df.head(3)"
      ],
      "metadata": {
        "id": "Xut0m2VQvxSK",
        "colab": {
          "base_uri": "https://localhost:8080/",
          "height": 257
        },
        "outputId": "5b85fdec-e2af-4933-a1e3-5c46079e3425"
      },
      "execution_count": 34,
      "outputs": [
        {
          "output_type": "execute_result",
          "data": {
            "text/plain": [
              "         영화명   감독            배급사         개봉일  영화유형 영화형태  국적 전국 스크린수  \\\n",
              "0         명량  김한민      (주)씨제이이엔엠  2014-07-30  개봉영화   장편  한국   1,587   \n",
              "1       극한직업  이병헌      (주)씨제이이엔엠  2019-01-23  개봉영화   장편  한국   1,978   \n",
              "2  신과함께-죄와 벌  김용화  롯데쇼핑㈜롯데엔터테인먼트  2017-12-20  개봉영화   장편  한국   1,912   \n",
              "\n",
              "            전국 매출액      전국 관객수          서울 매출액     서울 관객수   장르        등급  영화구분  \n",
              "0  135,748,398,910  17,613,682  33,121,225,810  4,163,666   사극  15세이상관람가  일반영화  \n",
              "1  139,647,979,516  16,264,944  31,858,660,536  3,638,287  코미디  15세이상관람가  일반영화  \n",
              "2  115,698,654,137  14,410,754  27,530,825,087  3,346,172  판타지  12세이상관람가  일반영화  "
            ],
            "text/html": [
              "\n",
              "  <div id=\"df-e0959a43-706f-45b8-bab1-3a83d365c0f0\">\n",
              "    <div class=\"colab-df-container\">\n",
              "      <div>\n",
              "<style scoped>\n",
              "    .dataframe tbody tr th:only-of-type {\n",
              "        vertical-align: middle;\n",
              "    }\n",
              "\n",
              "    .dataframe tbody tr th {\n",
              "        vertical-align: top;\n",
              "    }\n",
              "\n",
              "    .dataframe thead th {\n",
              "        text-align: right;\n",
              "    }\n",
              "</style>\n",
              "<table border=\"1\" class=\"dataframe\">\n",
              "  <thead>\n",
              "    <tr style=\"text-align: right;\">\n",
              "      <th></th>\n",
              "      <th>영화명</th>\n",
              "      <th>감독</th>\n",
              "      <th>배급사</th>\n",
              "      <th>개봉일</th>\n",
              "      <th>영화유형</th>\n",
              "      <th>영화형태</th>\n",
              "      <th>국적</th>\n",
              "      <th>전국 스크린수</th>\n",
              "      <th>전국 매출액</th>\n",
              "      <th>전국 관객수</th>\n",
              "      <th>서울 매출액</th>\n",
              "      <th>서울 관객수</th>\n",
              "      <th>장르</th>\n",
              "      <th>등급</th>\n",
              "      <th>영화구분</th>\n",
              "    </tr>\n",
              "  </thead>\n",
              "  <tbody>\n",
              "    <tr>\n",
              "      <th>0</th>\n",
              "      <td>명량</td>\n",
              "      <td>김한민</td>\n",
              "      <td>(주)씨제이이엔엠</td>\n",
              "      <td>2014-07-30</td>\n",
              "      <td>개봉영화</td>\n",
              "      <td>장편</td>\n",
              "      <td>한국</td>\n",
              "      <td>1,587</td>\n",
              "      <td>135,748,398,910</td>\n",
              "      <td>17,613,682</td>\n",
              "      <td>33,121,225,810</td>\n",
              "      <td>4,163,666</td>\n",
              "      <td>사극</td>\n",
              "      <td>15세이상관람가</td>\n",
              "      <td>일반영화</td>\n",
              "    </tr>\n",
              "    <tr>\n",
              "      <th>1</th>\n",
              "      <td>극한직업</td>\n",
              "      <td>이병헌</td>\n",
              "      <td>(주)씨제이이엔엠</td>\n",
              "      <td>2019-01-23</td>\n",
              "      <td>개봉영화</td>\n",
              "      <td>장편</td>\n",
              "      <td>한국</td>\n",
              "      <td>1,978</td>\n",
              "      <td>139,647,979,516</td>\n",
              "      <td>16,264,944</td>\n",
              "      <td>31,858,660,536</td>\n",
              "      <td>3,638,287</td>\n",
              "      <td>코미디</td>\n",
              "      <td>15세이상관람가</td>\n",
              "      <td>일반영화</td>\n",
              "    </tr>\n",
              "    <tr>\n",
              "      <th>2</th>\n",
              "      <td>신과함께-죄와 벌</td>\n",
              "      <td>김용화</td>\n",
              "      <td>롯데쇼핑㈜롯데엔터테인먼트</td>\n",
              "      <td>2017-12-20</td>\n",
              "      <td>개봉영화</td>\n",
              "      <td>장편</td>\n",
              "      <td>한국</td>\n",
              "      <td>1,912</td>\n",
              "      <td>115,698,654,137</td>\n",
              "      <td>14,410,754</td>\n",
              "      <td>27,530,825,087</td>\n",
              "      <td>3,346,172</td>\n",
              "      <td>판타지</td>\n",
              "      <td>12세이상관람가</td>\n",
              "      <td>일반영화</td>\n",
              "    </tr>\n",
              "  </tbody>\n",
              "</table>\n",
              "</div>\n",
              "      <button class=\"colab-df-convert\" onclick=\"convertToInteractive('df-e0959a43-706f-45b8-bab1-3a83d365c0f0')\"\n",
              "              title=\"Convert this dataframe to an interactive table.\"\n",
              "              style=\"display:none;\">\n",
              "        \n",
              "  <svg xmlns=\"http://www.w3.org/2000/svg\" height=\"24px\"viewBox=\"0 0 24 24\"\n",
              "       width=\"24px\">\n",
              "    <path d=\"M0 0h24v24H0V0z\" fill=\"none\"/>\n",
              "    <path d=\"M18.56 5.44l.94 2.06.94-2.06 2.06-.94-2.06-.94-.94-2.06-.94 2.06-2.06.94zm-11 1L8.5 8.5l.94-2.06 2.06-.94-2.06-.94L8.5 2.5l-.94 2.06-2.06.94zm10 10l.94 2.06.94-2.06 2.06-.94-2.06-.94-.94-2.06-.94 2.06-2.06.94z\"/><path d=\"M17.41 7.96l-1.37-1.37c-.4-.4-.92-.59-1.43-.59-.52 0-1.04.2-1.43.59L10.3 9.45l-7.72 7.72c-.78.78-.78 2.05 0 2.83L4 21.41c.39.39.9.59 1.41.59.51 0 1.02-.2 1.41-.59l7.78-7.78 2.81-2.81c.8-.78.8-2.07 0-2.86zM5.41 20L4 18.59l7.72-7.72 1.47 1.35L5.41 20z\"/>\n",
              "  </svg>\n",
              "      </button>\n",
              "      \n",
              "  <style>\n",
              "    .colab-df-container {\n",
              "      display:flex;\n",
              "      flex-wrap:wrap;\n",
              "      gap: 12px;\n",
              "    }\n",
              "\n",
              "    .colab-df-convert {\n",
              "      background-color: #E8F0FE;\n",
              "      border: none;\n",
              "      border-radius: 50%;\n",
              "      cursor: pointer;\n",
              "      display: none;\n",
              "      fill: #1967D2;\n",
              "      height: 32px;\n",
              "      padding: 0 0 0 0;\n",
              "      width: 32px;\n",
              "    }\n",
              "\n",
              "    .colab-df-convert:hover {\n",
              "      background-color: #E2EBFA;\n",
              "      box-shadow: 0px 1px 2px rgba(60, 64, 67, 0.3), 0px 1px 3px 1px rgba(60, 64, 67, 0.15);\n",
              "      fill: #174EA6;\n",
              "    }\n",
              "\n",
              "    [theme=dark] .colab-df-convert {\n",
              "      background-color: #3B4455;\n",
              "      fill: #D2E3FC;\n",
              "    }\n",
              "\n",
              "    [theme=dark] .colab-df-convert:hover {\n",
              "      background-color: #434B5C;\n",
              "      box-shadow: 0px 1px 3px 1px rgba(0, 0, 0, 0.15);\n",
              "      filter: drop-shadow(0px 1px 2px rgba(0, 0, 0, 0.3));\n",
              "      fill: #FFFFFF;\n",
              "    }\n",
              "  </style>\n",
              "\n",
              "      <script>\n",
              "        const buttonEl =\n",
              "          document.querySelector('#df-e0959a43-706f-45b8-bab1-3a83d365c0f0 button.colab-df-convert');\n",
              "        buttonEl.style.display =\n",
              "          google.colab.kernel.accessAllowed ? 'block' : 'none';\n",
              "\n",
              "        async function convertToInteractive(key) {\n",
              "          const element = document.querySelector('#df-e0959a43-706f-45b8-bab1-3a83d365c0f0');\n",
              "          const dataTable =\n",
              "            await google.colab.kernel.invokeFunction('convertToInteractive',\n",
              "                                                     [key], {});\n",
              "          if (!dataTable) return;\n",
              "\n",
              "          const docLinkHtml = 'Like what you see? Visit the ' +\n",
              "            '<a target=\"_blank\" href=https://colab.research.google.com/notebooks/data_table.ipynb>data table notebook</a>'\n",
              "            + ' to learn more about interactive tables.';\n",
              "          element.innerHTML = '';\n",
              "          dataTable['output_type'] = 'display_data';\n",
              "          await google.colab.output.renderOutput(dataTable, element);\n",
              "          const docLink = document.createElement('div');\n",
              "          docLink.innerHTML = docLinkHtml;\n",
              "          element.appendChild(docLink);\n",
              "        }\n",
              "      </script>\n",
              "    </div>\n",
              "  </div>\n",
              "  "
            ]
          },
          "metadata": {},
          "execution_count": 34
        }
      ]
    },
    {
      "cell_type": "code",
      "source": [
        "#영화유형 : ?\n",
        "df['영화유형'].value_counts()"
      ],
      "metadata": {
        "id": "SRWemFYouuWA",
        "colab": {
          "base_uri": "https://localhost:8080/"
        },
        "outputId": "52d22a16-4526-43fd-e678-0730688cb418"
      },
      "execution_count": 35,
      "outputs": [
        {
          "output_type": "execute_result",
          "data": {
            "text/plain": [
              "개봉영화    16692\n",
              "Name: 영화유형, dtype: int64"
            ]
          },
          "metadata": {},
          "execution_count": 35
        }
      ]
    },
    {
      "cell_type": "code",
      "source": [
        "df = df.drop(['영화유형'], axis = 1)"
      ],
      "metadata": {
        "id": "Q53AygUQwAxz"
      },
      "execution_count": 36,
      "outputs": []
    },
    {
      "cell_type": "markdown",
      "source": [
        "##replace (영화구분/등급)\n",
        "\n"
      ],
      "metadata": {
        "id": "UObyFTWc_o8S"
      }
    },
    {
      "cell_type": "code",
      "source": [
        "df['영화구분'].value_counts()"
      ],
      "metadata": {
        "id": "eRx_Nxb05SuL",
        "colab": {
          "base_uri": "https://localhost:8080/"
        },
        "outputId": "30aaac07-eb81-4cdd-d6bf-4e3ba698ca7b"
      },
      "execution_count": 37,
      "outputs": [
        {
          "output_type": "execute_result",
          "data": {
            "text/plain": [
              "일반영화       12168\n",
              "독립/예술영화     4524\n",
              "Name: 영화구분, dtype: int64"
            ]
          },
          "metadata": {},
          "execution_count": 37
        }
      ]
    },
    {
      "cell_type": "code",
      "source": [
        "def replace_영화구분(x) :\n",
        "  x = str(x)\n",
        "  if '일반영화' in x :\n",
        "    return '일반'\n",
        "  elif '독립/예술영화' in x :\n",
        "    return '독립'\n",
        "  else :\n",
        "    return x"
      ],
      "metadata": {
        "id": "VY3C-O_bTHmk"
      },
      "execution_count": 38,
      "outputs": []
    },
    {
      "cell_type": "code",
      "source": [
        "df['영화구분'] = df['영화구분'].apply(replace_영화구분)"
      ],
      "metadata": {
        "id": "PrgCC-omTLtI"
      },
      "execution_count": 39,
      "outputs": []
    },
    {
      "cell_type": "code",
      "source": [
        "df['영화구분'].value_counts()"
      ],
      "metadata": {
        "colab": {
          "base_uri": "https://localhost:8080/"
        },
        "id": "Cc6o-S4kTMbK",
        "outputId": "36b44d7e-9093-448c-f846-d0526c0ada46"
      },
      "execution_count": 40,
      "outputs": [
        {
          "output_type": "execute_result",
          "data": {
            "text/plain": [
              "일반    12168\n",
              "독립     4524\n",
              "Name: 영화구분, dtype: int64"
            ]
          },
          "metadata": {},
          "execution_count": 40
        }
      ]
    },
    {
      "cell_type": "code",
      "source": [
        "df['등급'].value_counts()"
      ],
      "metadata": {
        "id": "gLsmAORi5cCS",
        "colab": {
          "base_uri": "https://localhost:8080/"
        },
        "outputId": "880b14ca-7593-4749-e867-af9b4b7490fb"
      },
      "execution_count": 41,
      "outputs": [
        {
          "output_type": "execute_result",
          "data": {
            "text/plain": [
              "청소년관람불가              9557\n",
              "15세이상관람가             3565\n",
              "12세이상관람가             1923\n",
              "전체관람가                1634\n",
              "15세관람가                  3\n",
              "청소년관람불가,15세이상관람가        2\n",
              "12세이상관람가,전체관람가          2\n",
              "12세관람가                  1\n",
              "12세이상관람가,15세이상관람가       1\n",
              "15세이상관람가,전체관람가          1\n",
              "연소자관람불가,청소년관람불가         1\n",
              "15세관람가,12세이상관람가         1\n",
              "Name: 등급, dtype: int64"
            ]
          },
          "metadata": {},
          "execution_count": 41
        }
      ]
    },
    {
      "cell_type": "code",
      "source": [
        "def replace_등급(x) :\n",
        "  x = str(x)\n",
        "  if '청소년관람불가' in x :\n",
        "    return '청소년관람불가'\n",
        "  elif '15세' in x :\n",
        "    return '15세이상관람가'\n",
        "  elif '12세' in x :\n",
        "    return '12세이상관람가'\n",
        "  else :\n",
        "    return x"
      ],
      "metadata": {
        "id": "ij60oOHD58PQ"
      },
      "execution_count": 42,
      "outputs": []
    },
    {
      "cell_type": "code",
      "source": [
        "df['등급'] = df['등급'].apply(replace_등급)"
      ],
      "metadata": {
        "id": "rmLy6lrp541q"
      },
      "execution_count": 43,
      "outputs": []
    },
    {
      "cell_type": "code",
      "source": [
        "df['등급'].value_counts()"
      ],
      "metadata": {
        "id": "k-8YYnuP-Kto",
        "colab": {
          "base_uri": "https://localhost:8080/"
        },
        "outputId": "dcd95a00-5075-4aed-acd4-de5bbd30d4bb"
      },
      "execution_count": 44,
      "outputs": [
        {
          "output_type": "execute_result",
          "data": {
            "text/plain": [
              "청소년관람불가     9560\n",
              "15세이상관람가    3571\n",
              "12세이상관람가    1926\n",
              "전체관람가       1634\n",
              "nan            1\n",
              "Name: 등급, dtype: int64"
            ]
          },
          "metadata": {},
          "execution_count": 44
        }
      ]
    },
    {
      "cell_type": "code",
      "source": [
        "df.loc[df['등급'] == 'nan']"
      ],
      "metadata": {
        "id": "QD3IiQZ_-ecI",
        "colab": {
          "base_uri": "https://localhost:8080/",
          "height": 159
        },
        "outputId": "513177df-e76d-4cd2-ca18-854dab48195a"
      },
      "execution_count": 45,
      "outputs": [
        {
          "output_type": "execute_result",
          "data": {
            "text/plain": [
              "                    영화명   감독           배급사         개봉일 영화형태  국적 전국 스크린수  \\\n",
              "9297  내가 먼저 깃발 꽂은 예비 신부  이진선  (주)샤이커뮤니케이션즈  2022-10-20   장편  한국       1   \n",
              "\n",
              "       전국 매출액 전국 관객수   서울 매출액 서울 관객수       장르   등급 영화구분  \n",
              "9297  100,000     20  100,000     20  성인물(에로)  nan   일반  "
            ],
            "text/html": [
              "\n",
              "  <div id=\"df-70922795-1a6f-41f5-8201-5aa3d153e4fc\">\n",
              "    <div class=\"colab-df-container\">\n",
              "      <div>\n",
              "<style scoped>\n",
              "    .dataframe tbody tr th:only-of-type {\n",
              "        vertical-align: middle;\n",
              "    }\n",
              "\n",
              "    .dataframe tbody tr th {\n",
              "        vertical-align: top;\n",
              "    }\n",
              "\n",
              "    .dataframe thead th {\n",
              "        text-align: right;\n",
              "    }\n",
              "</style>\n",
              "<table border=\"1\" class=\"dataframe\">\n",
              "  <thead>\n",
              "    <tr style=\"text-align: right;\">\n",
              "      <th></th>\n",
              "      <th>영화명</th>\n",
              "      <th>감독</th>\n",
              "      <th>배급사</th>\n",
              "      <th>개봉일</th>\n",
              "      <th>영화형태</th>\n",
              "      <th>국적</th>\n",
              "      <th>전국 스크린수</th>\n",
              "      <th>전국 매출액</th>\n",
              "      <th>전국 관객수</th>\n",
              "      <th>서울 매출액</th>\n",
              "      <th>서울 관객수</th>\n",
              "      <th>장르</th>\n",
              "      <th>등급</th>\n",
              "      <th>영화구분</th>\n",
              "    </tr>\n",
              "  </thead>\n",
              "  <tbody>\n",
              "    <tr>\n",
              "      <th>9297</th>\n",
              "      <td>내가 먼저 깃발 꽂은 예비 신부</td>\n",
              "      <td>이진선</td>\n",
              "      <td>(주)샤이커뮤니케이션즈</td>\n",
              "      <td>2022-10-20</td>\n",
              "      <td>장편</td>\n",
              "      <td>한국</td>\n",
              "      <td>1</td>\n",
              "      <td>100,000</td>\n",
              "      <td>20</td>\n",
              "      <td>100,000</td>\n",
              "      <td>20</td>\n",
              "      <td>성인물(에로)</td>\n",
              "      <td>nan</td>\n",
              "      <td>일반</td>\n",
              "    </tr>\n",
              "  </tbody>\n",
              "</table>\n",
              "</div>\n",
              "      <button class=\"colab-df-convert\" onclick=\"convertToInteractive('df-70922795-1a6f-41f5-8201-5aa3d153e4fc')\"\n",
              "              title=\"Convert this dataframe to an interactive table.\"\n",
              "              style=\"display:none;\">\n",
              "        \n",
              "  <svg xmlns=\"http://www.w3.org/2000/svg\" height=\"24px\"viewBox=\"0 0 24 24\"\n",
              "       width=\"24px\">\n",
              "    <path d=\"M0 0h24v24H0V0z\" fill=\"none\"/>\n",
              "    <path d=\"M18.56 5.44l.94 2.06.94-2.06 2.06-.94-2.06-.94-.94-2.06-.94 2.06-2.06.94zm-11 1L8.5 8.5l.94-2.06 2.06-.94-2.06-.94L8.5 2.5l-.94 2.06-2.06.94zm10 10l.94 2.06.94-2.06 2.06-.94-2.06-.94-.94-2.06-.94 2.06-2.06.94z\"/><path d=\"M17.41 7.96l-1.37-1.37c-.4-.4-.92-.59-1.43-.59-.52 0-1.04.2-1.43.59L10.3 9.45l-7.72 7.72c-.78.78-.78 2.05 0 2.83L4 21.41c.39.39.9.59 1.41.59.51 0 1.02-.2 1.41-.59l7.78-7.78 2.81-2.81c.8-.78.8-2.07 0-2.86zM5.41 20L4 18.59l7.72-7.72 1.47 1.35L5.41 20z\"/>\n",
              "  </svg>\n",
              "      </button>\n",
              "      \n",
              "  <style>\n",
              "    .colab-df-container {\n",
              "      display:flex;\n",
              "      flex-wrap:wrap;\n",
              "      gap: 12px;\n",
              "    }\n",
              "\n",
              "    .colab-df-convert {\n",
              "      background-color: #E8F0FE;\n",
              "      border: none;\n",
              "      border-radius: 50%;\n",
              "      cursor: pointer;\n",
              "      display: none;\n",
              "      fill: #1967D2;\n",
              "      height: 32px;\n",
              "      padding: 0 0 0 0;\n",
              "      width: 32px;\n",
              "    }\n",
              "\n",
              "    .colab-df-convert:hover {\n",
              "      background-color: #E2EBFA;\n",
              "      box-shadow: 0px 1px 2px rgba(60, 64, 67, 0.3), 0px 1px 3px 1px rgba(60, 64, 67, 0.15);\n",
              "      fill: #174EA6;\n",
              "    }\n",
              "\n",
              "    [theme=dark] .colab-df-convert {\n",
              "      background-color: #3B4455;\n",
              "      fill: #D2E3FC;\n",
              "    }\n",
              "\n",
              "    [theme=dark] .colab-df-convert:hover {\n",
              "      background-color: #434B5C;\n",
              "      box-shadow: 0px 1px 3px 1px rgba(0, 0, 0, 0.15);\n",
              "      filter: drop-shadow(0px 1px 2px rgba(0, 0, 0, 0.3));\n",
              "      fill: #FFFFFF;\n",
              "    }\n",
              "  </style>\n",
              "\n",
              "      <script>\n",
              "        const buttonEl =\n",
              "          document.querySelector('#df-70922795-1a6f-41f5-8201-5aa3d153e4fc button.colab-df-convert');\n",
              "        buttonEl.style.display =\n",
              "          google.colab.kernel.accessAllowed ? 'block' : 'none';\n",
              "\n",
              "        async function convertToInteractive(key) {\n",
              "          const element = document.querySelector('#df-70922795-1a6f-41f5-8201-5aa3d153e4fc');\n",
              "          const dataTable =\n",
              "            await google.colab.kernel.invokeFunction('convertToInteractive',\n",
              "                                                     [key], {});\n",
              "          if (!dataTable) return;\n",
              "\n",
              "          const docLinkHtml = 'Like what you see? Visit the ' +\n",
              "            '<a target=\"_blank\" href=https://colab.research.google.com/notebooks/data_table.ipynb>data table notebook</a>'\n",
              "            + ' to learn more about interactive tables.';\n",
              "          element.innerHTML = '';\n",
              "          dataTable['output_type'] = 'display_data';\n",
              "          await google.colab.output.renderOutput(dataTable, element);\n",
              "          const docLink = document.createElement('div');\n",
              "          docLink.innerHTML = docLinkHtml;\n",
              "          element.appendChild(docLink);\n",
              "        }\n",
              "      </script>\n",
              "    </div>\n",
              "  </div>\n",
              "  "
            ]
          },
          "metadata": {},
          "execution_count": 45
        }
      ]
    },
    {
      "cell_type": "code",
      "source": [
        "df['등급'] = df['등급'].str.replace('nan', '청소년관람불가')"
      ],
      "metadata": {
        "id": "MAbZHF5w_N_7"
      },
      "execution_count": 46,
      "outputs": []
    },
    {
      "cell_type": "code",
      "source": [
        "df['등급'].value_counts()"
      ],
      "metadata": {
        "id": "2yBRafGd_dv7",
        "colab": {
          "base_uri": "https://localhost:8080/"
        },
        "outputId": "0a2a13f3-bb78-4886-a3fe-55f66e38116f"
      },
      "execution_count": 47,
      "outputs": [
        {
          "output_type": "execute_result",
          "data": {
            "text/plain": [
              "청소년관람불가     9561\n",
              "15세이상관람가    3571\n",
              "12세이상관람가    1926\n",
              "전체관람가       1634\n",
              "Name: 등급, dtype: int64"
            ]
          },
          "metadata": {},
          "execution_count": 47
        }
      ]
    },
    {
      "cell_type": "code",
      "source": [
        "df['등급'].value_counts(normalize=True)"
      ],
      "metadata": {
        "colab": {
          "base_uri": "https://localhost:8080/"
        },
        "id": "_e0FRk3ubnNt",
        "outputId": "f8171828-6bfe-4456-b338-7cb323a5e1b1"
      },
      "execution_count": 48,
      "outputs": [
        {
          "output_type": "execute_result",
          "data": {
            "text/plain": [
              "청소년관람불가     0.572789\n",
              "15세이상관람가    0.213935\n",
              "12세이상관람가    0.115385\n",
              "전체관람가       0.097891\n",
              "Name: 등급, dtype: float64"
            ]
          },
          "metadata": {},
          "execution_count": 48
        }
      ]
    },
    {
      "cell_type": "code",
      "source": [
        "sns.countplot(data=df, x='등급')\n",
        "plt.show()"
      ],
      "metadata": {
        "id": "uuRj2ykBahRi",
        "colab": {
          "base_uri": "https://localhost:8080/",
          "height": 282
        },
        "outputId": "91645f14-59cf-44d0-c9c3-d82f4de2610d"
      },
      "execution_count": 49,
      "outputs": [
        {
          "output_type": "display_data",
          "data": {
            "text/plain": [
              "<Figure size 432x288 with 1 Axes>"
            ],
            "image/png": "[encoded data removed]"
          },
          "metadata": {
            "needs_background": "light"
          }
        }
      ]
    },
    {
      "cell_type": "code",
      "source": [
        "pd.set_option('display.max_row', 100)"
      ],
      "metadata": {
        "id": "R5SrfQ0SbmbH"
      },
      "execution_count": 50,
      "outputs": []
    },
    {
      "cell_type": "code",
      "source": [
        "df.groupby('등급')['장르'].value_counts()"
      ],
      "metadata": {
        "id": "J4BT_7gwa9aV",
        "colab": {
          "base_uri": "https://localhost:8080/"
        },
        "outputId": "689d3edd-964a-4791-d35a-c1e1e50ddf76"
      },
      "execution_count": 51,
      "outputs": [
        {
          "output_type": "execute_result",
          "data": {
            "text/plain": [
              "등급        장르      \n",
              "12세이상관람가  드라마          644\n",
              "          액션           297\n",
              "          다큐멘터리        166\n",
              "          코미디          154\n",
              "          멜로/로맨스       136\n",
              "          애니메이션        129\n",
              "          공연            71\n",
              "          SF            68\n",
              "          판타지           54\n",
              "          어드벤처          43\n",
              "          공포(호러)        23\n",
              "          미스터리          22\n",
              "          전쟁            21\n",
              "          뮤지컬           20\n",
              "          사극            18\n",
              "          가족            17\n",
              "          기타            16\n",
              "          범죄            13\n",
              "          스릴러           10\n",
              "          서부극(웨스턴)       2\n",
              "15세이상관람가  드라마          842\n",
              "          액션           825\n",
              "          공포(호러)       326\n",
              "          코미디          300\n",
              "          스릴러          232\n",
              "          멜로/로맨스       176\n",
              "          범죄           168\n",
              "          SF           137\n",
              "          미스터리         123\n",
              "          다큐멘터리         89\n",
              "          애니메이션         84\n",
              "          전쟁            73\n",
              "          판타지           67\n",
              "          어드벤처          36\n",
              "          공연            22\n",
              "          기타            20\n",
              "          사극            19\n",
              "          가족            13\n",
              "          뮤지컬           10\n",
              "          서부극(웨스턴)       7\n",
              "전체관람가     애니메이션        750\n",
              "          다큐멘터리        319\n",
              "          공연           182\n",
              "          드라마          170\n",
              "          코미디           45\n",
              "          가족            39\n",
              "          어드벤처          29\n",
              "          판타지           28\n",
              "          멜로/로맨스        21\n",
              "          액션            20\n",
              "          기타            12\n",
              "          뮤지컬           11\n",
              "          SF             5\n",
              "          사극             2\n",
              "          미스터리           1\n",
              "청소년관람불가   멜로/로맨스      4410\n",
              "          성인물(에로)     2206\n",
              "          드라마         1211\n",
              "          액션           442\n",
              "          공포(호러)       341\n",
              "          스릴러          248\n",
              "          코미디          206\n",
              "          범죄           155\n",
              "          기타            87\n",
              "          미스터리          58\n",
              "          SF            42\n",
              "          판타지           18\n",
              "          전쟁            17\n",
              "          다큐멘터리         15\n",
              "          애니메이션         15\n",
              "          사극             6\n",
              "          어드벤처           5\n",
              "          가족             4\n",
              "          서부극(웨스턴)       4\n",
              "          공연             2\n",
              "          뮤지컬            2\n",
              "Name: 장르, dtype: int64"
            ]
          },
          "metadata": {},
          "execution_count": 51
        }
      ]
    },
    {
      "cell_type": "code",
      "source": [
        "pd.set_option('display.max_row', 20)"
      ],
      "metadata": {
        "id": "OmlYdytmcTZ1"
      },
      "execution_count": 52,
      "outputs": []
    },
    {
      "cell_type": "markdown",
      "source": [
        "##결측치 및 타입 변환 (영화형태/매출액/스크린수/개봉일)"
      ],
      "metadata": {
        "id": "4t03TJPiXe9N"
      }
    },
    {
      "cell_type": "code",
      "source": [
        "df.info()"
      ],
      "metadata": {
        "id": "6diE0mVjVq81",
        "colab": {
          "base_uri": "https://localhost:8080/"
        },
        "outputId": "5ac20361-d60c-45ce-e0ed-7d5b72632866"
      },
      "execution_count": 53,
      "outputs": [
        {
          "output_type": "stream",
          "name": "stdout",
          "text": [
            "<class 'pandas.core.frame.DataFrame'>\n",
            "RangeIndex: 16692 entries, 0 to 16691\n",
            "Data columns (total 14 columns):\n",
            " #   Column   Non-Null Count  Dtype \n",
            "---  ------   --------------  ----- \n",
            " 0   영화명      16692 non-null  object\n",
            " 1   감독       15471 non-null  object\n",
            " 2   배급사      16676 non-null  object\n",
            " 3   개봉일      16692 non-null  object\n",
            " 4   영화형태     16691 non-null  object\n",
            " 5   국적       16692 non-null  object\n",
            " 6   전국 스크린수  16692 non-null  object\n",
            " 7   전국 매출액   16692 non-null  object\n",
            " 8   전국 관객수   16692 non-null  object\n",
            " 9   서울 매출액   16679 non-null  object\n",
            " 10  서울 관객수   16692 non-null  object\n",
            " 11  장르       16621 non-null  object\n",
            " 12  등급       16692 non-null  object\n",
            " 13  영화구분     16692 non-null  object\n",
            "dtypes: object(14)\n",
            "memory usage: 1.8+ MB\n"
          ]
        }
      ]
    },
    {
      "cell_type": "code",
      "source": [
        "data_null = df[df['영화형태'].isnull() | df['서울 매출액'].isnull()]\n",
        "data_null"
      ],
      "metadata": {
        "id": "2pkGh7TYVh_y",
        "colab": {
          "base_uri": "https://localhost:8080/",
          "height": 793
        },
        "outputId": "1768b570-32bb-4397-c258-3ff9f33ed86b"
      },
      "execution_count": 54,
      "outputs": [
        {
          "output_type": "execute_result",
          "data": {
            "text/plain": [
              "                영화명                           감독          배급사         개봉일  \\\n",
              "5315        기타가 웃는다                          전소현  (주)자우엔터테인먼트  2011-11-17   \n",
              "7261            비기닝                     자비에 지아놀리      판씨네마(주)  2011-10-27   \n",
              "7824           S 중독                     카모가와 테츠로  (유)조이앤컨텐츠그룹  2012-05-18   \n",
              "7888         플래닛 51  호르헤 블랑코,마르코스 마르티네즈,자비에르 아바드       (주)쇼박스  2010-10-21   \n",
              "7891            실락원                     모리타 요시미츠    에이원엔터테인먼트  2011-07-28   \n",
              "8445      가져선 안될 비밀                         알란 볼      판씨네마(주)  2011-11-03   \n",
              "8446       노라 없는 5일                     마리아나 체닐로   프리비젼엔터테인먼트  2010-10-21   \n",
              "8728          돈 조반니                     카를로스 사우라  (주)디지탈케이아이엔  2010-10-14   \n",
              "8982        춤추는 동물원                      김효정,박성용       ㈜인디스토리  2010-12-02   \n",
              "9238   고질라 - 파이널 워즈                     기타무라 류헤이          씨네힐  2011-12-07   \n",
              "9865   소중한 날의 꿈 감독판                      안재훈,한혜진    에이원엔터테인먼트  2011-11-06   \n",
              "9867    우리 만난 적 있나요                          임진평   코리아 코어 컨텐츠  2010-11-25   \n",
              "10376     세이브 어 라이프                       브라이언 보  주식회사 마운틴픽쳐스  2010-11-11   \n",
              "16689             벡                     츠츠미 유키히코  주식회사 마운틴픽쳐스  2010-11-18   \n",
              "\n",
              "      영화형태    국적 전국 스크린수     전국 매출액 전국 관객수   서울 매출액 서울 관객수       장르        등급  \\\n",
              "5315    장편    한국       2  8,467,000  1,222      NaN      0      드라마  12세이상관람가   \n",
              "7261    장편   프랑스       1    973,000    139      NaN      0      드라마  15세이상관람가   \n",
              "7824   NaN    일본       1    350,050     75  350,050     75  성인물(에로)   청소년관람불가   \n",
              "7888    장편   스페인      67    431,000     67      NaN      0    애니메이션     전체관람가   \n",
              "7891    장편    일본       1    408,000     65      NaN      0      드라마   청소년관람불가   \n",
              "8445    장편    미국       1    462,000     56      NaN      0      드라마   청소년관람불가   \n",
              "8446    장편   멕시코       9    280,000     56      NaN      0      드라마  15세이상관람가   \n",
              "8728    장편  이탈리아      16    300,000     53      NaN      0      드라마  15세이상관람가   \n",
              "8982    장편    한국       5    221,000     37      NaN      0      드라마  15세이상관람가   \n",
              "9238    장편    일본       1    120,000     20      NaN      0       액션     전체관람가   \n",
              "9865    장편    한국       1     75,000     15      NaN      0    애니메이션     전체관람가   \n",
              "9867    장편    한국       8     75,000     15      NaN      0   멜로/로맨스  12세이상관람가   \n",
              "10376   장편    미국       6     30,000      6      NaN      0      드라마  15세이상관람가   \n",
              "16689   장편    일본      30          0      0      NaN      0      드라마  12세이상관람가   \n",
              "\n",
              "      영화구분  \n",
              "5315    독립  \n",
              "7261    독립  \n",
              "7824    일반  \n",
              "7888    일반  \n",
              "7891    독립  \n",
              "8445    일반  \n",
              "8446    독립  \n",
              "8728    독립  \n",
              "8982    독립  \n",
              "9238    일반  \n",
              "9865    일반  \n",
              "9867    독립  \n",
              "10376   독립  \n",
              "16689   독립  "
            ],
            "text/html": [
              "\n",
              "  <div id=\"df-0a22771d-a6fe-4eb6-837a-9f2299bd23d0\">\n",
              "    <div class=\"colab-df-container\">\n",
              "      <div>\n",
              "<style scoped>\n",
              "    .dataframe tbody tr th:only-of-type {\n",
              "        vertical-align: middle;\n",
              "    }\n",
              "\n",
              "    .dataframe tbody tr th {\n",
              "        vertical-align: top;\n",
              "    }\n",
              "\n",
              "    .dataframe thead th {\n",
              "        text-align: right;\n",
              "    }\n",
              "</style>\n",
              "<table border=\"1\" class=\"dataframe\">\n",
              "  <thead>\n",
              "    <tr style=\"text-align: right;\">\n",
              "      <th></th>\n",
              "      <th>영화명</th>\n",
              "      <th>감독</th>\n",
              "      <th>배급사</th>\n",
              "      <th>개봉일</th>\n",
              "      <th>영화형태</th>\n",
              "      <th>국적</th>\n",
              "      <th>전국 스크린수</th>\n",
              "      <th>전국 매출액</th>\n",
              "      <th>전국 관객수</th>\n",
              "      <th>서울 매출액</th>\n",
              "      <th>서울 관객수</th>\n",
              "      <th>장르</th>\n",
              "      <th>등급</th>\n",
              "      <th>영화구분</th>\n",
              "    </tr>\n",
              "  </thead>\n",
              "  <tbody>\n",
              "    <tr>\n",
              "      <th>5315</th>\n",
              "      <td>기타가 웃는다</td>\n",
              "      <td>전소현</td>\n",
              "      <td>(주)자우엔터테인먼트</td>\n",
              "      <td>2011-11-17</td>\n",
              "      <td>장편</td>\n",
              "      <td>한국</td>\n",
              "      <td>2</td>\n",
              "      <td>8,467,000</td>\n",
              "      <td>1,222</td>\n",
              "      <td>NaN</td>\n",
              "      <td>0</td>\n",
              "      <td>드라마</td>\n",
              "      <td>12세이상관람가</td>\n",
              "      <td>독립</td>\n",
              "    </tr>\n",
              "    <tr>\n",
              "      <th>7261</th>\n",
              "      <td>비기닝</td>\n",
              "      <td>자비에 지아놀리</td>\n",
              "      <td>판씨네마(주)</td>\n",
              "      <td>2011-10-27</td>\n",
              "      <td>장편</td>\n",
              "      <td>프랑스</td>\n",
              "      <td>1</td>\n",
              "      <td>973,000</td>\n",
              "      <td>139</td>\n",
              "      <td>NaN</td>\n",
              "      <td>0</td>\n",
              "      <td>드라마</td>\n",
              "      <td>15세이상관람가</td>\n",
              "      <td>독립</td>\n",
              "    </tr>\n",
              "    <tr>\n",
              "      <th>7824</th>\n",
              "      <td>S 중독</td>\n",
              "      <td>카모가와 테츠로</td>\n",
              "      <td>(유)조이앤컨텐츠그룹</td>\n",
              "      <td>2012-05-18</td>\n",
              "      <td>NaN</td>\n",
              "      <td>일본</td>\n",
              "      <td>1</td>\n",
              "      <td>350,050</td>\n",
              "      <td>75</td>\n",
              "      <td>350,050</td>\n",
              "      <td>75</td>\n",
              "      <td>성인물(에로)</td>\n",
              "      <td>청소년관람불가</td>\n",
              "      <td>일반</td>\n",
              "    </tr>\n",
              "    <tr>\n",
              "      <th>7888</th>\n",
              "      <td>플래닛 51</td>\n",
              "      <td>호르헤 블랑코,마르코스 마르티네즈,자비에르 아바드</td>\n",
              "      <td>(주)쇼박스</td>\n",
              "      <td>2010-10-21</td>\n",
              "      <td>장편</td>\n",
              "      <td>스페인</td>\n",
              "      <td>67</td>\n",
              "      <td>431,000</td>\n",
              "      <td>67</td>\n",
              "      <td>NaN</td>\n",
              "      <td>0</td>\n",
              "      <td>애니메이션</td>\n",
              "      <td>전체관람가</td>\n",
              "      <td>일반</td>\n",
              "    </tr>\n",
              "    <tr>\n",
              "      <th>7891</th>\n",
              "      <td>실락원</td>\n",
              "      <td>모리타 요시미츠</td>\n",
              "      <td>에이원엔터테인먼트</td>\n",
              "      <td>2011-07-28</td>\n",
              "      <td>장편</td>\n",
              "      <td>일본</td>\n",
              "      <td>1</td>\n",
              "      <td>408,000</td>\n",
              "      <td>65</td>\n",
              "      <td>NaN</td>\n",
              "      <td>0</td>\n",
              "      <td>드라마</td>\n",
              "      <td>청소년관람불가</td>\n",
              "      <td>독립</td>\n",
              "    </tr>\n",
              "    <tr>\n",
              "      <th>8445</th>\n",
              "      <td>가져선 안될 비밀</td>\n",
              "      <td>알란 볼</td>\n",
              "      <td>판씨네마(주)</td>\n",
              "      <td>2011-11-03</td>\n",
              "      <td>장편</td>\n",
              "      <td>미국</td>\n",
              "      <td>1</td>\n",
              "      <td>462,000</td>\n",
              "      <td>56</td>\n",
              "      <td>NaN</td>\n",
              "      <td>0</td>\n",
              "      <td>드라마</td>\n",
              "      <td>청소년관람불가</td>\n",
              "      <td>일반</td>\n",
              "    </tr>\n",
              "    <tr>\n",
              "      <th>8446</th>\n",
              "      <td>노라 없는 5일</td>\n",
              "      <td>마리아나 체닐로</td>\n",
              "      <td>프리비젼엔터테인먼트</td>\n",
              "      <td>2010-10-21</td>\n",
              "      <td>장편</td>\n",
              "      <td>멕시코</td>\n",
              "      <td>9</td>\n",
              "      <td>280,000</td>\n",
              "      <td>56</td>\n",
              "      <td>NaN</td>\n",
              "      <td>0</td>\n",
              "      <td>드라마</td>\n",
              "      <td>15세이상관람가</td>\n",
              "      <td>독립</td>\n",
              "    </tr>\n",
              "    <tr>\n",
              "      <th>8728</th>\n",
              "      <td>돈 조반니</td>\n",
              "      <td>카를로스 사우라</td>\n",
              "      <td>(주)디지탈케이아이엔</td>\n",
              "      <td>2010-10-14</td>\n",
              "      <td>장편</td>\n",
              "      <td>이탈리아</td>\n",
              "      <td>16</td>\n",
              "      <td>300,000</td>\n",
              "      <td>53</td>\n",
              "      <td>NaN</td>\n",
              "      <td>0</td>\n",
              "      <td>드라마</td>\n",
              "      <td>15세이상관람가</td>\n",
              "      <td>독립</td>\n",
              "    </tr>\n",
              "    <tr>\n",
              "      <th>8982</th>\n",
              "      <td>춤추는 동물원</td>\n",
              "      <td>김효정,박성용</td>\n",
              "      <td>㈜인디스토리</td>\n",
              "      <td>2010-12-02</td>\n",
              "      <td>장편</td>\n",
              "      <td>한국</td>\n",
              "      <td>5</td>\n",
              "      <td>221,000</td>\n",
              "      <td>37</td>\n",
              "      <td>NaN</td>\n",
              "      <td>0</td>\n",
              "      <td>드라마</td>\n",
              "      <td>15세이상관람가</td>\n",
              "      <td>독립</td>\n",
              "    </tr>\n",
              "    <tr>\n",
              "      <th>9238</th>\n",
              "      <td>고질라 - 파이널 워즈</td>\n",
              "      <td>기타무라 류헤이</td>\n",
              "      <td>씨네힐</td>\n",
              "      <td>2011-12-07</td>\n",
              "      <td>장편</td>\n",
              "      <td>일본</td>\n",
              "      <td>1</td>\n",
              "      <td>120,000</td>\n",
              "      <td>20</td>\n",
              "      <td>NaN</td>\n",
              "      <td>0</td>\n",
              "      <td>액션</td>\n",
              "      <td>전체관람가</td>\n",
              "      <td>일반</td>\n",
              "    </tr>\n",
              "    <tr>\n",
              "      <th>9865</th>\n",
              "      <td>소중한 날의 꿈 감독판</td>\n",
              "      <td>안재훈,한혜진</td>\n",
              "      <td>에이원엔터테인먼트</td>\n",
              "      <td>2011-11-06</td>\n",
              "      <td>장편</td>\n",
              "      <td>한국</td>\n",
              "      <td>1</td>\n",
              "      <td>75,000</td>\n",
              "      <td>15</td>\n",
              "      <td>NaN</td>\n",
              "      <td>0</td>\n",
              "      <td>애니메이션</td>\n",
              "      <td>전체관람가</td>\n",
              "      <td>일반</td>\n",
              "    </tr>\n",
              "    <tr>\n",
              "      <th>9867</th>\n",
              "      <td>우리 만난 적 있나요</td>\n",
              "      <td>임진평</td>\n",
              "      <td>코리아 코어 컨텐츠</td>\n",
              "      <td>2010-11-25</td>\n",
              "      <td>장편</td>\n",
              "      <td>한국</td>\n",
              "      <td>8</td>\n",
              "      <td>75,000</td>\n",
              "      <td>15</td>\n",
              "      <td>NaN</td>\n",
              "      <td>0</td>\n",
              "      <td>멜로/로맨스</td>\n",
              "      <td>12세이상관람가</td>\n",
              "      <td>독립</td>\n",
              "    </tr>\n",
              "    <tr>\n",
              "      <th>10376</th>\n",
              "      <td>세이브 어 라이프</td>\n",
              "      <td>브라이언 보</td>\n",
              "      <td>주식회사 마운틴픽쳐스</td>\n",
              "      <td>2010-11-11</td>\n",
              "      <td>장편</td>\n",
              "      <td>미국</td>\n",
              "      <td>6</td>\n",
              "      <td>30,000</td>\n",
              "      <td>6</td>\n",
              "      <td>NaN</td>\n",
              "      <td>0</td>\n",
              "      <td>드라마</td>\n",
              "      <td>15세이상관람가</td>\n",
              "      <td>독립</td>\n",
              "    </tr>\n",
              "    <tr>\n",
              "      <th>16689</th>\n",
              "      <td>벡</td>\n",
              "      <td>츠츠미 유키히코</td>\n",
              "      <td>주식회사 마운틴픽쳐스</td>\n",
              "      <td>2010-11-18</td>\n",
              "      <td>장편</td>\n",
              "      <td>일본</td>\n",
              "      <td>30</td>\n",
              "      <td>0</td>\n",
              "      <td>0</td>\n",
              "      <td>NaN</td>\n",
              "      <td>0</td>\n",
              "      <td>드라마</td>\n",
              "      <td>12세이상관람가</td>\n",
              "      <td>독립</td>\n",
              "    </tr>\n",
              "  </tbody>\n",
              "</table>\n",
              "</div>\n",
              "      <button class=\"colab-df-convert\" onclick=\"convertToInteractive('df-0a22771d-a6fe-4eb6-837a-9f2299bd23d0')\"\n",
              "              title=\"Convert this dataframe to an interactive table.\"\n",
              "              style=\"display:none;\">\n",
              "        \n",
              "  <svg xmlns=\"http://www.w3.org/2000/svg\" height=\"24px\"viewBox=\"0 0 24 24\"\n",
              "       width=\"24px\">\n",
              "    <path d=\"M0 0h24v24H0V0z\" fill=\"none\"/>\n",
              "    <path d=\"M18.56 5.44l.94 2.06.94-2.06 2.06-.94-2.06-.94-.94-2.06-.94 2.06-2.06.94zm-11 1L8.5 8.5l.94-2.06 2.06-.94-2.06-.94L8.5 2.5l-.94 2.06-2.06.94zm10 10l.94 2.06.94-2.06 2.06-.94-2.06-.94-.94-2.06-.94 2.06-2.06.94z\"/><path d=\"M17.41 7.96l-1.37-1.37c-.4-.4-.92-.59-1.43-.59-.52 0-1.04.2-1.43.59L10.3 9.45l-7.72 7.72c-.78.78-.78 2.05 0 2.83L4 21.41c.39.39.9.59 1.41.59.51 0 1.02-.2 1.41-.59l7.78-7.78 2.81-2.81c.8-.78.8-2.07 0-2.86zM5.41 20L4 18.59l7.72-7.72 1.47 1.35L5.41 20z\"/>\n",
              "  </svg>\n",
              "      </button>\n",
              "      \n",
              "  <style>\n",
              "    .colab-df-container {\n",
              "      display:flex;\n",
              "      flex-wrap:wrap;\n",
              "      gap: 12px;\n",
              "    }\n",
              "\n",
              "    .colab-df-convert {\n",
              "      background-color: #E8F0FE;\n",
              "      border: none;\n",
              "      border-radius: 50%;\n",
              "      cursor: pointer;\n",
              "      display: none;\n",
              "      fill: #1967D2;\n",
              "      height: 32px;\n",
              "      padding: 0 0 0 0;\n",
              "      width: 32px;\n",
              "    }\n",
              "\n",
              "    .colab-df-convert:hover {\n",
              "      background-color: #E2EBFA;\n",
              "      box-shadow: 0px 1px 2px rgba(60, 64, 67, 0.3), 0px 1px 3px 1px rgba(60, 64, 67, 0.15);\n",
              "      fill: #174EA6;\n",
              "    }\n",
              "\n",
              "    [theme=dark] .colab-df-convert {\n",
              "      background-color: #3B4455;\n",
              "      fill: #D2E3FC;\n",
              "    }\n",
              "\n",
              "    [theme=dark] .colab-df-convert:hover {\n",
              "      background-color: #434B5C;\n",
              "      box-shadow: 0px 1px 3px 1px rgba(0, 0, 0, 0.15);\n",
              "      filter: drop-shadow(0px 1px 2px rgba(0, 0, 0, 0.3));\n",
              "      fill: #FFFFFF;\n",
              "    }\n",
              "  </style>\n",
              "\n",
              "      <script>\n",
              "        const buttonEl =\n",
              "          document.querySelector('#df-0a22771d-a6fe-4eb6-837a-9f2299bd23d0 button.colab-df-convert');\n",
              "        buttonEl.style.display =\n",
              "          google.colab.kernel.accessAllowed ? 'block' : 'none';\n",
              "\n",
              "        async function convertToInteractive(key) {\n",
              "          const element = document.querySelector('#df-0a22771d-a6fe-4eb6-837a-9f2299bd23d0');\n",
              "          const dataTable =\n",
              "            await google.colab.kernel.invokeFunction('convertToInteractive',\n",
              "                                                     [key], {});\n",
              "          if (!dataTable) return;\n",
              "\n",
              "          const docLinkHtml = 'Like what you see? Visit the ' +\n",
              "            '<a target=\"_blank\" href=https://colab.research.google.com/notebooks/data_table.ipynb>data table notebook</a>'\n",
              "            + ' to learn more about interactive tables.';\n",
              "          element.innerHTML = '';\n",
              "          dataTable['output_type'] = 'display_data';\n",
              "          await google.colab.output.renderOutput(dataTable, element);\n",
              "          const docLink = document.createElement('div');\n",
              "          docLink.innerHTML = docLinkHtml;\n",
              "          element.appendChild(docLink);\n",
              "        }\n",
              "      </script>\n",
              "    </div>\n",
              "  </div>\n",
              "  "
            ]
          },
          "metadata": {},
          "execution_count": 54
        }
      ]
    },
    {
      "cell_type": "code",
      "source": [
        "df['영화형태'] = df['영화형태'].fillna('장편')"
      ],
      "metadata": {
        "id": "VW5b6lwCWYBN"
      },
      "execution_count": 55,
      "outputs": []
    },
    {
      "cell_type": "code",
      "source": [
        "df['서울 매출액'] = df['서울 매출액'].fillna('0')"
      ],
      "metadata": {
        "id": "zpVLy12cW4_m"
      },
      "execution_count": 56,
      "outputs": []
    },
    {
      "cell_type": "code",
      "source": [
        "df['서울 관객수'] = df['서울 관객수'].str.replace(',', '')\n",
        "df['서울 관객수'] = df['서울 관객수'].astype(int) \n",
        "df['서울 매출액'] = df['서울 매출액'].str.replace(',', '')\n",
        "df['서울 매출액'] = df['서울 매출액'].astype(int)  "
      ],
      "metadata": {
        "id": "cY-6tpwOUTys"
      },
      "execution_count": 57,
      "outputs": []
    },
    {
      "cell_type": "code",
      "source": [
        "df['전국 관객수'] = df['전국 관객수'].str.replace(',', '')\n",
        "df['전국 관객수'] = df['전국 관객수'].astype(int) \n",
        "df['전국 매출액'] = df['전국 매출액'].str.replace(',', '')\n",
        "df['전국 매출액'] = df['전국 매출액'].astype(int)"
      ],
      "metadata": {
        "id": "gBVbciYBU9Nx"
      },
      "execution_count": 58,
      "outputs": []
    },
    {
      "cell_type": "code",
      "source": [
        "df['전국 스크린수'] = df['전국 스크린수'].str.replace(',', '')\n",
        "df['전국 스크린수'] = df['전국 스크린수'].astype(int)"
      ],
      "metadata": {
        "id": "5_qFnB9jXOCQ"
      },
      "execution_count": 59,
      "outputs": []
    },
    {
      "cell_type": "code",
      "source": [
        "best20 = df.sort_values(ascending=False, by = '전국 관객수').head(20)"
      ],
      "metadata": {
        "id": "hFgyRx1iPodF"
      },
      "execution_count": 60,
      "outputs": []
    },
    {
      "cell_type": "code",
      "source": [
        "plt.figure(figsize=[10, 4])\n",
        "sns.scatterplot(data=best20, x='장르', y = '전국 관객수')"
      ],
      "metadata": {
        "id": "j7Ag1W3MPxEP",
        "colab": {
          "base_uri": "https://localhost:8080/",
          "height": 307
        },
        "outputId": "365a297e-768b-4c2b-d17f-45bb1554fdbf"
      },
      "execution_count": 61,
      "outputs": [
        {
          "output_type": "execute_result",
          "data": {
            "text/plain": [
              "<matplotlib.axes._subplots.AxesSubplot at 0x7ff018abbf70>"
            ]
          },
          "metadata": {},
          "execution_count": 61
        },
        {
          "output_type": "display_data",
          "data": {
            "text/plain": [
              "<Figure size 720x288 with 1 Axes>"
            ],
            "image/png": "[encoded data removed]"
          },
          "metadata": {
            "needs_background": "light"
          }
        }
      ]
    },
    {
      "cell_type": "code",
      "source": [
        "best100 = df.sort_values(ascending = False, by = '전국 관객수').head(100)"
      ],
      "metadata": {
        "id": "xQ_2VoCyS0j5"
      },
      "execution_count": 62,
      "outputs": []
    },
    {
      "cell_type": "code",
      "source": [
        "plt.figure(figsize=[10, 4])\n",
        "sns.scatterplot(data=best100, x='장르', y = '전국 관객수')"
      ],
      "metadata": {
        "id": "C75sEtY0SYI4",
        "colab": {
          "base_uri": "https://localhost:8080/",
          "height": 307
        },
        "outputId": "e4ae66ed-9e90-4fb8-c13c-4e0360e7c8a1"
      },
      "execution_count": 63,
      "outputs": [
        {
          "output_type": "execute_result",
          "data": {
            "text/plain": [
              "<matplotlib.axes._subplots.AxesSubplot at 0x7ff017bcd0a0>"
            ]
          },
          "metadata": {},
          "execution_count": 63
        },
        {
          "output_type": "display_data",
          "data": {
            "text/plain": [
              "<Figure size 720x288 with 1 Axes>"
            ],
            "image/png": "[encoded data removed]"
          },
          "metadata": {
            "needs_background": "light"
          }
        }
      ]
    },
    {
      "cell_type": "code",
      "source": [
        "df.groupby('장르').mean().round(2).sort_values('전국 매출액', ascending=False)"
      ],
      "metadata": {
        "id": "csRS52nZY3KU",
        "colab": {
          "base_uri": "https://localhost:8080/",
          "height": 455
        },
        "outputId": "56c455c2-3bcc-42e8-a4aa-f5e0eae66cdf"
      },
      "execution_count": 64,
      "outputs": [
        {
          "output_type": "execute_result",
          "data": {
            "text/plain": [
              "          전국 스크린수        전국 매출액      전국 관객수        서울 매출액     서울 관객수\n",
              "장르                                                                  \n",
              "사극         694.13  1.852681e+10  2386238.40  4.726326e+09  590657.22\n",
              "어드벤처       305.79  5.190322e+09   621995.43  1.477667e+09  168340.64\n",
              "범죄         250.35  4.023147e+09   487094.77  1.025640e+09  121144.79\n",
              "액션         202.96  3.476933e+09   415250.03  9.938731e+08  113559.54\n",
              "판타지        166.13  2.474280e+09   305058.85  6.530671e+08   77732.52\n",
              "...           ...           ...         ...           ...        ...\n",
              "서부극(웨스턴)    30.08  1.454676e+08    20096.00  7.029034e+07    9351.31\n",
              "멜로/로맨스      16.30  1.226648e+08    15944.04  3.938514e+07    4922.38\n",
              "공연          16.22  6.820194e+07     4535.68  3.252855e+07    1980.18\n",
              "기타          14.41  4.872647e+07     5618.07  1.744633e+07    1833.61\n",
              "성인물(에로)      1.29  6.753280e+04       14.21  3.915111e+04       8.03\n",
              "\n",
              "[21 rows x 5 columns]"
            ],
            "text/html": [
              "\n",
              "  <div id=\"df-026ffc33-6e20-429c-9950-e8d5aa753de8\">\n",
              "    <div class=\"colab-df-container\">\n",
              "      <div>\n",
              "<style scoped>\n",
              "    .dataframe tbody tr th:only-of-type {\n",
              "        vertical-align: middle;\n",
              "    }\n",
              "\n",
              "    .dataframe tbody tr th {\n",
              "        vertical-align: top;\n",
              "    }\n",
              "\n",
              "    .dataframe thead th {\n",
              "        text-align: right;\n",
              "    }\n",
              "</style>\n",
              "<table border=\"1\" class=\"dataframe\">\n",
              "  <thead>\n",
              "    <tr style=\"text-align: right;\">\n",
              "      <th></th>\n",
              "      <th>전국 스크린수</th>\n",
              "      <th>전국 매출액</th>\n",
              "      <th>전국 관객수</th>\n",
              "      <th>서울 매출액</th>\n",
              "      <th>서울 관객수</th>\n",
              "    </tr>\n",
              "    <tr>\n",
              "      <th>장르</th>\n",
              "      <th></th>\n",
              "      <th></th>\n",
              "      <th></th>\n",
              "      <th></th>\n",
              "      <th></th>\n",
              "    </tr>\n",
              "  </thead>\n",
              "  <tbody>\n",
              "    <tr>\n",
              "      <th>사극</th>\n",
              "      <td>694.13</td>\n",
              "      <td>1.852681e+10</td>\n",
              "      <td>2386238.40</td>\n",
              "      <td>4.726326e+09</td>\n",
              "      <td>590657.22</td>\n",
              "    </tr>\n",
              "    <tr>\n",
              "      <th>어드벤처</th>\n",
              "      <td>305.79</td>\n",
              "      <td>5.190322e+09</td>\n",
              "      <td>621995.43</td>\n",
              "      <td>1.477667e+09</td>\n",
              "      <td>168340.64</td>\n",
              "    </tr>\n",
              "    <tr>\n",
              "      <th>범죄</th>\n",
              "      <td>250.35</td>\n",
              "      <td>4.023147e+09</td>\n",
              "      <td>487094.77</td>\n",
              "      <td>1.025640e+09</td>\n",
              "      <td>121144.79</td>\n",
              "    </tr>\n",
              "    <tr>\n",
              "      <th>액션</th>\n",
              "      <td>202.96</td>\n",
              "      <td>3.476933e+09</td>\n",
              "      <td>415250.03</td>\n",
              "      <td>9.938731e+08</td>\n",
              "      <td>113559.54</td>\n",
              "    </tr>\n",
              "    <tr>\n",
              "      <th>판타지</th>\n",
              "      <td>166.13</td>\n",
              "      <td>2.474280e+09</td>\n",
              "      <td>305058.85</td>\n",
              "      <td>6.530671e+08</td>\n",
              "      <td>77732.52</td>\n",
              "    </tr>\n",
              "    <tr>\n",
              "      <th>...</th>\n",
              "      <td>...</td>\n",
              "      <td>...</td>\n",
              "      <td>...</td>\n",
              "      <td>...</td>\n",
              "      <td>...</td>\n",
              "    </tr>\n",
              "    <tr>\n",
              "      <th>서부극(웨스턴)</th>\n",
              "      <td>30.08</td>\n",
              "      <td>1.454676e+08</td>\n",
              "      <td>20096.00</td>\n",
              "      <td>7.029034e+07</td>\n",
              "      <td>9351.31</td>\n",
              "    </tr>\n",
              "    <tr>\n",
              "      <th>멜로/로맨스</th>\n",
              "      <td>16.30</td>\n",
              "      <td>1.226648e+08</td>\n",
              "      <td>15944.04</td>\n",
              "      <td>3.938514e+07</td>\n",
              "      <td>4922.38</td>\n",
              "    </tr>\n",
              "    <tr>\n",
              "      <th>공연</th>\n",
              "      <td>16.22</td>\n",
              "      <td>6.820194e+07</td>\n",
              "      <td>4535.68</td>\n",
              "      <td>3.252855e+07</td>\n",
              "      <td>1980.18</td>\n",
              "    </tr>\n",
              "    <tr>\n",
              "      <th>기타</th>\n",
              "      <td>14.41</td>\n",
              "      <td>4.872647e+07</td>\n",
              "      <td>5618.07</td>\n",
              "      <td>1.744633e+07</td>\n",
              "      <td>1833.61</td>\n",
              "    </tr>\n",
              "    <tr>\n",
              "      <th>성인물(에로)</th>\n",
              "      <td>1.29</td>\n",
              "      <td>6.753280e+04</td>\n",
              "      <td>14.21</td>\n",
              "      <td>3.915111e+04</td>\n",
              "      <td>8.03</td>\n",
              "    </tr>\n",
              "  </tbody>\n",
              "</table>\n",
              "<p>21 rows × 5 columns</p>\n",
              "</div>\n",
              "      <button class=\"colab-df-convert\" onclick=\"convertToInteractive('df-026ffc33-6e20-429c-9950-e8d5aa753de8')\"\n",
              "              title=\"Convert this dataframe to an interactive table.\"\n",
              "              style=\"display:none;\">\n",
              "        \n",
              "  <svg xmlns=\"http://www.w3.org/2000/svg\" height=\"24px\"viewBox=\"0 0 24 24\"\n",
              "       width=\"24px\">\n",
              "    <path d=\"M0 0h24v24H0V0z\" fill=\"none\"/>\n",
              "    <path d=\"M18.56 5.44l.94 2.06.94-2.06 2.06-.94-2.06-.94-.94-2.06-.94 2.06-2.06.94zm-11 1L8.5 8.5l.94-2.06 2.06-.94-2.06-.94L8.5 2.5l-.94 2.06-2.06.94zm10 10l.94 2.06.94-2.06 2.06-.94-2.06-.94-.94-2.06-.94 2.06-2.06.94z\"/><path d=\"M17.41 7.96l-1.37-1.37c-.4-.4-.92-.59-1.43-.59-.52 0-1.04.2-1.43.59L10.3 9.45l-7.72 7.72c-.78.78-.78 2.05 0 2.83L4 21.41c.39.39.9.59 1.41.59.51 0 1.02-.2 1.41-.59l7.78-7.78 2.81-2.81c.8-.78.8-2.07 0-2.86zM5.41 20L4 18.59l7.72-7.72 1.47 1.35L5.41 20z\"/>\n",
              "  </svg>\n",
              "      </button>\n",
              "      \n",
              "  <style>\n",
              "    .colab-df-container {\n",
              "      display:flex;\n",
              "      flex-wrap:wrap;\n",
              "      gap: 12px;\n",
              "    }\n",
              "\n",
              "    .colab-df-convert {\n",
              "      background-color: #E8F0FE;\n",
              "      border: none;\n",
              "      border-radius: 50%;\n",
              "      cursor: pointer;\n",
              "      display: none;\n",
              "      fill: #1967D2;\n",
              "      height: 32px;\n",
              "      padding: 0 0 0 0;\n",
              "      width: 32px;\n",
              "    }\n",
              "\n",
              "    .colab-df-convert:hover {\n",
              "      background-color: #E2EBFA;\n",
              "      box-shadow: 0px 1px 2px rgba(60, 64, 67, 0.3), 0px 1px 3px 1px rgba(60, 64, 67, 0.15);\n",
              "      fill: #174EA6;\n",
              "    }\n",
              "\n",
              "    [theme=dark] .colab-df-convert {\n",
              "      background-color: #3B4455;\n",
              "      fill: #D2E3FC;\n",
              "    }\n",
              "\n",
              "    [theme=dark] .colab-df-convert:hover {\n",
              "      background-color: #434B5C;\n",
              "      box-shadow: 0px 1px 3px 1px rgba(0, 0, 0, 0.15);\n",
              "      filter: drop-shadow(0px 1px 2px rgba(0, 0, 0, 0.3));\n",
              "      fill: #FFFFFF;\n",
              "    }\n",
              "  </style>\n",
              "\n",
              "      <script>\n",
              "        const buttonEl =\n",
              "          document.querySelector('#df-026ffc33-6e20-429c-9950-e8d5aa753de8 button.colab-df-convert');\n",
              "        buttonEl.style.display =\n",
              "          google.colab.kernel.accessAllowed ? 'block' : 'none';\n",
              "\n",
              "        async function convertToInteractive(key) {\n",
              "          const element = document.querySelector('#df-026ffc33-6e20-429c-9950-e8d5aa753de8');\n",
              "          const dataTable =\n",
              "            await google.colab.kernel.invokeFunction('convertToInteractive',\n",
              "                                                     [key], {});\n",
              "          if (!dataTable) return;\n",
              "\n",
              "          const docLinkHtml = 'Like what you see? Visit the ' +\n",
              "            '<a target=\"_blank\" href=https://colab.research.google.com/notebooks/data_table.ipynb>data table notebook</a>'\n",
              "            + ' to learn more about interactive tables.';\n",
              "          element.innerHTML = '';\n",
              "          dataTable['output_type'] = 'display_data';\n",
              "          await google.colab.output.renderOutput(dataTable, element);\n",
              "          const docLink = document.createElement('div');\n",
              "          docLink.innerHTML = docLinkHtml;\n",
              "          element.appendChild(docLink);\n",
              "        }\n",
              "      </script>\n",
              "    </div>\n",
              "  </div>\n",
              "  "
            ]
          },
          "metadata": {},
          "execution_count": 64
        }
      ]
    },
    {
      "cell_type": "code",
      "source": [
        "df['연도'] = df.개봉일.astype(str).str[:-6]\n",
        "df['연도'] = df['연도'].astype(int) \n",
        "df['월'] = df.개봉일.astype(str).str[5:-3]\n",
        "df['월'] = df['월'].astype(int) \n",
        "df[['개봉일', '연도', '월']].sample(3)"
      ],
      "metadata": {
        "id": "yd8PptCAKym0",
        "colab": {
          "base_uri": "https://localhost:8080/",
          "height": 143
        },
        "outputId": "77fa002a-cdda-4cc2-832c-9a02e68e6ad7"
      },
      "execution_count": 65,
      "outputs": [
        {
          "output_type": "execute_result",
          "data": {
            "text/plain": [
              "              개봉일    연도   월\n",
              "3834   2017-11-23  2017  11\n",
              "2233   2018-12-13  2018  12\n",
              "16382  2018-07-08  2018   7"
            ],
            "text/html": [
              "\n",
              "  <div id=\"df-b591c6a3-27da-4cd1-a177-780a67f66133\">\n",
              "    <div class=\"colab-df-container\">\n",
              "      <div>\n",
              "<style scoped>\n",
              "    .dataframe tbody tr th:only-of-type {\n",
              "        vertical-align: middle;\n",
              "    }\n",
              "\n",
              "    .dataframe tbody tr th {\n",
              "        vertical-align: top;\n",
              "    }\n",
              "\n",
              "    .dataframe thead th {\n",
              "        text-align: right;\n",
              "    }\n",
              "</style>\n",
              "<table border=\"1\" class=\"dataframe\">\n",
              "  <thead>\n",
              "    <tr style=\"text-align: right;\">\n",
              "      <th></th>\n",
              "      <th>개봉일</th>\n",
              "      <th>연도</th>\n",
              "      <th>월</th>\n",
              "    </tr>\n",
              "  </thead>\n",
              "  <tbody>\n",
              "    <tr>\n",
              "      <th>3834</th>\n",
              "      <td>2017-11-23</td>\n",
              "      <td>2017</td>\n",
              "      <td>11</td>\n",
              "    </tr>\n",
              "    <tr>\n",
              "      <th>2233</th>\n",
              "      <td>2018-12-13</td>\n",
              "      <td>2018</td>\n",
              "      <td>12</td>\n",
              "    </tr>\n",
              "    <tr>\n",
              "      <th>16382</th>\n",
              "      <td>2018-07-08</td>\n",
              "      <td>2018</td>\n",
              "      <td>7</td>\n",
              "    </tr>\n",
              "  </tbody>\n",
              "</table>\n",
              "</div>\n",
              "      <button class=\"colab-df-convert\" onclick=\"convertToInteractive('df-b591c6a3-27da-4cd1-a177-780a67f66133')\"\n",
              "              title=\"Convert this dataframe to an interactive table.\"\n",
              "              style=\"display:none;\">\n",
              "        \n",
              "  <svg xmlns=\"http://www.w3.org/2000/svg\" height=\"24px\"viewBox=\"0 0 24 24\"\n",
              "       width=\"24px\">\n",
              "    <path d=\"M0 0h24v24H0V0z\" fill=\"none\"/>\n",
              "    <path d=\"M18.56 5.44l.94 2.06.94-2.06 2.06-.94-2.06-.94-.94-2.06-.94 2.06-2.06.94zm-11 1L8.5 8.5l.94-2.06 2.06-.94-2.06-.94L8.5 2.5l-.94 2.06-2.06.94zm10 10l.94 2.06.94-2.06 2.06-.94-2.06-.94-.94-2.06-.94 2.06-2.06.94z\"/><path d=\"M17.41 7.96l-1.37-1.37c-.4-.4-.92-.59-1.43-.59-.52 0-1.04.2-1.43.59L10.3 9.45l-7.72 7.72c-.78.78-.78 2.05 0 2.83L4 21.41c.39.39.9.59 1.41.59.51 0 1.02-.2 1.41-.59l7.78-7.78 2.81-2.81c.8-.78.8-2.07 0-2.86zM5.41 20L4 18.59l7.72-7.72 1.47 1.35L5.41 20z\"/>\n",
              "  </svg>\n",
              "      </button>\n",
              "      \n",
              "  <style>\n",
              "    .colab-df-container {\n",
              "      display:flex;\n",
              "      flex-wrap:wrap;\n",
              "      gap: 12px;\n",
              "    }\n",
              "\n",
              "    .colab-df-convert {\n",
              "      background-color: #E8F0FE;\n",
              "      border: none;\n",
              "      border-radius: 50%;\n",
              "      cursor: pointer;\n",
              "      display: none;\n",
              "      fill: #1967D2;\n",
              "      height: 32px;\n",
              "      padding: 0 0 0 0;\n",
              "      width: 32px;\n",
              "    }\n",
              "\n",
              "    .colab-df-convert:hover {\n",
              "      background-color: #E2EBFA;\n",
              "      box-shadow: 0px 1px 2px rgba(60, 64, 67, 0.3), 0px 1px 3px 1px rgba(60, 64, 67, 0.15);\n",
              "      fill: #174EA6;\n",
              "    }\n",
              "\n",
              "    [theme=dark] .colab-df-convert {\n",
              "      background-color: #3B4455;\n",
              "      fill: #D2E3FC;\n",
              "    }\n",
              "\n",
              "    [theme=dark] .colab-df-convert:hover {\n",
              "      background-color: #434B5C;\n",
              "      box-shadow: 0px 1px 3px 1px rgba(0, 0, 0, 0.15);\n",
              "      filter: drop-shadow(0px 1px 2px rgba(0, 0, 0, 0.3));\n",
              "      fill: #FFFFFF;\n",
              "    }\n",
              "  </style>\n",
              "\n",
              "      <script>\n",
              "        const buttonEl =\n",
              "          document.querySelector('#df-b591c6a3-27da-4cd1-a177-780a67f66133 button.colab-df-convert');\n",
              "        buttonEl.style.display =\n",
              "          google.colab.kernel.accessAllowed ? 'block' : 'none';\n",
              "\n",
              "        async function convertToInteractive(key) {\n",
              "          const element = document.querySelector('#df-b591c6a3-27da-4cd1-a177-780a67f66133');\n",
              "          const dataTable =\n",
              "            await google.colab.kernel.invokeFunction('convertToInteractive',\n",
              "                                                     [key], {});\n",
              "          if (!dataTable) return;\n",
              "\n",
              "          const docLinkHtml = 'Like what you see? Visit the ' +\n",
              "            '<a target=\"_blank\" href=https://colab.research.google.com/notebooks/data_table.ipynb>data table notebook</a>'\n",
              "            + ' to learn more about interactive tables.';\n",
              "          element.innerHTML = '';\n",
              "          dataTable['output_type'] = 'display_data';\n",
              "          await google.colab.output.renderOutput(dataTable, element);\n",
              "          const docLink = document.createElement('div');\n",
              "          docLink.innerHTML = docLinkHtml;\n",
              "          element.appendChild(docLink);\n",
              "        }\n",
              "      </script>\n",
              "    </div>\n",
              "  </div>\n",
              "  "
            ]
          },
          "metadata": {},
          "execution_count": 65
        }
      ]
    },
    {
      "cell_type": "code",
      "source": [
        "df = df.drop(['개봉일'], axis = 1)"
      ],
      "metadata": {
        "id": "GLiiX8cgMsmV"
      },
      "execution_count": 66,
      "outputs": []
    },
    {
      "cell_type": "code",
      "source": [
        "df['연도'].describe()"
      ],
      "metadata": {
        "id": "MP8K5yOHNt3q",
        "colab": {
          "base_uri": "https://localhost:8080/"
        },
        "outputId": "7f061ebf-5665-435f-a5f9-b4ab152714aa"
      },
      "execution_count": 67,
      "outputs": [
        {
          "output_type": "execute_result",
          "data": {
            "text/plain": [
              "count    16692.000000\n",
              "mean      2017.553379\n",
              "std          3.027478\n",
              "min       2010.000000\n",
              "25%       2015.000000\n",
              "50%       2018.000000\n",
              "75%       2020.000000\n",
              "max       2022.000000\n",
              "Name: 연도, dtype: float64"
            ]
          },
          "metadata": {},
          "execution_count": 67
        }
      ]
    },
    {
      "cell_type": "code",
      "source": [
        "sns.barplot(data=df, x='연도', y='전국 관객수', ci=None)\n",
        "plt.show()"
      ],
      "metadata": {
        "id": "ZggBsE9dT91W",
        "colab": {
          "base_uri": "https://localhost:8080/",
          "height": 279
        },
        "outputId": "ee8c4d21-fcbd-474a-a862-1e58711c4ad3"
      },
      "execution_count": 68,
      "outputs": [
        {
          "output_type": "display_data",
          "data": {
            "text/plain": [
              "<Figure size 432x288 with 1 Axes>"
            ],
            "image/png": "[encoded data removed]"
          },
          "metadata": {
            "needs_background": "light"
          }
        }
      ]
    },
    {
      "cell_type": "code",
      "source": [
        "sns.barplot(data=df, x='월', y='전국 관객수', ci=None)\n",
        "plt.show()"
      ],
      "metadata": {
        "id": "66y0GSEEOUU4",
        "colab": {
          "base_uri": "https://localhost:8080/",
          "height": 279
        },
        "outputId": "2118f0af-b29e-43cf-b069-db690ae580fe"
      },
      "execution_count": 69,
      "outputs": [
        {
          "output_type": "display_data",
          "data": {
            "text/plain": [
              "<Figure size 432x288 with 1 Axes>"
            ],
            "image/png": "[encoded data removed]"
          },
          "metadata": {
            "needs_background": "light"
          }
        }
      ]
    },
    {
      "cell_type": "markdown",
      "source": [
        "##수치,더미화 (감독/배급사/장르/국적)\n",
        "> 상위 20그룹과 기타 `or` 점수제 ?\n",
        "\n"
      ],
      "metadata": {
        "id": "BfChHa8fcpn6"
      }
    },
    {
      "cell_type": "code",
      "source": [
        "df['배급사'].value_counts()"
      ],
      "metadata": {
        "id": "l14Er-YGwjRp",
        "colab": {
          "base_uri": "https://localhost:8080/"
        },
        "outputId": "d5bfda94-254a-4697-ba56-8cc0146759d0"
      },
      "execution_count": 70,
      "outputs": [
        {
          "output_type": "execute_result",
          "data": {
            "text/plain": [
              "(주)도키엔터테인먼트                  1512\n",
              "(주)영진크리에이티브                  1489\n",
              "(주)영화사가을                      728\n",
              "(주)케이알씨지                      629\n",
              "(주)소나무픽쳐스                     570\n",
              "                             ... \n",
              "주식회사 온 피크,(주)머스트씨무비릴리징컴퍼니       1\n",
              "케이비에스미디어(주),주식회사 마운틴픽쳐스         1\n",
              "(주)미로스페이스,THE 픽쳐스               1\n",
              "(주)엣나인필름,(주)메타플레이               1\n",
              "주식회사 게티스버그컴퍼니                   1\n",
              "Name: 배급사, Length: 1037, dtype: int64"
            ]
          },
          "metadata": {},
          "execution_count": 70
        }
      ]
    },
    {
      "cell_type": "code",
      "source": [
        "#배급사별 관객수 평균 기준으로 점수 -> 수치화\n",
        "rank_배급사 = df.groupby('배급사')['전국 관객수'].mean().reset_index(name = '배급사_p').sort_values(by = '배급사_p', ascending=False)\n",
        "rank_배급사"
      ],
      "metadata": {
        "colab": {
          "base_uri": "https://localhost:8080/",
          "height": 424
        },
        "id": "Tg_UVXjL3K-9",
        "outputId": "63731e13-25df-4a0c-a158-72e404aecf9f"
      },
      "execution_count": 71,
      "outputs": [
        {
          "output_type": "execute_result",
          "data": {
            "text/plain": [
              "                                         배급사      배급사_p\n",
              "866        월트디즈니컴퍼니코리아 유한책임회사,월트디즈니컴퍼니코리아(주)  9585874.0\n",
              "291                     (주)씨제이이엔엠,(주)덱스터스튜디오  8252669.0\n",
              "868   월트디즈니컴퍼니코리아 유한책임회사,한국소니픽쳐스릴리징브에나비스타영화㈜  7074867.0\n",
              "1015                  플러스엠 엔터테인먼트,(주)키위미디어그룹  6851297.0\n",
              "941              주식회사 에이비오엔터테인먼트,플러스엠 엔터테인먼트  6755951.5\n",
              "...                                      ...        ...\n",
              "216                               (주)빅마운틴컬쳐스        1.0\n",
              "218                                 (주)빅콘미디어        1.0\n",
              "353                                  (주)영화공간        1.0\n",
              "551                                 (주)해머픽쳐스        1.0\n",
              "592                     TCO(주)더콘텐츠온,(주)케이알씨지        1.0\n",
              "\n",
              "[1037 rows x 2 columns]"
            ],
            "text/html": [
              "\n",
              "  <div id=\"df-adeb31a1-8b36-43d3-a135-ee66fb7aaff1\">\n",
              "    <div class=\"colab-df-container\">\n",
              "      <div>\n",
              "<style scoped>\n",
              "    .dataframe tbody tr th:only-of-type {\n",
              "        vertical-align: middle;\n",
              "    }\n",
              "\n",
              "    .dataframe tbody tr th {\n",
              "        vertical-align: top;\n",
              "    }\n",
              "\n",
              "    .dataframe thead th {\n",
              "        text-align: right;\n",
              "    }\n",
              "</style>\n",
              "<table border=\"1\" class=\"dataframe\">\n",
              "  <thead>\n",
              "    <tr style=\"text-align: right;\">\n",
              "      <th></th>\n",
              "      <th>배급사</th>\n",
              "      <th>배급사_p</th>\n",
              "    </tr>\n",
              "  </thead>\n",
              "  <tbody>\n",
              "    <tr>\n",
              "      <th>866</th>\n",
              "      <td>월트디즈니컴퍼니코리아 유한책임회사,월트디즈니컴퍼니코리아(주)</td>\n",
              "      <td>9585874.0</td>\n",
              "    </tr>\n",
              "    <tr>\n",
              "      <th>291</th>\n",
              "      <td>(주)씨제이이엔엠,(주)덱스터스튜디오</td>\n",
              "      <td>8252669.0</td>\n",
              "    </tr>\n",
              "    <tr>\n",
              "      <th>868</th>\n",
              "      <td>월트디즈니컴퍼니코리아 유한책임회사,한국소니픽쳐스릴리징브에나비스타영화㈜</td>\n",
              "      <td>7074867.0</td>\n",
              "    </tr>\n",
              "    <tr>\n",
              "      <th>1015</th>\n",
              "      <td>플러스엠 엔터테인먼트,(주)키위미디어그룹</td>\n",
              "      <td>6851297.0</td>\n",
              "    </tr>\n",
              "    <tr>\n",
              "      <th>941</th>\n",
              "      <td>주식회사 에이비오엔터테인먼트,플러스엠 엔터테인먼트</td>\n",
              "      <td>6755951.5</td>\n",
              "    </tr>\n",
              "    <tr>\n",
              "      <th>...</th>\n",
              "      <td>...</td>\n",
              "      <td>...</td>\n",
              "    </tr>\n",
              "    <tr>\n",
              "      <th>216</th>\n",
              "      <td>(주)빅마운틴컬쳐스</td>\n",
              "      <td>1.0</td>\n",
              "    </tr>\n",
              "    <tr>\n",
              "      <th>218</th>\n",
              "      <td>(주)빅콘미디어</td>\n",
              "      <td>1.0</td>\n",
              "    </tr>\n",
              "    <tr>\n",
              "      <th>353</th>\n",
              "      <td>(주)영화공간</td>\n",
              "      <td>1.0</td>\n",
              "    </tr>\n",
              "    <tr>\n",
              "      <th>551</th>\n",
              "      <td>(주)해머픽쳐스</td>\n",
              "      <td>1.0</td>\n",
              "    </tr>\n",
              "    <tr>\n",
              "      <th>592</th>\n",
              "      <td>TCO(주)더콘텐츠온,(주)케이알씨지</td>\n",
              "      <td>1.0</td>\n",
              "    </tr>\n",
              "  </tbody>\n",
              "</table>\n",
              "<p>1037 rows × 2 columns</p>\n",
              "</div>\n",
              "      <button class=\"colab-df-convert\" onclick=\"convertToInteractive('df-adeb31a1-8b36-43d3-a135-ee66fb7aaff1')\"\n",
              "              title=\"Convert this dataframe to an interactive table.\"\n",
              "              style=\"display:none;\">\n",
              "        \n",
              "  <svg xmlns=\"http://www.w3.org/2000/svg\" height=\"24px\"viewBox=\"0 0 24 24\"\n",
              "       width=\"24px\">\n",
              "    <path d=\"M0 0h24v24H0V0z\" fill=\"none\"/>\n",
              "    <path d=\"M18.56 5.44l.94 2.06.94-2.06 2.06-.94-2.06-.94-.94-2.06-.94 2.06-2.06.94zm-11 1L8.5 8.5l.94-2.06 2.06-.94-2.06-.94L8.5 2.5l-.94 2.06-2.06.94zm10 10l.94 2.06.94-2.06 2.06-.94-2.06-.94-.94-2.06-.94 2.06-2.06.94z\"/><path d=\"M17.41 7.96l-1.37-1.37c-.4-.4-.92-.59-1.43-.59-.52 0-1.04.2-1.43.59L10.3 9.45l-7.72 7.72c-.78.78-.78 2.05 0 2.83L4 21.41c.39.39.9.59 1.41.59.51 0 1.02-.2 1.41-.59l7.78-7.78 2.81-2.81c.8-.78.8-2.07 0-2.86zM5.41 20L4 18.59l7.72-7.72 1.47 1.35L5.41 20z\"/>\n",
              "  </svg>\n",
              "      </button>\n",
              "      \n",
              "  <style>\n",
              "    .colab-df-container {\n",
              "      display:flex;\n",
              "      flex-wrap:wrap;\n",
              "      gap: 12px;\n",
              "    }\n",
              "\n",
              "    .colab-df-convert {\n",
              "      background-color: #E8F0FE;\n",
              "      border: none;\n",
              "      border-radius: 50%;\n",
              "      cursor: pointer;\n",
              "      display: none;\n",
              "      fill: #1967D2;\n",
              "      height: 32px;\n",
              "      padding: 0 0 0 0;\n",
              "      width: 32px;\n",
              "    }\n",
              "\n",
              "    .colab-df-convert:hover {\n",
              "      background-color: #E2EBFA;\n",
              "      box-shadow: 0px 1px 2px rgba(60, 64, 67, 0.3), 0px 1px 3px 1px rgba(60, 64, 67, 0.15);\n",
              "      fill: #174EA6;\n",
              "    }\n",
              "\n",
              "    [theme=dark] .colab-df-convert {\n",
              "      background-color: #3B4455;\n",
              "      fill: #D2E3FC;\n",
              "    }\n",
              "\n",
              "    [theme=dark] .colab-df-convert:hover {\n",
              "      background-color: #434B5C;\n",
              "      box-shadow: 0px 1px 3px 1px rgba(0, 0, 0, 0.15);\n",
              "      filter: drop-shadow(0px 1px 2px rgba(0, 0, 0, 0.3));\n",
              "      fill: #FFFFFF;\n",
              "    }\n",
              "  </style>\n",
              "\n",
              "      <script>\n",
              "        const buttonEl =\n",
              "          document.querySelector('#df-adeb31a1-8b36-43d3-a135-ee66fb7aaff1 button.colab-df-convert');\n",
              "        buttonEl.style.display =\n",
              "          google.colab.kernel.accessAllowed ? 'block' : 'none';\n",
              "\n",
              "        async function convertToInteractive(key) {\n",
              "          const element = document.querySelector('#df-adeb31a1-8b36-43d3-a135-ee66fb7aaff1');\n",
              "          const dataTable =\n",
              "            await google.colab.kernel.invokeFunction('convertToInteractive',\n",
              "                                                     [key], {});\n",
              "          if (!dataTable) return;\n",
              "\n",
              "          const docLinkHtml = 'Like what you see? Visit the ' +\n",
              "            '<a target=\"_blank\" href=https://colab.research.google.com/notebooks/data_table.ipynb>data table notebook</a>'\n",
              "            + ' to learn more about interactive tables.';\n",
              "          element.innerHTML = '';\n",
              "          dataTable['output_type'] = 'display_data';\n",
              "          await google.colab.output.renderOutput(dataTable, element);\n",
              "          const docLink = document.createElement('div');\n",
              "          docLink.innerHTML = docLinkHtml;\n",
              "          element.appendChild(docLink);\n",
              "        }\n",
              "      </script>\n",
              "    </div>\n",
              "  </div>\n",
              "  "
            ]
          },
          "metadata": {},
          "execution_count": 71
        }
      ]
    },
    {
      "cell_type": "code",
      "source": [
        "df.loc[df['배급사'] == '월트디즈니컴퍼니코리아 유한책임회사,월트디즈니컴퍼니코리아(주)']"
      ],
      "metadata": {
        "colab": {
          "base_uri": "https://localhost:8080/",
          "height": 208
        },
        "id": "KW-A37HQJWiH",
        "outputId": "778c3c54-8006-430b-9204-c9c318c2c4e6"
      },
      "execution_count": 72,
      "outputs": [
        {
          "output_type": "execute_result",
          "data": {
            "text/plain": [
              "                 영화명           감독                                배급사 영화형태  국적  \\\n",
              "18  어벤져스: 에이지 오브 울트론        조스 웨던  월트디즈니컴퍼니코리아 유한책임회사,월트디즈니컴퍼니코리아(주)   장편  미국   \n",
              "28     캡틴 아메리카: 시빌 워  안소니 루소,조 루소  월트디즈니컴퍼니코리아 유한책임회사,월트디즈니컴퍼니코리아(주)   장편  미국   \n",
              "\n",
              "    전국 스크린수       전국 매출액    전국 관객수       서울 매출액   서울 관객수  장르        등급 영화구분  \\\n",
              "18     1843  88582586366  10494499  25001906266  2823388  액션  12세이상관람가   일반   \n",
              "28     1991  72672111827   8677249  21248121149  2400069  액션  12세이상관람가   일반   \n",
              "\n",
              "      연도  월  \n",
              "18  2015  4  \n",
              "28  2016  4  "
            ],
            "text/html": [
              "\n",
              "  <div id=\"df-1ef32d80-c5bc-4633-880c-37d05644f63a\">\n",
              "    <div class=\"colab-df-container\">\n",
              "      <div>\n",
              "<style scoped>\n",
              "    .dataframe tbody tr th:only-of-type {\n",
              "        vertical-align: middle;\n",
              "    }\n",
              "\n",
              "    .dataframe tbody tr th {\n",
              "        vertical-align: top;\n",
              "    }\n",
              "\n",
              "    .dataframe thead th {\n",
              "        text-align: right;\n",
              "    }\n",
              "</style>\n",
              "<table border=\"1\" class=\"dataframe\">\n",
              "  <thead>\n",
              "    <tr style=\"text-align: right;\">\n",
              "      <th></th>\n",
              "      <th>영화명</th>\n",
              "      <th>감독</th>\n",
              "      <th>배급사</th>\n",
              "      <th>영화형태</th>\n",
              "      <th>국적</th>\n",
              "      <th>전국 스크린수</th>\n",
              "      <th>전국 매출액</th>\n",
              "      <th>전국 관객수</th>\n",
              "      <th>서울 매출액</th>\n",
              "      <th>서울 관객수</th>\n",
              "      <th>장르</th>\n",
              "      <th>등급</th>\n",
              "      <th>영화구분</th>\n",
              "      <th>연도</th>\n",
              "      <th>월</th>\n",
              "    </tr>\n",
              "  </thead>\n",
              "  <tbody>\n",
              "    <tr>\n",
              "      <th>18</th>\n",
              "      <td>어벤져스: 에이지 오브 울트론</td>\n",
              "      <td>조스 웨던</td>\n",
              "      <td>월트디즈니컴퍼니코리아 유한책임회사,월트디즈니컴퍼니코리아(주)</td>\n",
              "      <td>장편</td>\n",
              "      <td>미국</td>\n",
              "      <td>1843</td>\n",
              "      <td>88582586366</td>\n",
              "      <td>10494499</td>\n",
              "      <td>25001906266</td>\n",
              "      <td>2823388</td>\n",
              "      <td>액션</td>\n",
              "      <td>12세이상관람가</td>\n",
              "      <td>일반</td>\n",
              "      <td>2015</td>\n",
              "      <td>4</td>\n",
              "    </tr>\n",
              "    <tr>\n",
              "      <th>28</th>\n",
              "      <td>캡틴 아메리카: 시빌 워</td>\n",
              "      <td>안소니 루소,조 루소</td>\n",
              "      <td>월트디즈니컴퍼니코리아 유한책임회사,월트디즈니컴퍼니코리아(주)</td>\n",
              "      <td>장편</td>\n",
              "      <td>미국</td>\n",
              "      <td>1991</td>\n",
              "      <td>72672111827</td>\n",
              "      <td>8677249</td>\n",
              "      <td>21248121149</td>\n",
              "      <td>2400069</td>\n",
              "      <td>액션</td>\n",
              "      <td>12세이상관람가</td>\n",
              "      <td>일반</td>\n",
              "      <td>2016</td>\n",
              "      <td>4</td>\n",
              "    </tr>\n",
              "  </tbody>\n",
              "</table>\n",
              "</div>\n",
              "      <button class=\"colab-df-convert\" onclick=\"convertToInteractive('df-1ef32d80-c5bc-4633-880c-37d05644f63a')\"\n",
              "              title=\"Convert this dataframe to an interactive table.\"\n",
              "              style=\"display:none;\">\n",
              "        \n",
              "  <svg xmlns=\"http://www.w3.org/2000/svg\" height=\"24px\"viewBox=\"0 0 24 24\"\n",
              "       width=\"24px\">\n",
              "    <path d=\"M0 0h24v24H0V0z\" fill=\"none\"/>\n",
              "    <path d=\"M18.56 5.44l.94 2.06.94-2.06 2.06-.94-2.06-.94-.94-2.06-.94 2.06-2.06.94zm-11 1L8.5 8.5l.94-2.06 2.06-.94-2.06-.94L8.5 2.5l-.94 2.06-2.06.94zm10 10l.94 2.06.94-2.06 2.06-.94-2.06-.94-.94-2.06-.94 2.06-2.06.94z\"/><path d=\"M17.41 7.96l-1.37-1.37c-.4-.4-.92-.59-1.43-.59-.52 0-1.04.2-1.43.59L10.3 9.45l-7.72 7.72c-.78.78-.78 2.05 0 2.83L4 21.41c.39.39.9.59 1.41.59.51 0 1.02-.2 1.41-.59l7.78-7.78 2.81-2.81c.8-.78.8-2.07 0-2.86zM5.41 20L4 18.59l7.72-7.72 1.47 1.35L5.41 20z\"/>\n",
              "  </svg>\n",
              "      </button>\n",
              "      \n",
              "  <style>\n",
              "    .colab-df-container {\n",
              "      display:flex;\n",
              "      flex-wrap:wrap;\n",
              "      gap: 12px;\n",
              "    }\n",
              "\n",
              "    .colab-df-convert {\n",
              "      background-color: #E8F0FE;\n",
              "      border: none;\n",
              "      border-radius: 50%;\n",
              "      cursor: pointer;\n",
              "      display: none;\n",
              "      fill: #1967D2;\n",
              "      height: 32px;\n",
              "      padding: 0 0 0 0;\n",
              "      width: 32px;\n",
              "    }\n",
              "\n",
              "    .colab-df-convert:hover {\n",
              "      background-color: #E2EBFA;\n",
              "      box-shadow: 0px 1px 2px rgba(60, 64, 67, 0.3), 0px 1px 3px 1px rgba(60, 64, 67, 0.15);\n",
              "      fill: #174EA6;\n",
              "    }\n",
              "\n",
              "    [theme=dark] .colab-df-convert {\n",
              "      background-color: #3B4455;\n",
              "      fill: #D2E3FC;\n",
              "    }\n",
              "\n",
              "    [theme=dark] .colab-df-convert:hover {\n",
              "      background-color: #434B5C;\n",
              "      box-shadow: 0px 1px 3px 1px rgba(0, 0, 0, 0.15);\n",
              "      filter: drop-shadow(0px 1px 2px rgba(0, 0, 0, 0.3));\n",
              "      fill: #FFFFFF;\n",
              "    }\n",
              "  </style>\n",
              "\n",
              "      <script>\n",
              "        const buttonEl =\n",
              "          document.querySelector('#df-1ef32d80-c5bc-4633-880c-37d05644f63a button.colab-df-convert');\n",
              "        buttonEl.style.display =\n",
              "          google.colab.kernel.accessAllowed ? 'block' : 'none';\n",
              "\n",
              "        async function convertToInteractive(key) {\n",
              "          const element = document.querySelector('#df-1ef32d80-c5bc-4633-880c-37d05644f63a');\n",
              "          const dataTable =\n",
              "            await google.colab.kernel.invokeFunction('convertToInteractive',\n",
              "                                                     [key], {});\n",
              "          if (!dataTable) return;\n",
              "\n",
              "          const docLinkHtml = 'Like what you see? Visit the ' +\n",
              "            '<a target=\"_blank\" href=https://colab.research.google.com/notebooks/data_table.ipynb>data table notebook</a>'\n",
              "            + ' to learn more about interactive tables.';\n",
              "          element.innerHTML = '';\n",
              "          dataTable['output_type'] = 'display_data';\n",
              "          await google.colab.output.renderOutput(dataTable, element);\n",
              "          const docLink = document.createElement('div');\n",
              "          docLink.innerHTML = docLinkHtml;\n",
              "          element.appendChild(docLink);\n",
              "        }\n",
              "      </script>\n",
              "    </div>\n",
              "  </div>\n",
              "  "
            ]
          },
          "metadata": {},
          "execution_count": 72
        }
      ]
    },
    {
      "cell_type": "code",
      "source": [
        "df = pd.merge(df, rank_배급사, how = 'left')"
      ],
      "metadata": {
        "id": "YSLaEPiwLWO7"
      },
      "execution_count": 73,
      "outputs": []
    },
    {
      "cell_type": "code",
      "source": [
        "df['감독'].value_counts()"
      ],
      "metadata": {
        "id": "NHLnrNe_N5AD",
        "colab": {
          "base_uri": "https://localhost:8080/"
        },
        "outputId": "3b04ae06-588a-4d91-a32e-3af0b0625231"
      },
      "execution_count": 74,
      "outputs": [
        {
          "output_type": "execute_result",
          "data": {
            "text/plain": [
              "버드맨 텟페이      123\n",
              "나가에 타카미       90\n",
              "강정훈           88\n",
              "강현성           87\n",
              "토미죠 타로        80\n",
              "            ... \n",
              "김동령,박경태        1\n",
              "토미나가 마사노리      1\n",
              "김민근            1\n",
              "이완 맥그리거        1\n",
              "레 탄 선          1\n",
              "Name: 감독, Length: 6819, dtype: int64"
            ]
          },
          "metadata": {},
          "execution_count": 74
        }
      ]
    },
    {
      "cell_type": "code",
      "source": [
        "#감독별 관객수 평균 기준으로 점수 -> 수치화\n",
        "rank_감독 = df.groupby('감독')['전국 관객수'].mean().reset_index(name = '감독_p').sort_values(by = '감독_p', ascending=False)\n",
        "rank_감독"
      ],
      "metadata": {
        "colab": {
          "base_uri": "https://localhost:8080/",
          "height": 424
        },
        "id": "OmjPifCELP5M",
        "outputId": "d6a66964-0862-4f9b-9af4-e9520f3da1b7"
      },
      "execution_count": 75,
      "outputs": [
        {
          "output_type": "execute_result",
          "data": {
            "text/plain": [
              "               감독          감독_p\n",
              "4157          윤제균  1.424600e+07\n",
              "4291          이상용  1.269302e+07\n",
              "5818  크리스 벅,제니퍼 리  1.202195e+07\n",
              "4283          이상근  9.426051e+06\n",
              "486           김용화  9.330964e+06\n",
              "...           ...           ...\n",
              "3147      아람 라파포트  1.000000e+00\n",
              "3166       아르만도 보  1.000000e+00\n",
              "5954     타노미 소카이도  1.000000e+00\n",
              "1299        레 탄 선  0.000000e+00\n",
              "6620          허재형  0.000000e+00\n",
              "\n",
              "[6819 rows x 2 columns]"
            ],
            "text/html": [
              "\n",
              "  <div id=\"df-30c9c4b8-db14-47c4-9ded-578f4ed263cd\">\n",
              "    <div class=\"colab-df-container\">\n",
              "      <div>\n",
              "<style scoped>\n",
              "    .dataframe tbody tr th:only-of-type {\n",
              "        vertical-align: middle;\n",
              "    }\n",
              "\n",
              "    .dataframe tbody tr th {\n",
              "        vertical-align: top;\n",
              "    }\n",
              "\n",
              "    .dataframe thead th {\n",
              "        text-align: right;\n",
              "    }\n",
              "</style>\n",
              "<table border=\"1\" class=\"dataframe\">\n",
              "  <thead>\n",
              "    <tr style=\"text-align: right;\">\n",
              "      <th></th>\n",
              "      <th>감독</th>\n",
              "      <th>감독_p</th>\n",
              "    </tr>\n",
              "  </thead>\n",
              "  <tbody>\n",
              "    <tr>\n",
              "      <th>4157</th>\n",
              "      <td>윤제균</td>\n",
              "      <td>1.424600e+07</td>\n",
              "    </tr>\n",
              "    <tr>\n",
              "      <th>4291</th>\n",
              "      <td>이상용</td>\n",
              "      <td>1.269302e+07</td>\n",
              "    </tr>\n",
              "    <tr>\n",
              "      <th>5818</th>\n",
              "      <td>크리스 벅,제니퍼 리</td>\n",
              "      <td>1.202195e+07</td>\n",
              "    </tr>\n",
              "    <tr>\n",
              "      <th>4283</th>\n",
              "      <td>이상근</td>\n",
              "      <td>9.426051e+06</td>\n",
              "    </tr>\n",
              "    <tr>\n",
              "      <th>486</th>\n",
              "      <td>김용화</td>\n",
              "      <td>9.330964e+06</td>\n",
              "    </tr>\n",
              "    <tr>\n",
              "      <th>...</th>\n",
              "      <td>...</td>\n",
              "      <td>...</td>\n",
              "    </tr>\n",
              "    <tr>\n",
              "      <th>3147</th>\n",
              "      <td>아람 라파포트</td>\n",
              "      <td>1.000000e+00</td>\n",
              "    </tr>\n",
              "    <tr>\n",
              "      <th>3166</th>\n",
              "      <td>아르만도 보</td>\n",
              "      <td>1.000000e+00</td>\n",
              "    </tr>\n",
              "    <tr>\n",
              "      <th>5954</th>\n",
              "      <td>타노미 소카이도</td>\n",
              "      <td>1.000000e+00</td>\n",
              "    </tr>\n",
              "    <tr>\n",
              "      <th>1299</th>\n",
              "      <td>레 탄 선</td>\n",
              "      <td>0.000000e+00</td>\n",
              "    </tr>\n",
              "    <tr>\n",
              "      <th>6620</th>\n",
              "      <td>허재형</td>\n",
              "      <td>0.000000e+00</td>\n",
              "    </tr>\n",
              "  </tbody>\n",
              "</table>\n",
              "<p>6819 rows × 2 columns</p>\n",
              "</div>\n",
              "      <button class=\"colab-df-convert\" onclick=\"convertToInteractive('df-30c9c4b8-db14-47c4-9ded-578f4ed263cd')\"\n",
              "              title=\"Convert this dataframe to an interactive table.\"\n",
              "              style=\"display:none;\">\n",
              "        \n",
              "  <svg xmlns=\"http://www.w3.org/2000/svg\" height=\"24px\"viewBox=\"0 0 24 24\"\n",
              "       width=\"24px\">\n",
              "    <path d=\"M0 0h24v24H0V0z\" fill=\"none\"/>\n",
              "    <path d=\"M18.56 5.44l.94 2.06.94-2.06 2.06-.94-2.06-.94-.94-2.06-.94 2.06-2.06.94zm-11 1L8.5 8.5l.94-2.06 2.06-.94-2.06-.94L8.5 2.5l-.94 2.06-2.06.94zm10 10l.94 2.06.94-2.06 2.06-.94-2.06-.94-.94-2.06-.94 2.06-2.06.94z\"/><path d=\"M17.41 7.96l-1.37-1.37c-.4-.4-.92-.59-1.43-.59-.52 0-1.04.2-1.43.59L10.3 9.45l-7.72 7.72c-.78.78-.78 2.05 0 2.83L4 21.41c.39.39.9.59 1.41.59.51 0 1.02-.2 1.41-.59l7.78-7.78 2.81-2.81c.8-.78.8-2.07 0-2.86zM5.41 20L4 18.59l7.72-7.72 1.47 1.35L5.41 20z\"/>\n",
              "  </svg>\n",
              "      </button>\n",
              "      \n",
              "  <style>\n",
              "    .colab-df-container {\n",
              "      display:flex;\n",
              "      flex-wrap:wrap;\n",
              "      gap: 12px;\n",
              "    }\n",
              "\n",
              "    .colab-df-convert {\n",
              "      background-color: #E8F0FE;\n",
              "      border: none;\n",
              "      border-radius: 50%;\n",
              "      cursor: pointer;\n",
              "      display: none;\n",
              "      fill: #1967D2;\n",
              "      height: 32px;\n",
              "      padding: 0 0 0 0;\n",
              "      width: 32px;\n",
              "    }\n",
              "\n",
              "    .colab-df-convert:hover {\n",
              "      background-color: #E2EBFA;\n",
              "      box-shadow: 0px 1px 2px rgba(60, 64, 67, 0.3), 0px 1px 3px 1px rgba(60, 64, 67, 0.15);\n",
              "      fill: #174EA6;\n",
              "    }\n",
              "\n",
              "    [theme=dark] .colab-df-convert {\n",
              "      background-color: #3B4455;\n",
              "      fill: #D2E3FC;\n",
              "    }\n",
              "\n",
              "    [theme=dark] .colab-df-convert:hover {\n",
              "      background-color: #434B5C;\n",
              "      box-shadow: 0px 1px 3px 1px rgba(0, 0, 0, 0.15);\n",
              "      filter: drop-shadow(0px 1px 2px rgba(0, 0, 0, 0.3));\n",
              "      fill: #FFFFFF;\n",
              "    }\n",
              "  </style>\n",
              "\n",
              "      <script>\n",
              "        const buttonEl =\n",
              "          document.querySelector('#df-30c9c4b8-db14-47c4-9ded-578f4ed263cd button.colab-df-convert');\n",
              "        buttonEl.style.display =\n",
              "          google.colab.kernel.accessAllowed ? 'block' : 'none';\n",
              "\n",
              "        async function convertToInteractive(key) {\n",
              "          const element = document.querySelector('#df-30c9c4b8-db14-47c4-9ded-578f4ed263cd');\n",
              "          const dataTable =\n",
              "            await google.colab.kernel.invokeFunction('convertToInteractive',\n",
              "                                                     [key], {});\n",
              "          if (!dataTable) return;\n",
              "\n",
              "          const docLinkHtml = 'Like what you see? Visit the ' +\n",
              "            '<a target=\"_blank\" href=https://colab.research.google.com/notebooks/data_table.ipynb>data table notebook</a>'\n",
              "            + ' to learn more about interactive tables.';\n",
              "          element.innerHTML = '';\n",
              "          dataTable['output_type'] = 'display_data';\n",
              "          await google.colab.output.renderOutput(dataTable, element);\n",
              "          const docLink = document.createElement('div');\n",
              "          docLink.innerHTML = docLinkHtml;\n",
              "          element.appendChild(docLink);\n",
              "        }\n",
              "      </script>\n",
              "    </div>\n",
              "  </div>\n",
              "  "
            ]
          },
          "metadata": {},
          "execution_count": 75
        }
      ]
    },
    {
      "cell_type": "code",
      "source": [
        "df = pd.merge(df, rank_감독, how = 'left')"
      ],
      "metadata": {
        "id": "wcuAIlTFMEIr"
      },
      "execution_count": 76,
      "outputs": []
    },
    {
      "cell_type": "code",
      "source": [
        "df.head(3)"
      ],
      "metadata": {
        "colab": {
          "base_uri": "https://localhost:8080/",
          "height": 257
        },
        "id": "Gymhv6EPEBLB",
        "outputId": "1cad8dc7-0fda-48ce-d17e-085f8c556394"
      },
      "execution_count": 77,
      "outputs": [
        {
          "output_type": "execute_result",
          "data": {
            "text/plain": [
              "         영화명   감독            배급사 영화형태  국적  전국 스크린수        전국 매출액    전국 관객수  \\\n",
              "0         명량  김한민      (주)씨제이이엔엠   장편  한국     1587  135748398910  17613682   \n",
              "1       극한직업  이병헌      (주)씨제이이엔엠   장편  한국     1978  139647979516  16264944   \n",
              "2  신과함께-죄와 벌  김용화  롯데쇼핑㈜롯데엔터테인먼트   장편  한국     1912  115698654137  14410754   \n",
              "\n",
              "        서울 매출액   서울 관객수   장르        등급 영화구분    연도   월         배급사_p  \\\n",
              "0  33121225810  4163666   사극  15세이상관람가   일반  2014   7  1.722708e+06   \n",
              "1  31858660536  3638287  코미디  15세이상관람가   일반  2019   1  1.722708e+06   \n",
              "2  27530825087  3346172  판타지  12세이상관람가   일반  2017  12  9.580224e+05   \n",
              "\n",
              "           감독_p  \n",
              "0  8.088772e+06  \n",
              "1  5.124140e+06  \n",
              "2  9.330964e+06  "
            ],
            "text/html": [
              "\n",
              "  <div id=\"df-ff04b3f4-2c6c-4b65-85cf-1e21e226173d\">\n",
              "    <div class=\"colab-df-container\">\n",
              "      <div>\n",
              "<style scoped>\n",
              "    .dataframe tbody tr th:only-of-type {\n",
              "        vertical-align: middle;\n",
              "    }\n",
              "\n",
              "    .dataframe tbody tr th {\n",
              "        vertical-align: top;\n",
              "    }\n",
              "\n",
              "    .dataframe thead th {\n",
              "        text-align: right;\n",
              "    }\n",
              "</style>\n",
              "<table border=\"1\" class=\"dataframe\">\n",
              "  <thead>\n",
              "    <tr style=\"text-align: right;\">\n",
              "      <th></th>\n",
              "      <th>영화명</th>\n",
              "      <th>감독</th>\n",
              "      <th>배급사</th>\n",
              "      <th>영화형태</th>\n",
              "      <th>국적</th>\n",
              "      <th>전국 스크린수</th>\n",
              "      <th>전국 매출액</th>\n",
              "      <th>전국 관객수</th>\n",
              "      <th>서울 매출액</th>\n",
              "      <th>서울 관객수</th>\n",
              "      <th>장르</th>\n",
              "      <th>등급</th>\n",
              "      <th>영화구분</th>\n",
              "      <th>연도</th>\n",
              "      <th>월</th>\n",
              "      <th>배급사_p</th>\n",
              "      <th>감독_p</th>\n",
              "    </tr>\n",
              "  </thead>\n",
              "  <tbody>\n",
              "    <tr>\n",
              "      <th>0</th>\n",
              "      <td>명량</td>\n",
              "      <td>김한민</td>\n",
              "      <td>(주)씨제이이엔엠</td>\n",
              "      <td>장편</td>\n",
              "      <td>한국</td>\n",
              "      <td>1587</td>\n",
              "      <td>135748398910</td>\n",
              "      <td>17613682</td>\n",
              "      <td>33121225810</td>\n",
              "      <td>4163666</td>\n",
              "      <td>사극</td>\n",
              "      <td>15세이상관람가</td>\n",
              "      <td>일반</td>\n",
              "      <td>2014</td>\n",
              "      <td>7</td>\n",
              "      <td>1.722708e+06</td>\n",
              "      <td>8.088772e+06</td>\n",
              "    </tr>\n",
              "    <tr>\n",
              "      <th>1</th>\n",
              "      <td>극한직업</td>\n",
              "      <td>이병헌</td>\n",
              "      <td>(주)씨제이이엔엠</td>\n",
              "      <td>장편</td>\n",
              "      <td>한국</td>\n",
              "      <td>1978</td>\n",
              "      <td>139647979516</td>\n",
              "      <td>16264944</td>\n",
              "      <td>31858660536</td>\n",
              "      <td>3638287</td>\n",
              "      <td>코미디</td>\n",
              "      <td>15세이상관람가</td>\n",
              "      <td>일반</td>\n",
              "      <td>2019</td>\n",
              "      <td>1</td>\n",
              "      <td>1.722708e+06</td>\n",
              "      <td>5.124140e+06</td>\n",
              "    </tr>\n",
              "    <tr>\n",
              "      <th>2</th>\n",
              "      <td>신과함께-죄와 벌</td>\n",
              "      <td>김용화</td>\n",
              "      <td>롯데쇼핑㈜롯데엔터테인먼트</td>\n",
              "      <td>장편</td>\n",
              "      <td>한국</td>\n",
              "      <td>1912</td>\n",
              "      <td>115698654137</td>\n",
              "      <td>14410754</td>\n",
              "      <td>27530825087</td>\n",
              "      <td>3346172</td>\n",
              "      <td>판타지</td>\n",
              "      <td>12세이상관람가</td>\n",
              "      <td>일반</td>\n",
              "      <td>2017</td>\n",
              "      <td>12</td>\n",
              "      <td>9.580224e+05</td>\n",
              "      <td>9.330964e+06</td>\n",
              "    </tr>\n",
              "  </tbody>\n",
              "</table>\n",
              "</div>\n",
              "      <button class=\"colab-df-convert\" onclick=\"convertToInteractive('df-ff04b3f4-2c6c-4b65-85cf-1e21e226173d')\"\n",
              "              title=\"Convert this dataframe to an interactive table.\"\n",
              "              style=\"display:none;\">\n",
              "        \n",
              "  <svg xmlns=\"http://www.w3.org/2000/svg\" height=\"24px\"viewBox=\"0 0 24 24\"\n",
              "       width=\"24px\">\n",
              "    <path d=\"M0 0h24v24H0V0z\" fill=\"none\"/>\n",
              "    <path d=\"M18.56 5.44l.94 2.06.94-2.06 2.06-.94-2.06-.94-.94-2.06-.94 2.06-2.06.94zm-11 1L8.5 8.5l.94-2.06 2.06-.94-2.06-.94L8.5 2.5l-.94 2.06-2.06.94zm10 10l.94 2.06.94-2.06 2.06-.94-2.06-.94-.94-2.06-.94 2.06-2.06.94z\"/><path d=\"M17.41 7.96l-1.37-1.37c-.4-.4-.92-.59-1.43-.59-.52 0-1.04.2-1.43.59L10.3 9.45l-7.72 7.72c-.78.78-.78 2.05 0 2.83L4 21.41c.39.39.9.59 1.41.59.51 0 1.02-.2 1.41-.59l7.78-7.78 2.81-2.81c.8-.78.8-2.07 0-2.86zM5.41 20L4 18.59l7.72-7.72 1.47 1.35L5.41 20z\"/>\n",
              "  </svg>\n",
              "      </button>\n",
              "      \n",
              "  <style>\n",
              "    .colab-df-container {\n",
              "      display:flex;\n",
              "      flex-wrap:wrap;\n",
              "      gap: 12px;\n",
              "    }\n",
              "\n",
              "    .colab-df-convert {\n",
              "      background-color: #E8F0FE;\n",
              "      border: none;\n",
              "      border-radius: 50%;\n",
              "      cursor: pointer;\n",
              "      display: none;\n",
              "      fill: #1967D2;\n",
              "      height: 32px;\n",
              "      padding: 0 0 0 0;\n",
              "      width: 32px;\n",
              "    }\n",
              "\n",
              "    .colab-df-convert:hover {\n",
              "      background-color: #E2EBFA;\n",
              "      box-shadow: 0px 1px 2px rgba(60, 64, 67, 0.3), 0px 1px 3px 1px rgba(60, 64, 67, 0.15);\n",
              "      fill: #174EA6;\n",
              "    }\n",
              "\n",
              "    [theme=dark] .colab-df-convert {\n",
              "      background-color: #3B4455;\n",
              "      fill: #D2E3FC;\n",
              "    }\n",
              "\n",
              "    [theme=dark] .colab-df-convert:hover {\n",
              "      background-color: #434B5C;\n",
              "      box-shadow: 0px 1px 3px 1px rgba(0, 0, 0, 0.15);\n",
              "      filter: drop-shadow(0px 1px 2px rgba(0, 0, 0, 0.3));\n",
              "      fill: #FFFFFF;\n",
              "    }\n",
              "  </style>\n",
              "\n",
              "      <script>\n",
              "        const buttonEl =\n",
              "          document.querySelector('#df-ff04b3f4-2c6c-4b65-85cf-1e21e226173d button.colab-df-convert');\n",
              "        buttonEl.style.display =\n",
              "          google.colab.kernel.accessAllowed ? 'block' : 'none';\n",
              "\n",
              "        async function convertToInteractive(key) {\n",
              "          const element = document.querySelector('#df-ff04b3f4-2c6c-4b65-85cf-1e21e226173d');\n",
              "          const dataTable =\n",
              "            await google.colab.kernel.invokeFunction('convertToInteractive',\n",
              "                                                     [key], {});\n",
              "          if (!dataTable) return;\n",
              "\n",
              "          const docLinkHtml = 'Like what you see? Visit the ' +\n",
              "            '<a target=\"_blank\" href=https://colab.research.google.com/notebooks/data_table.ipynb>data table notebook</a>'\n",
              "            + ' to learn more about interactive tables.';\n",
              "          element.innerHTML = '';\n",
              "          dataTable['output_type'] = 'display_data';\n",
              "          await google.colab.output.renderOutput(dataTable, element);\n",
              "          const docLink = document.createElement('div');\n",
              "          docLink.innerHTML = docLinkHtml;\n",
              "          element.appendChild(docLink);\n",
              "        }\n",
              "      </script>\n",
              "    </div>\n",
              "  </div>\n",
              "  "
            ]
          },
          "metadata": {},
          "execution_count": 77
        }
      ]
    },
    {
      "cell_type": "code",
      "source": [
        "data_null = df[df['배급사_p'].isnull()]\n",
        "data_null.head(3)"
      ],
      "metadata": {
        "colab": {
          "base_uri": "https://localhost:8080/",
          "height": 257
        },
        "id": "FGsBOeJ758ma",
        "outputId": "839d0d79-f3f4-4691-b9a9-d3b6ac9a5a6c"
      },
      "execution_count": 78,
      "outputs": [
        {
          "output_type": "execute_result",
          "data": {
            "text/plain": [
              "                                                  영화명   감독  배급사 영화형태  국적  \\\n",
              "1510                                               출국  노규엽  NaN   장편  한국   \n",
              "7472  미라클 문 페스티벌 츠키우타. 버추얼 라이브 2019 사계 딜레이 뷰잉 ~가을 버전~  NaN  NaN   장편  일본   \n",
              "7479  미라클 문 페스티벌 츠키우타. 버추얼 라이브 2019 사계 딜레이 뷰잉 ~겨울 버전~  NaN  NaN   장편  일본   \n",
              "\n",
              "      전국 스크린수     전국 매출액  전국 관객수     서울 매출액  서울 관객수     장르        등급 영화구분  \\\n",
              "1510      274  639521850   81722  244385200   32001    드라마  15세이상관람가   독립   \n",
              "7472        1    3510000     117    3510000     117  애니메이션     전체관람가   일반   \n",
              "7479        1    3479000     116    3479000     116  애니메이션     전체관람가   일반   \n",
              "\n",
              "        연도   월  배급사_p     감독_p  \n",
              "1510  2018  11    NaN  81722.0  \n",
              "7472  2019  12    NaN      NaN  \n",
              "7479  2019  12    NaN      NaN  "
            ],
            "text/html": [
              "\n",
              "  <div id=\"df-43b51712-87dc-4609-81e3-28b88083809b\">\n",
              "    <div class=\"colab-df-container\">\n",
              "      <div>\n",
              "<style scoped>\n",
              "    .dataframe tbody tr th:only-of-type {\n",
              "        vertical-align: middle;\n",
              "    }\n",
              "\n",
              "    .dataframe tbody tr th {\n",
              "        vertical-align: top;\n",
              "    }\n",
              "\n",
              "    .dataframe thead th {\n",
              "        text-align: right;\n",
              "    }\n",
              "</style>\n",
              "<table border=\"1\" class=\"dataframe\">\n",
              "  <thead>\n",
              "    <tr style=\"text-align: right;\">\n",
              "      <th></th>\n",
              "      <th>영화명</th>\n",
              "      <th>감독</th>\n",
              "      <th>배급사</th>\n",
              "      <th>영화형태</th>\n",
              "      <th>국적</th>\n",
              "      <th>전국 스크린수</th>\n",
              "      <th>전국 매출액</th>\n",
              "      <th>전국 관객수</th>\n",
              "      <th>서울 매출액</th>\n",
              "      <th>서울 관객수</th>\n",
              "      <th>장르</th>\n",
              "      <th>등급</th>\n",
              "      <th>영화구분</th>\n",
              "      <th>연도</th>\n",
              "      <th>월</th>\n",
              "      <th>배급사_p</th>\n",
              "      <th>감독_p</th>\n",
              "    </tr>\n",
              "  </thead>\n",
              "  <tbody>\n",
              "    <tr>\n",
              "      <th>1510</th>\n",
              "      <td>출국</td>\n",
              "      <td>노규엽</td>\n",
              "      <td>NaN</td>\n",
              "      <td>장편</td>\n",
              "      <td>한국</td>\n",
              "      <td>274</td>\n",
              "      <td>639521850</td>\n",
              "      <td>81722</td>\n",
              "      <td>244385200</td>\n",
              "      <td>32001</td>\n",
              "      <td>드라마</td>\n",
              "      <td>15세이상관람가</td>\n",
              "      <td>독립</td>\n",
              "      <td>2018</td>\n",
              "      <td>11</td>\n",
              "      <td>NaN</td>\n",
              "      <td>81722.0</td>\n",
              "    </tr>\n",
              "    <tr>\n",
              "      <th>7472</th>\n",
              "      <td>미라클 문 페스티벌 츠키우타. 버추얼 라이브 2019 사계 딜레이 뷰잉 ~가을 버전~</td>\n",
              "      <td>NaN</td>\n",
              "      <td>NaN</td>\n",
              "      <td>장편</td>\n",
              "      <td>일본</td>\n",
              "      <td>1</td>\n",
              "      <td>3510000</td>\n",
              "      <td>117</td>\n",
              "      <td>3510000</td>\n",
              "      <td>117</td>\n",
              "      <td>애니메이션</td>\n",
              "      <td>전체관람가</td>\n",
              "      <td>일반</td>\n",
              "      <td>2019</td>\n",
              "      <td>12</td>\n",
              "      <td>NaN</td>\n",
              "      <td>NaN</td>\n",
              "    </tr>\n",
              "    <tr>\n",
              "      <th>7479</th>\n",
              "      <td>미라클 문 페스티벌 츠키우타. 버추얼 라이브 2019 사계 딜레이 뷰잉 ~겨울 버전~</td>\n",
              "      <td>NaN</td>\n",
              "      <td>NaN</td>\n",
              "      <td>장편</td>\n",
              "      <td>일본</td>\n",
              "      <td>1</td>\n",
              "      <td>3479000</td>\n",
              "      <td>116</td>\n",
              "      <td>3479000</td>\n",
              "      <td>116</td>\n",
              "      <td>애니메이션</td>\n",
              "      <td>전체관람가</td>\n",
              "      <td>일반</td>\n",
              "      <td>2019</td>\n",
              "      <td>12</td>\n",
              "      <td>NaN</td>\n",
              "      <td>NaN</td>\n",
              "    </tr>\n",
              "  </tbody>\n",
              "</table>\n",
              "</div>\n",
              "      <button class=\"colab-df-convert\" onclick=\"convertToInteractive('df-43b51712-87dc-4609-81e3-28b88083809b')\"\n",
              "              title=\"Convert this dataframe to an interactive table.\"\n",
              "              style=\"display:none;\">\n",
              "        \n",
              "  <svg xmlns=\"http://www.w3.org/2000/svg\" height=\"24px\"viewBox=\"0 0 24 24\"\n",
              "       width=\"24px\">\n",
              "    <path d=\"M0 0h24v24H0V0z\" fill=\"none\"/>\n",
              "    <path d=\"M18.56 5.44l.94 2.06.94-2.06 2.06-.94-2.06-.94-.94-2.06-.94 2.06-2.06.94zm-11 1L8.5 8.5l.94-2.06 2.06-.94-2.06-.94L8.5 2.5l-.94 2.06-2.06.94zm10 10l.94 2.06.94-2.06 2.06-.94-2.06-.94-.94-2.06-.94 2.06-2.06.94z\"/><path d=\"M17.41 7.96l-1.37-1.37c-.4-.4-.92-.59-1.43-.59-.52 0-1.04.2-1.43.59L10.3 9.45l-7.72 7.72c-.78.78-.78 2.05 0 2.83L4 21.41c.39.39.9.59 1.41.59.51 0 1.02-.2 1.41-.59l7.78-7.78 2.81-2.81c.8-.78.8-2.07 0-2.86zM5.41 20L4 18.59l7.72-7.72 1.47 1.35L5.41 20z\"/>\n",
              "  </svg>\n",
              "      </button>\n",
              "      \n",
              "  <style>\n",
              "    .colab-df-container {\n",
              "      display:flex;\n",
              "      flex-wrap:wrap;\n",
              "      gap: 12px;\n",
              "    }\n",
              "\n",
              "    .colab-df-convert {\n",
              "      background-color: #E8F0FE;\n",
              "      border: none;\n",
              "      border-radius: 50%;\n",
              "      cursor: pointer;\n",
              "      display: none;\n",
              "      fill: #1967D2;\n",
              "      height: 32px;\n",
              "      padding: 0 0 0 0;\n",
              "      width: 32px;\n",
              "    }\n",
              "\n",
              "    .colab-df-convert:hover {\n",
              "      background-color: #E2EBFA;\n",
              "      box-shadow: 0px 1px 2px rgba(60, 64, 67, 0.3), 0px 1px 3px 1px rgba(60, 64, 67, 0.15);\n",
              "      fill: #174EA6;\n",
              "    }\n",
              "\n",
              "    [theme=dark] .colab-df-convert {\n",
              "      background-color: #3B4455;\n",
              "      fill: #D2E3FC;\n",
              "    }\n",
              "\n",
              "    [theme=dark] .colab-df-convert:hover {\n",
              "      background-color: #434B5C;\n",
              "      box-shadow: 0px 1px 3px 1px rgba(0, 0, 0, 0.15);\n",
              "      filter: drop-shadow(0px 1px 2px rgba(0, 0, 0, 0.3));\n",
              "      fill: #FFFFFF;\n",
              "    }\n",
              "  </style>\n",
              "\n",
              "      <script>\n",
              "        const buttonEl =\n",
              "          document.querySelector('#df-43b51712-87dc-4609-81e3-28b88083809b button.colab-df-convert');\n",
              "        buttonEl.style.display =\n",
              "          google.colab.kernel.accessAllowed ? 'block' : 'none';\n",
              "\n",
              "        async function convertToInteractive(key) {\n",
              "          const element = document.querySelector('#df-43b51712-87dc-4609-81e3-28b88083809b');\n",
              "          const dataTable =\n",
              "            await google.colab.kernel.invokeFunction('convertToInteractive',\n",
              "                                                     [key], {});\n",
              "          if (!dataTable) return;\n",
              "\n",
              "          const docLinkHtml = 'Like what you see? Visit the ' +\n",
              "            '<a target=\"_blank\" href=https://colab.research.google.com/notebooks/data_table.ipynb>data table notebook</a>'\n",
              "            + ' to learn more about interactive tables.';\n",
              "          element.innerHTML = '';\n",
              "          dataTable['output_type'] = 'display_data';\n",
              "          await google.colab.output.renderOutput(dataTable, element);\n",
              "          const docLink = document.createElement('div');\n",
              "          docLink.innerHTML = docLinkHtml;\n",
              "          element.appendChild(docLink);\n",
              "        }\n",
              "      </script>\n",
              "    </div>\n",
              "  </div>\n",
              "  "
            ]
          },
          "metadata": {},
          "execution_count": 78
        }
      ]
    },
    {
      "cell_type": "code",
      "source": [
        "df['배급사_p'] = np.where(pd.notnull(df['배급사_p']) == True, df['배급사_p'], df['전국 관객수'])"
      ],
      "metadata": {
        "id": "apvBAujFD7Hu"
      },
      "execution_count": 79,
      "outputs": []
    },
    {
      "cell_type": "code",
      "source": [
        "df['감독_p'] = np.where(pd.notnull(df['감독_p']) == True, df['감독_p'], df['전국 관객수'])"
      ],
      "metadata": {
        "id": "th87d8r-E1f4"
      },
      "execution_count": 80,
      "outputs": []
    },
    {
      "cell_type": "code",
      "source": [
        "df.info()"
      ],
      "metadata": {
        "colab": {
          "base_uri": "https://localhost:8080/"
        },
        "id": "8GP7CkkAFAe_",
        "outputId": "c8dd0ca9-c102-4484-e0ab-fa6543d69b96"
      },
      "execution_count": 81,
      "outputs": [
        {
          "output_type": "stream",
          "name": "stdout",
          "text": [
            "<class 'pandas.core.frame.DataFrame'>\n",
            "Int64Index: 16692 entries, 0 to 16691\n",
            "Data columns (total 17 columns):\n",
            " #   Column   Non-Null Count  Dtype  \n",
            "---  ------   --------------  -----  \n",
            " 0   영화명      16692 non-null  object \n",
            " 1   감독       15471 non-null  object \n",
            " 2   배급사      16676 non-null  object \n",
            " 3   영화형태     16692 non-null  object \n",
            " 4   국적       16692 non-null  object \n",
            " 5   전국 스크린수  16692 non-null  int64  \n",
            " 6   전국 매출액   16692 non-null  int64  \n",
            " 7   전국 관객수   16692 non-null  int64  \n",
            " 8   서울 매출액   16692 non-null  int64  \n",
            " 9   서울 관객수   16692 non-null  int64  \n",
            " 10  장르       16621 non-null  object \n",
            " 11  등급       16692 non-null  object \n",
            " 12  영화구분     16692 non-null  object \n",
            " 13  연도       16692 non-null  int64  \n",
            " 14  월        16692 non-null  int64  \n",
            " 15  배급사_p    16692 non-null  float64\n",
            " 16  감독_p     16692 non-null  float64\n",
            "dtypes: float64(2), int64(7), object(8)\n",
            "memory usage: 2.3+ MB\n"
          ]
        }
      ]
    },
    {
      "cell_type": "code",
      "source": [
        "df.sample(3)"
      ],
      "metadata": {
        "colab": {
          "base_uri": "https://localhost:8080/",
          "height": 257
        },
        "id": "ET7wO5gPK6NF",
        "outputId": "c4d57def-81a5-44a1-98e2-2a47b5b0a02b"
      },
      "execution_count": 82,
      "outputs": [
        {
          "output_type": "execute_result",
          "data": {
            "text/plain": [
              "          영화명       감독            배급사 영화형태  국적  전국 스크린수    전국 매출액  전국 관객수  \\\n",
              "14827  유혹의 한계  데미언 로메이   (주)티앤엘엔터테인먼트   장편  미국        1      1000       1   \n",
              "8837   전사 씨야마  프리차 송사쿨       (주)케이알씨지   장편  태국        5    163000      48   \n",
              "4951   울림의 탄생      이정준  영화배급협동조합 씨네소파   장편  한국        7  12174900    1677   \n",
              "\n",
              "        서울 매출액  서울 관객수     장르        등급 영화구분    연도   월        배급사_p    감독_p  \n",
              "14827        0       0    스릴러  15세이상관람가   일반  2022   1   235.750000     1.0  \n",
              "8837     12000       5     액션  12세이상관람가   독립  2016  12   238.674086    48.0  \n",
              "4951   2486900     257  다큐멘터리     전체관람가   독립  2021  10  1266.500000  1677.0  "
            ],
            "text/html": [
              "\n",
              "  <div id=\"df-610b160c-adcd-492b-bc62-344c9b766245\">\n",
              "    <div class=\"colab-df-container\">\n",
              "      <div>\n",
              "<style scoped>\n",
              "    .dataframe tbody tr th:only-of-type {\n",
              "        vertical-align: middle;\n",
              "    }\n",
              "\n",
              "    .dataframe tbody tr th {\n",
              "        vertical-align: top;\n",
              "    }\n",
              "\n",
              "    .dataframe thead th {\n",
              "        text-align: right;\n",
              "    }\n",
              "</style>\n",
              "<table border=\"1\" class=\"dataframe\">\n",
              "  <thead>\n",
              "    <tr style=\"text-align: right;\">\n",
              "      <th></th>\n",
              "      <th>영화명</th>\n",
              "      <th>감독</th>\n",
              "      <th>배급사</th>\n",
              "      <th>영화형태</th>\n",
              "      <th>국적</th>\n",
              "      <th>전국 스크린수</th>\n",
              "      <th>전국 매출액</th>\n",
              "      <th>전국 관객수</th>\n",
              "      <th>서울 매출액</th>\n",
              "      <th>서울 관객수</th>\n",
              "      <th>장르</th>\n",
              "      <th>등급</th>\n",
              "      <th>영화구분</th>\n",
              "      <th>연도</th>\n",
              "      <th>월</th>\n",
              "      <th>배급사_p</th>\n",
              "      <th>감독_p</th>\n",
              "    </tr>\n",
              "  </thead>\n",
              "  <tbody>\n",
              "    <tr>\n",
              "      <th>14827</th>\n",
              "      <td>유혹의 한계</td>\n",
              "      <td>데미언 로메이</td>\n",
              "      <td>(주)티앤엘엔터테인먼트</td>\n",
              "      <td>장편</td>\n",
              "      <td>미국</td>\n",
              "      <td>1</td>\n",
              "      <td>1000</td>\n",
              "      <td>1</td>\n",
              "      <td>0</td>\n",
              "      <td>0</td>\n",
              "      <td>스릴러</td>\n",
              "      <td>15세이상관람가</td>\n",
              "      <td>일반</td>\n",
              "      <td>2022</td>\n",
              "      <td>1</td>\n",
              "      <td>235.750000</td>\n",
              "      <td>1.0</td>\n",
              "    </tr>\n",
              "    <tr>\n",
              "      <th>8837</th>\n",
              "      <td>전사 씨야마</td>\n",
              "      <td>프리차 송사쿨</td>\n",
              "      <td>(주)케이알씨지</td>\n",
              "      <td>장편</td>\n",
              "      <td>태국</td>\n",
              "      <td>5</td>\n",
              "      <td>163000</td>\n",
              "      <td>48</td>\n",
              "      <td>12000</td>\n",
              "      <td>5</td>\n",
              "      <td>액션</td>\n",
              "      <td>12세이상관람가</td>\n",
              "      <td>독립</td>\n",
              "      <td>2016</td>\n",
              "      <td>12</td>\n",
              "      <td>238.674086</td>\n",
              "      <td>48.0</td>\n",
              "    </tr>\n",
              "    <tr>\n",
              "      <th>4951</th>\n",
              "      <td>울림의 탄생</td>\n",
              "      <td>이정준</td>\n",
              "      <td>영화배급협동조합 씨네소파</td>\n",
              "      <td>장편</td>\n",
              "      <td>한국</td>\n",
              "      <td>7</td>\n",
              "      <td>12174900</td>\n",
              "      <td>1677</td>\n",
              "      <td>2486900</td>\n",
              "      <td>257</td>\n",
              "      <td>다큐멘터리</td>\n",
              "      <td>전체관람가</td>\n",
              "      <td>독립</td>\n",
              "      <td>2021</td>\n",
              "      <td>10</td>\n",
              "      <td>1266.500000</td>\n",
              "      <td>1677.0</td>\n",
              "    </tr>\n",
              "  </tbody>\n",
              "</table>\n",
              "</div>\n",
              "      <button class=\"colab-df-convert\" onclick=\"convertToInteractive('df-610b160c-adcd-492b-bc62-344c9b766245')\"\n",
              "              title=\"Convert this dataframe to an interactive table.\"\n",
              "              style=\"display:none;\">\n",
              "        \n",
              "  <svg xmlns=\"http://www.w3.org/2000/svg\" height=\"24px\"viewBox=\"0 0 24 24\"\n",
              "       width=\"24px\">\n",
              "    <path d=\"M0 0h24v24H0V0z\" fill=\"none\"/>\n",
              "    <path d=\"M18.56 5.44l.94 2.06.94-2.06 2.06-.94-2.06-.94-.94-2.06-.94 2.06-2.06.94zm-11 1L8.5 8.5l.94-2.06 2.06-.94-2.06-.94L8.5 2.5l-.94 2.06-2.06.94zm10 10l.94 2.06.94-2.06 2.06-.94-2.06-.94-.94-2.06-.94 2.06-2.06.94z\"/><path d=\"M17.41 7.96l-1.37-1.37c-.4-.4-.92-.59-1.43-.59-.52 0-1.04.2-1.43.59L10.3 9.45l-7.72 7.72c-.78.78-.78 2.05 0 2.83L4 21.41c.39.39.9.59 1.41.59.51 0 1.02-.2 1.41-.59l7.78-7.78 2.81-2.81c.8-.78.8-2.07 0-2.86zM5.41 20L4 18.59l7.72-7.72 1.47 1.35L5.41 20z\"/>\n",
              "  </svg>\n",
              "      </button>\n",
              "      \n",
              "  <style>\n",
              "    .colab-df-container {\n",
              "      display:flex;\n",
              "      flex-wrap:wrap;\n",
              "      gap: 12px;\n",
              "    }\n",
              "\n",
              "    .colab-df-convert {\n",
              "      background-color: #E8F0FE;\n",
              "      border: none;\n",
              "      border-radius: 50%;\n",
              "      cursor: pointer;\n",
              "      display: none;\n",
              "      fill: #1967D2;\n",
              "      height: 32px;\n",
              "      padding: 0 0 0 0;\n",
              "      width: 32px;\n",
              "    }\n",
              "\n",
              "    .colab-df-convert:hover {\n",
              "      background-color: #E2EBFA;\n",
              "      box-shadow: 0px 1px 2px rgba(60, 64, 67, 0.3), 0px 1px 3px 1px rgba(60, 64, 67, 0.15);\n",
              "      fill: #174EA6;\n",
              "    }\n",
              "\n",
              "    [theme=dark] .colab-df-convert {\n",
              "      background-color: #3B4455;\n",
              "      fill: #D2E3FC;\n",
              "    }\n",
              "\n",
              "    [theme=dark] .colab-df-convert:hover {\n",
              "      background-color: #434B5C;\n",
              "      box-shadow: 0px 1px 3px 1px rgba(0, 0, 0, 0.15);\n",
              "      filter: drop-shadow(0px 1px 2px rgba(0, 0, 0, 0.3));\n",
              "      fill: #FFFFFF;\n",
              "    }\n",
              "  </style>\n",
              "\n",
              "      <script>\n",
              "        const buttonEl =\n",
              "          document.querySelector('#df-610b160c-adcd-492b-bc62-344c9b766245 button.colab-df-convert');\n",
              "        buttonEl.style.display =\n",
              "          google.colab.kernel.accessAllowed ? 'block' : 'none';\n",
              "\n",
              "        async function convertToInteractive(key) {\n",
              "          const element = document.querySelector('#df-610b160c-adcd-492b-bc62-344c9b766245');\n",
              "          const dataTable =\n",
              "            await google.colab.kernel.invokeFunction('convertToInteractive',\n",
              "                                                     [key], {});\n",
              "          if (!dataTable) return;\n",
              "\n",
              "          const docLinkHtml = 'Like what you see? Visit the ' +\n",
              "            '<a target=\"_blank\" href=https://colab.research.google.com/notebooks/data_table.ipynb>data table notebook</a>'\n",
              "            + ' to learn more about interactive tables.';\n",
              "          element.innerHTML = '';\n",
              "          dataTable['output_type'] = 'display_data';\n",
              "          await google.colab.output.renderOutput(dataTable, element);\n",
              "          const docLink = document.createElement('div');\n",
              "          docLink.innerHTML = docLinkHtml;\n",
              "          element.appendChild(docLink);\n",
              "        }\n",
              "      </script>\n",
              "    </div>\n",
              "  </div>\n",
              "  "
            ]
          },
          "metadata": {},
          "execution_count": 82
        }
      ]
    },
    {
      "cell_type": "code",
      "source": [
        "df.columns"
      ],
      "metadata": {
        "colab": {
          "base_uri": "https://localhost:8080/"
        },
        "id": "OLJp0OC0MiuI",
        "outputId": "e85eae3c-803f-4344-a343-f8b327792dc9"
      },
      "execution_count": 83,
      "outputs": [
        {
          "output_type": "execute_result",
          "data": {
            "text/plain": [
              "Index(['영화명', '감독', '배급사', '영화형태', '국적', '전국 스크린수', '전국 매출액', '전국 관객수',\n",
              "       '서울 매출액', '서울 관객수', '장르', '등급', '영화구분', '연도', '월', '배급사_p', '감독_p'],\n",
              "      dtype='object')"
            ]
          },
          "metadata": {},
          "execution_count": 83
        }
      ]
    },
    {
      "cell_type": "code",
      "source": [
        "df = df[['영화명', '감독', '감독_p', '배급사', '배급사_p', '영화형태', '영화구분', '국적', '연도', '월', \n",
        "         '장르', '등급', '전국 스크린수', '전국 매출액', '전국 관객수', '서울 매출액', '서울 관객수']]"
      ],
      "metadata": {
        "id": "8EBhy8fDMt-P"
      },
      "execution_count": 84,
      "outputs": []
    },
    {
      "cell_type": "code",
      "source": [
        "df['영화형태'].value_counts()"
      ],
      "metadata": {
        "id": "bmXjpJ8uN-mz",
        "colab": {
          "base_uri": "https://localhost:8080/"
        },
        "outputId": "e029aa30-8c85-47c4-8d94-92f1f6a728b5"
      },
      "execution_count": 85,
      "outputs": [
        {
          "output_type": "execute_result",
          "data": {
            "text/plain": [
              "장편      16635\n",
              "옴니버스       55\n",
              "단편          2\n",
              "Name: 영화형태, dtype: int64"
            ]
          },
          "metadata": {},
          "execution_count": 85
        }
      ]
    },
    {
      "cell_type": "code",
      "source": [
        "df.loc[df['영화형태'] == '옴니버스']"
      ],
      "metadata": {
        "colab": {
          "base_uri": "https://localhost:8080/",
          "height": 832
        },
        "id": "3tayl6ELNgun",
        "outputId": "35194939-5048-4663-eff4-4df650060b8a"
      },
      "execution_count": 86,
      "outputs": [
        {
          "output_type": "execute_result",
          "data": {
            "text/plain": [
              "                        영화명                     감독       감독_p  \\\n",
              "745               무서운 이야기 2         김성호,김휘,정범식,민규동   492465.0   \n",
              "904                 무서운 이야기  정범식,임대웅,홍지영,김곡,김선,민규동   331760.0   \n",
              "1421               인류멸망 보고서                    김지운  2137336.5   \n",
              "1432  무서운 이야기 3 : 화성에서 온 소녀          백승빈,김선,김곡,민규동    95415.0   \n",
              "2043   메밀꽃, 운수 좋은 날, 그리고 봄봄                안재훈,한혜진    28592.0   \n",
              "...                     ...                    ...        ...   \n",
              "7444                나의 먼 가족        한소리,이선영,김경범,오세희      121.0   \n",
              "7708                  노맨스랜드        박중하,신지현,김상혁,지화자       84.0   \n",
              "8740                욕망: 신세계              야마시타 노부히로     2933.2   \n",
              "8871                  어떤 하루            정가영,전선호,최진혁       45.0   \n",
              "9917         2017 동명이인 프로젝트                    이경원       70.5   \n",
              "\n",
              "                           배급사          배급사_p  영화형태 영화구분  국적    연도  월      장르  \\\n",
              "745              롯데쇼핑㈜롯데엔터테인먼트  958022.373563  옴니버스   일반  한국  2013  6    미스터리   \n",
              "904              롯데쇼핑㈜롯데엔터테인먼트  958022.373563  옴니버스   일반  한국  2012  7  공포(호러)   \n",
              "1421  롯데쇼핑㈜롯데엔터테인먼트,타임스토리그룹(주)   97555.000000  옴니버스   일반  한국  2012  4      SF   \n",
              "1432             롯데쇼핑㈜롯데엔터테인먼트  958022.373563  옴니버스   일반  한국  2016  6  공포(호러)   \n",
              "2043                       이달투   17179.500000  옴니버스   독립  한국  2014  8   애니메이션   \n",
              "...                        ...            ...   ...  ...  ..   ... ..     ...   \n",
              "7444                 주식회사 씨엠닉스     188.615385  옴니버스   독립  한국  2021  4      기타   \n",
              "7708                  영화사 유일무이      84.000000  옴니버스   독립  한국  2018  7     코미디   \n",
              "8740                 (유)조이앤시네마     695.137931  옴니버스   독립  일본  2022  5     드라마   \n",
              "8871               (주)무빙픽쳐스컴퍼니   20068.666667  옴니버스   독립  한국  2017  6     드라마   \n",
              "9917                      올드웨일      70.500000  옴니버스   독립  한국  2018  5      기타   \n",
              "\n",
              "            등급  전국 스크린수      전국 매출액  전국 관객수     서울 매출액  서울 관객수  \n",
              "745   15세이상관람가      337  3375472500  492465  766405500  105175  \n",
              "904    청소년관람불가      274  2452368566  331760  677799507   87835  \n",
              "1421  15세이상관람가      236   702418000   97555  228281500   29802  \n",
              "1432  15세이상관람가      317   764967500   95415  164623500   19541  \n",
              "2043     전체관람가       37   220210100   33751   96543000   13552  \n",
              "...        ...      ...         ...     ...        ...     ...  \n",
              "7444  12세이상관람가        1      337000     121          0       0  \n",
              "7708  15세이상관람가        1      601000      84          0       0  \n",
              "8740  12세이상관람가        4      172000      52     100000      20  \n",
              "8871  15세이상관람가        5      344000      45     197000      21  \n",
              "9917  12세이상관람가        1      110000      11          0       0  \n",
              "\n",
              "[55 rows x 17 columns]"
            ],
            "text/html": [
              "\n",
              "  <div id=\"df-0f4def8d-bd5c-4ca8-9ab2-96161b4672e6\">\n",
              "    <div class=\"colab-df-container\">\n",
              "      <div>\n",
              "<style scoped>\n",
              "    .dataframe tbody tr th:only-of-type {\n",
              "        vertical-align: middle;\n",
              "    }\n",
              "\n",
              "    .dataframe tbody tr th {\n",
              "        vertical-align: top;\n",
              "    }\n",
              "\n",
              "    .dataframe thead th {\n",
              "        text-align: right;\n",
              "    }\n",
              "</style>\n",
              "<table border=\"1\" class=\"dataframe\">\n",
              "  <thead>\n",
              "    <tr style=\"text-align: right;\">\n",
              "      <th></th>\n",
              "      <th>영화명</th>\n",
              "      <th>감독</th>\n",
              "      <th>감독_p</th>\n",
              "      <th>배급사</th>\n",
              "      <th>배급사_p</th>\n",
              "      <th>영화형태</th>\n",
              "      <th>영화구분</th>\n",
              "      <th>국적</th>\n",
              "      <th>연도</th>\n",
              "      <th>월</th>\n",
              "      <th>장르</th>\n",
              "      <th>등급</th>\n",
              "      <th>전국 스크린수</th>\n",
              "      <th>전국 매출액</th>\n",
              "      <th>전국 관객수</th>\n",
              "      <th>서울 매출액</th>\n",
              "      <th>서울 관객수</th>\n",
              "    </tr>\n",
              "  </thead>\n",
              "  <tbody>\n",
              "    <tr>\n",
              "      <th>745</th>\n",
              "      <td>무서운 이야기 2</td>\n",
              "      <td>김성호,김휘,정범식,민규동</td>\n",
              "      <td>492465.0</td>\n",
              "      <td>롯데쇼핑㈜롯데엔터테인먼트</td>\n",
              "      <td>958022.373563</td>\n",
              "      <td>옴니버스</td>\n",
              "      <td>일반</td>\n",
              "      <td>한국</td>\n",
              "      <td>2013</td>\n",
              "      <td>6</td>\n",
              "      <td>미스터리</td>\n",
              "      <td>15세이상관람가</td>\n",
              "      <td>337</td>\n",
              "      <td>3375472500</td>\n",
              "      <td>492465</td>\n",
              "      <td>766405500</td>\n",
              "      <td>105175</td>\n",
              "    </tr>\n",
              "    <tr>\n",
              "      <th>904</th>\n",
              "      <td>무서운 이야기</td>\n",
              "      <td>정범식,임대웅,홍지영,김곡,김선,민규동</td>\n",
              "      <td>331760.0</td>\n",
              "      <td>롯데쇼핑㈜롯데엔터테인먼트</td>\n",
              "      <td>958022.373563</td>\n",
              "      <td>옴니버스</td>\n",
              "      <td>일반</td>\n",
              "      <td>한국</td>\n",
              "      <td>2012</td>\n",
              "      <td>7</td>\n",
              "      <td>공포(호러)</td>\n",
              "      <td>청소년관람불가</td>\n",
              "      <td>274</td>\n",
              "      <td>2452368566</td>\n",
              "      <td>331760</td>\n",
              "      <td>677799507</td>\n",
              "      <td>87835</td>\n",
              "    </tr>\n",
              "    <tr>\n",
              "      <th>1421</th>\n",
              "      <td>인류멸망 보고서</td>\n",
              "      <td>김지운</td>\n",
              "      <td>2137336.5</td>\n",
              "      <td>롯데쇼핑㈜롯데엔터테인먼트,타임스토리그룹(주)</td>\n",
              "      <td>97555.000000</td>\n",
              "      <td>옴니버스</td>\n",
              "      <td>일반</td>\n",
              "      <td>한국</td>\n",
              "      <td>2012</td>\n",
              "      <td>4</td>\n",
              "      <td>SF</td>\n",
              "      <td>15세이상관람가</td>\n",
              "      <td>236</td>\n",
              "      <td>702418000</td>\n",
              "      <td>97555</td>\n",
              "      <td>228281500</td>\n",
              "      <td>29802</td>\n",
              "    </tr>\n",
              "    <tr>\n",
              "      <th>1432</th>\n",
              "      <td>무서운 이야기 3 : 화성에서 온 소녀</td>\n",
              "      <td>백승빈,김선,김곡,민규동</td>\n",
              "      <td>95415.0</td>\n",
              "      <td>롯데쇼핑㈜롯데엔터테인먼트</td>\n",
              "      <td>958022.373563</td>\n",
              "      <td>옴니버스</td>\n",
              "      <td>일반</td>\n",
              "      <td>한국</td>\n",
              "      <td>2016</td>\n",
              "      <td>6</td>\n",
              "      <td>공포(호러)</td>\n",
              "      <td>15세이상관람가</td>\n",
              "      <td>317</td>\n",
              "      <td>764967500</td>\n",
              "      <td>95415</td>\n",
              "      <td>164623500</td>\n",
              "      <td>19541</td>\n",
              "    </tr>\n",
              "    <tr>\n",
              "      <th>2043</th>\n",
              "      <td>메밀꽃, 운수 좋은 날, 그리고 봄봄</td>\n",
              "      <td>안재훈,한혜진</td>\n",
              "      <td>28592.0</td>\n",
              "      <td>이달투</td>\n",
              "      <td>17179.500000</td>\n",
              "      <td>옴니버스</td>\n",
              "      <td>독립</td>\n",
              "      <td>한국</td>\n",
              "      <td>2014</td>\n",
              "      <td>8</td>\n",
              "      <td>애니메이션</td>\n",
              "      <td>전체관람가</td>\n",
              "      <td>37</td>\n",
              "      <td>220210100</td>\n",
              "      <td>33751</td>\n",
              "      <td>96543000</td>\n",
              "      <td>13552</td>\n",
              "    </tr>\n",
              "    <tr>\n",
              "      <th>...</th>\n",
              "      <td>...</td>\n",
              "      <td>...</td>\n",
              "      <td>...</td>\n",
              "      <td>...</td>\n",
              "      <td>...</td>\n",
              "      <td>...</td>\n",
              "      <td>...</td>\n",
              "      <td>...</td>\n",
              "      <td>...</td>\n",
              "      <td>...</td>\n",
              "      <td>...</td>\n",
              "      <td>...</td>\n",
              "      <td>...</td>\n",
              "      <td>...</td>\n",
              "      <td>...</td>\n",
              "      <td>...</td>\n",
              "      <td>...</td>\n",
              "    </tr>\n",
              "    <tr>\n",
              "      <th>7444</th>\n",
              "      <td>나의 먼 가족</td>\n",
              "      <td>한소리,이선영,김경범,오세희</td>\n",
              "      <td>121.0</td>\n",
              "      <td>주식회사 씨엠닉스</td>\n",
              "      <td>188.615385</td>\n",
              "      <td>옴니버스</td>\n",
              "      <td>독립</td>\n",
              "      <td>한국</td>\n",
              "      <td>2021</td>\n",
              "      <td>4</td>\n",
              "      <td>기타</td>\n",
              "      <td>12세이상관람가</td>\n",
              "      <td>1</td>\n",
              "      <td>337000</td>\n",
              "      <td>121</td>\n",
              "      <td>0</td>\n",
              "      <td>0</td>\n",
              "    </tr>\n",
              "    <tr>\n",
              "      <th>7708</th>\n",
              "      <td>노맨스랜드</td>\n",
              "      <td>박중하,신지현,김상혁,지화자</td>\n",
              "      <td>84.0</td>\n",
              "      <td>영화사 유일무이</td>\n",
              "      <td>84.000000</td>\n",
              "      <td>옴니버스</td>\n",
              "      <td>독립</td>\n",
              "      <td>한국</td>\n",
              "      <td>2018</td>\n",
              "      <td>7</td>\n",
              "      <td>코미디</td>\n",
              "      <td>15세이상관람가</td>\n",
              "      <td>1</td>\n",
              "      <td>601000</td>\n",
              "      <td>84</td>\n",
              "      <td>0</td>\n",
              "      <td>0</td>\n",
              "    </tr>\n",
              "    <tr>\n",
              "      <th>8740</th>\n",
              "      <td>욕망: 신세계</td>\n",
              "      <td>야마시타 노부히로</td>\n",
              "      <td>2933.2</td>\n",
              "      <td>(유)조이앤시네마</td>\n",
              "      <td>695.137931</td>\n",
              "      <td>옴니버스</td>\n",
              "      <td>독립</td>\n",
              "      <td>일본</td>\n",
              "      <td>2022</td>\n",
              "      <td>5</td>\n",
              "      <td>드라마</td>\n",
              "      <td>12세이상관람가</td>\n",
              "      <td>4</td>\n",
              "      <td>172000</td>\n",
              "      <td>52</td>\n",
              "      <td>100000</td>\n",
              "      <td>20</td>\n",
              "    </tr>\n",
              "    <tr>\n",
              "      <th>8871</th>\n",
              "      <td>어떤 하루</td>\n",
              "      <td>정가영,전선호,최진혁</td>\n",
              "      <td>45.0</td>\n",
              "      <td>(주)무빙픽쳐스컴퍼니</td>\n",
              "      <td>20068.666667</td>\n",
              "      <td>옴니버스</td>\n",
              "      <td>독립</td>\n",
              "      <td>한국</td>\n",
              "      <td>2017</td>\n",
              "      <td>6</td>\n",
              "      <td>드라마</td>\n",
              "      <td>15세이상관람가</td>\n",
              "      <td>5</td>\n",
              "      <td>344000</td>\n",
              "      <td>45</td>\n",
              "      <td>197000</td>\n",
              "      <td>21</td>\n",
              "    </tr>\n",
              "    <tr>\n",
              "      <th>9917</th>\n",
              "      <td>2017 동명이인 프로젝트</td>\n",
              "      <td>이경원</td>\n",
              "      <td>70.5</td>\n",
              "      <td>올드웨일</td>\n",
              "      <td>70.500000</td>\n",
              "      <td>옴니버스</td>\n",
              "      <td>독립</td>\n",
              "      <td>한국</td>\n",
              "      <td>2018</td>\n",
              "      <td>5</td>\n",
              "      <td>기타</td>\n",
              "      <td>12세이상관람가</td>\n",
              "      <td>1</td>\n",
              "      <td>110000</td>\n",
              "      <td>11</td>\n",
              "      <td>0</td>\n",
              "      <td>0</td>\n",
              "    </tr>\n",
              "  </tbody>\n",
              "</table>\n",
              "<p>55 rows × 17 columns</p>\n",
              "</div>\n",
              "      <button class=\"colab-df-convert\" onclick=\"convertToInteractive('df-0f4def8d-bd5c-4ca8-9ab2-96161b4672e6')\"\n",
              "              title=\"Convert this dataframe to an interactive table.\"\n",
              "              style=\"display:none;\">\n",
              "        \n",
              "  <svg xmlns=\"http://www.w3.org/2000/svg\" height=\"24px\"viewBox=\"0 0 24 24\"\n",
              "       width=\"24px\">\n",
              "    <path d=\"M0 0h24v24H0V0z\" fill=\"none\"/>\n",
              "    <path d=\"M18.56 5.44l.94 2.06.94-2.06 2.06-.94-2.06-.94-.94-2.06-.94 2.06-2.06.94zm-11 1L8.5 8.5l.94-2.06 2.06-.94-2.06-.94L8.5 2.5l-.94 2.06-2.06.94zm10 10l.94 2.06.94-2.06 2.06-.94-2.06-.94-.94-2.06-.94 2.06-2.06.94z\"/><path d=\"M17.41 7.96l-1.37-1.37c-.4-.4-.92-.59-1.43-.59-.52 0-1.04.2-1.43.59L10.3 9.45l-7.72 7.72c-.78.78-.78 2.05 0 2.83L4 21.41c.39.39.9.59 1.41.59.51 0 1.02-.2 1.41-.59l7.78-7.78 2.81-2.81c.8-.78.8-2.07 0-2.86zM5.41 20L4 18.59l7.72-7.72 1.47 1.35L5.41 20z\"/>\n",
              "  </svg>\n",
              "      </button>\n",
              "      \n",
              "  <style>\n",
              "    .colab-df-container {\n",
              "      display:flex;\n",
              "      flex-wrap:wrap;\n",
              "      gap: 12px;\n",
              "    }\n",
              "\n",
              "    .colab-df-convert {\n",
              "      background-color: #E8F0FE;\n",
              "      border: none;\n",
              "      border-radius: 50%;\n",
              "      cursor: pointer;\n",
              "      display: none;\n",
              "      fill: #1967D2;\n",
              "      height: 32px;\n",
              "      padding: 0 0 0 0;\n",
              "      width: 32px;\n",
              "    }\n",
              "\n",
              "    .colab-df-convert:hover {\n",
              "      background-color: #E2EBFA;\n",
              "      box-shadow: 0px 1px 2px rgba(60, 64, 67, 0.3), 0px 1px 3px 1px rgba(60, 64, 67, 0.15);\n",
              "      fill: #174EA6;\n",
              "    }\n",
              "\n",
              "    [theme=dark] .colab-df-convert {\n",
              "      background-color: #3B4455;\n",
              "      fill: #D2E3FC;\n",
              "    }\n",
              "\n",
              "    [theme=dark] .colab-df-convert:hover {\n",
              "      background-color: #434B5C;\n",
              "      box-shadow: 0px 1px 3px 1px rgba(0, 0, 0, 0.15);\n",
              "      filter: drop-shadow(0px 1px 2px rgba(0, 0, 0, 0.3));\n",
              "      fill: #FFFFFF;\n",
              "    }\n",
              "  </style>\n",
              "\n",
              "      <script>\n",
              "        const buttonEl =\n",
              "          document.querySelector('#df-0f4def8d-bd5c-4ca8-9ab2-96161b4672e6 button.colab-df-convert');\n",
              "        buttonEl.style.display =\n",
              "          google.colab.kernel.accessAllowed ? 'block' : 'none';\n",
              "\n",
              "        async function convertToInteractive(key) {\n",
              "          const element = document.querySelector('#df-0f4def8d-bd5c-4ca8-9ab2-96161b4672e6');\n",
              "          const dataTable =\n",
              "            await google.colab.kernel.invokeFunction('convertToInteractive',\n",
              "                                                     [key], {});\n",
              "          if (!dataTable) return;\n",
              "\n",
              "          const docLinkHtml = 'Like what you see? Visit the ' +\n",
              "            '<a target=\"_blank\" href=https://colab.research.google.com/notebooks/data_table.ipynb>data table notebook</a>'\n",
              "            + ' to learn more about interactive tables.';\n",
              "          element.innerHTML = '';\n",
              "          dataTable['output_type'] = 'display_data';\n",
              "          await google.colab.output.renderOutput(dataTable, element);\n",
              "          const docLink = document.createElement('div');\n",
              "          docLink.innerHTML = docLinkHtml;\n",
              "          element.appendChild(docLink);\n",
              "        }\n",
              "      </script>\n",
              "    </div>\n",
              "  </div>\n",
              "  "
            ]
          },
          "metadata": {},
          "execution_count": 86
        }
      ]
    },
    {
      "cell_type": "code",
      "source": [
        "df['장르'].value_counts().sort_values(ascending=False)"
      ],
      "metadata": {
        "id": "8caS0rAUAhpe",
        "colab": {
          "base_uri": "https://localhost:8080/"
        },
        "outputId": "4711a11a-64c9-4efe-f2df-5e2bb29ef2ee"
      },
      "execution_count": 87,
      "outputs": [
        {
          "output_type": "execute_result",
          "data": {
            "text/plain": [
              "멜로/로맨스      4743\n",
              "드라마         2867\n",
              "성인물(에로)     2206\n",
              "액션          1584\n",
              "애니메이션        978\n",
              "            ... \n",
              "전쟁           111\n",
              "가족            73\n",
              "사극            45\n",
              "뮤지컬           43\n",
              "서부극(웨스턴)      13\n",
              "Name: 장르, Length: 21, dtype: int64"
            ]
          },
          "metadata": {},
          "execution_count": 87
        }
      ]
    },
    {
      "cell_type": "code",
      "source": [
        "sns.countplot(data=df, y='장르')"
      ],
      "metadata": {
        "id": "Fst4LATQSdbg",
        "colab": {
          "base_uri": "https://localhost:8080/",
          "height": 297
        },
        "outputId": "b523e739-4f45-49df-e059-4df6afb0af24"
      },
      "execution_count": 88,
      "outputs": [
        {
          "output_type": "execute_result",
          "data": {
            "text/plain": [
              "<matplotlib.axes._subplots.AxesSubplot at 0x7ff01765c520>"
            ]
          },
          "metadata": {},
          "execution_count": 88
        },
        {
          "output_type": "display_data",
          "data": {
            "text/plain": [
              "<Figure size 432x288 with 1 Axes>"
            ],
            "image/png": "[encoded data removed]"
          },
          "metadata": {
            "needs_background": "light"
          }
        }
      ]
    },
    {
      "cell_type": "code",
      "source": [
        "sns.barplot(data=df, y='장르', x='전국 관객수', ci=None)\n",
        "plt.show()"
      ],
      "metadata": {
        "colab": {
          "base_uri": "https://localhost:8080/",
          "height": 279
        },
        "id": "YikVV51tOo7F",
        "outputId": "a4ece0f9-b4ad-4996-865f-aaecc97d9b03"
      },
      "execution_count": 89,
      "outputs": [
        {
          "output_type": "display_data",
          "data": {
            "text/plain": [
              "<Figure size 432x288 with 1 Axes>"
            ],
            "image/png": "[encoded data removed]"
          },
          "metadata": {
            "needs_background": "light"
          }
        }
      ]
    },
    {
      "cell_type": "code",
      "source": [
        "df.groupby('장르')['전국 관객수'].mean().sort_values(ascending=False)"
      ],
      "metadata": {
        "colab": {
          "base_uri": "https://localhost:8080/"
        },
        "id": "goULxnwGd65R",
        "outputId": "5cb0c92d-20dd-4355-c07e-b6b5b6515039"
      },
      "execution_count": 90,
      "outputs": [
        {
          "output_type": "execute_result",
          "data": {
            "text/plain": [
              "장르\n",
              "사극          2.386238e+06\n",
              "어드벤처        6.219954e+05\n",
              "범죄          4.870948e+05\n",
              "액션          4.152500e+05\n",
              "판타지         3.050589e+05\n",
              "                ...     \n",
              "서부극(웨스턴)    2.009600e+04\n",
              "멜로/로맨스      1.594404e+04\n",
              "기타          5.618067e+03\n",
              "공연          4.535679e+03\n",
              "성인물(에로)     1.420762e+01\n",
              "Name: 전국 관객수, Length: 21, dtype: float64"
            ]
          },
          "metadata": {},
          "execution_count": 90
        }
      ]
    },
    {
      "cell_type": "code",
      "source": [
        "top10_장르 = df.groupby('장르')['전국 관객수'].mean().sort_values(ascending=False)[:10]"
      ],
      "metadata": {
        "id": "q9kdzItOdJhW"
      },
      "execution_count": 91,
      "outputs": []
    },
    {
      "cell_type": "code",
      "source": [
        "def func_장르(top10):\n",
        "  if top10 in top10_장르:\n",
        "      return top10\n",
        "  else:\n",
        "      return '기타'"
      ],
      "metadata": {
        "id": "ffcvipfIOCG8"
      },
      "execution_count": 92,
      "outputs": []
    },
    {
      "cell_type": "code",
      "source": [
        "df['장르'] = df['장르'].apply(func_장르)"
      ],
      "metadata": {
        "id": "7GchlpHsODU0"
      },
      "execution_count": 93,
      "outputs": []
    },
    {
      "cell_type": "code",
      "source": [
        "df['장르'].value_counts()"
      ],
      "metadata": {
        "colab": {
          "base_uri": "https://localhost:8080/"
        },
        "id": "QODNqNaGPWSR",
        "outputId": "5047cd9f-ba2a-4544-8e58-b71c0e12da4c"
      },
      "execution_count": 94,
      "outputs": [
        {
          "output_type": "execute_result",
          "data": {
            "text/plain": [
              "기타       11818\n",
              "액션        1584\n",
              "애니메이션      978\n",
              "코미디        705\n",
              "스릴러        490\n",
              "범죄         336\n",
              "SF         252\n",
              "미스터리       204\n",
              "판타지        167\n",
              "어드벤처       113\n",
              "사극          45\n",
              "Name: 장르, dtype: int64"
            ]
          },
          "metadata": {},
          "execution_count": 94
        }
      ]
    },
    {
      "cell_type": "code",
      "source": [
        "sns.countplot(data=df, y='장르')"
      ],
      "metadata": {
        "colab": {
          "base_uri": "https://localhost:8080/",
          "height": 297
        },
        "id": "8gnSS04aREpE",
        "outputId": "becd77ec-d57a-4fd7-da0b-00af84a8f4f6"
      },
      "execution_count": 95,
      "outputs": [
        {
          "output_type": "execute_result",
          "data": {
            "text/plain": [
              "<matplotlib.axes._subplots.AxesSubplot at 0x7ff017474460>"
            ]
          },
          "metadata": {},
          "execution_count": 95
        },
        {
          "output_type": "display_data",
          "data": {
            "text/plain": [
              "<Figure size 432x288 with 1 Axes>"
            ],
            "image/png": "[encoded data removed]"
          },
          "metadata": {
            "needs_background": "light"
          }
        }
      ]
    },
    {
      "cell_type": "code",
      "source": [
        "sns.barplot(data=df, y='장르', x='전국 관객수', ci=None)\n",
        "plt.show()"
      ],
      "metadata": {
        "colab": {
          "base_uri": "https://localhost:8080/",
          "height": 279
        },
        "id": "io-mM6B5Pi07",
        "outputId": "54700357-f448-476f-912e-972342cb482f"
      },
      "execution_count": 96,
      "outputs": [
        {
          "output_type": "display_data",
          "data": {
            "text/plain": [
              "<Figure size 432x288 with 1 Axes>"
            ],
            "image/png": "[encoded data removed]"
          },
          "metadata": {
            "needs_background": "light"
          }
        }
      ]
    },
    {
      "cell_type": "code",
      "source": [
        "df['국적'].value_counts()"
      ],
      "metadata": {
        "colab": {
          "base_uri": "https://localhost:8080/"
        },
        "id": "Ydrs-PUYR42T",
        "outputId": "573765b2-bdef-4d98-99ee-2fb4061e990d"
      },
      "execution_count": 97,
      "outputs": [
        {
          "output_type": "execute_result",
          "data": {
            "text/plain": [
              "한국       5456\n",
              "일본       4957\n",
              "미국       3044\n",
              "프랑스       494\n",
              "영국        490\n",
              "         ... \n",
              "부탄          1\n",
              "몽고          1\n",
              "몰타          1\n",
              "이라크         1\n",
              "마케도니아       1\n",
              "Name: 국적, Length: 68, dtype: int64"
            ]
          },
          "metadata": {},
          "execution_count": 97
        }
      ]
    },
    {
      "cell_type": "code",
      "source": [
        "sns.countplot(data=df, y='국적')"
      ],
      "metadata": {
        "colab": {
          "base_uri": "https://localhost:8080/",
          "height": 299
        },
        "id": "q5DaW-kyfsqm",
        "outputId": "29936fa7-c75a-4195-b209-d4eda55d541e"
      },
      "execution_count": 98,
      "outputs": [
        {
          "output_type": "execute_result",
          "data": {
            "text/plain": [
              "<matplotlib.axes._subplots.AxesSubplot at 0x7ff017261340>"
            ]
          },
          "metadata": {},
          "execution_count": 98
        },
        {
          "output_type": "display_data",
          "data": {
            "text/plain": [
              "<Figure size 432x288 with 1 Axes>"
            ],
            "image/png": "[encoded data removed]"
          },
          "metadata": {
            "needs_background": "light"
          }
        }
      ]
    },
    {
      "cell_type": "code",
      "source": [
        "df.groupby('국적')['전국 관객수'].mean().sort_values(ascending=False)"
      ],
      "metadata": {
        "colab": {
          "base_uri": "https://localhost:8080/"
        },
        "id": "VOuy03EffbdB",
        "outputId": "7f018378-fedf-4340-a7d9-af38d6b6fde6"
      },
      "execution_count": 99,
      "outputs": [
        {
          "output_type": "execute_result",
          "data": {
            "text/plain": [
              "국적\n",
              "미국          282985.253285\n",
              "한국          203391.002199\n",
              "벨기에         166326.590909\n",
              "남아프리카공화국    136233.000000\n",
              "아이슬란드        70079.333333\n",
              "                ...      \n",
              "이라크             47.000000\n",
              "필리핀             35.666667\n",
              "세르비아            25.500000\n",
              "마케도니아            1.000000\n",
              "우즈베키스탄           1.000000\n",
              "Name: 전국 관객수, Length: 68, dtype: float64"
            ]
          },
          "metadata": {},
          "execution_count": 99
        }
      ]
    },
    {
      "cell_type": "code",
      "source": [
        "sns.barplot(data=df, y='국적', x='전국 관객수', ci=None)"
      ],
      "metadata": {
        "colab": {
          "base_uri": "https://localhost:8080/",
          "height": 299
        },
        "id": "j9VMneFbfth9",
        "outputId": "46eeb5ac-c4d6-48af-d041-fc8437112814"
      },
      "execution_count": 100,
      "outputs": [
        {
          "output_type": "execute_result",
          "data": {
            "text/plain": [
              "<matplotlib.axes._subplots.AxesSubplot at 0x7ff0170e6a60>"
            ]
          },
          "metadata": {},
          "execution_count": 100
        },
        {
          "output_type": "display_data",
          "data": {
            "text/plain": [
              "<Figure size 432x288 with 1 Axes>"
            ],
            "image/png": "[encoded data removed]"
          },
          "metadata": {
            "needs_background": "light"
          }
        }
      ]
    },
    {
      "cell_type": "code",
      "source": [
        "top5_국적 = df.groupby('국적')['전국 관객수'].mean().sort_values(ascending=False)[:5]"
      ],
      "metadata": {
        "id": "W7HRVgVBR1Cg"
      },
      "execution_count": 101,
      "outputs": []
    },
    {
      "cell_type": "code",
      "source": [
        "def func_국적(top5):\n",
        "  if top5 in top5_국적:\n",
        "      return top5\n",
        "  else:\n",
        "      return '기타'"
      ],
      "metadata": {
        "id": "tRY-kX4YRkLF"
      },
      "execution_count": 102,
      "outputs": []
    },
    {
      "cell_type": "code",
      "source": [
        "df['국적'] = df['국적'].apply(func_국적)"
      ],
      "metadata": {
        "id": "MtNWspN5SAen"
      },
      "execution_count": 103,
      "outputs": []
    },
    {
      "cell_type": "code",
      "source": [
        "df['국적'].value_counts()"
      ],
      "metadata": {
        "colab": {
          "base_uri": "https://localhost:8080/"
        },
        "id": "AenGAY1nSIyr",
        "outputId": "fedc39e3-2ecc-42b0-8f51-9303ab6c17fd"
      },
      "execution_count": 104,
      "outputs": [
        {
          "output_type": "execute_result",
          "data": {
            "text/plain": [
              "기타          8154\n",
              "한국          5456\n",
              "미국          3044\n",
              "벨기에           22\n",
              "아이슬란드         12\n",
              "남아프리카공화국       4\n",
              "Name: 국적, dtype: int64"
            ]
          },
          "metadata": {},
          "execution_count": 104
        }
      ]
    },
    {
      "cell_type": "code",
      "source": [
        "sns.countplot(data=df, y='국적')"
      ],
      "metadata": {
        "colab": {
          "base_uri": "https://localhost:8080/",
          "height": 297
        },
        "id": "GLlZTV2ygYCi",
        "outputId": "c4466095-0d3c-4055-9f63-d0b2fdf51b6b"
      },
      "execution_count": 105,
      "outputs": [
        {
          "output_type": "execute_result",
          "data": {
            "text/plain": [
              "<matplotlib.axes._subplots.AxesSubplot at 0x7ff016f57c70>"
            ]
          },
          "metadata": {},
          "execution_count": 105
        },
        {
          "output_type": "display_data",
          "data": {
            "text/plain": [
              "<Figure size 432x288 with 1 Axes>"
            ],
            "image/png": "[encoded data removed]"
          },
          "metadata": {
            "needs_background": "light"
          }
        }
      ]
    },
    {
      "cell_type": "code",
      "source": [
        "sns.barplot(data=df, y='국적', x='전국 관객수', ci=None)"
      ],
      "metadata": {
        "colab": {
          "base_uri": "https://localhost:8080/",
          "height": 297
        },
        "id": "jzpG9W59gbUX",
        "outputId": "0fc31d9e-a0ae-42c6-819c-8bb7cf38e41f"
      },
      "execution_count": 106,
      "outputs": [
        {
          "output_type": "execute_result",
          "data": {
            "text/plain": [
              "<matplotlib.axes._subplots.AxesSubplot at 0x7ff01703c3a0>"
            ]
          },
          "metadata": {},
          "execution_count": 106
        },
        {
          "output_type": "display_data",
          "data": {
            "text/plain": [
              "<Figure size 432x288 with 1 Axes>"
            ],
            "image/png": "[encoded data removed]"
          },
          "metadata": {
            "needs_background": "light"
          }
        }
      ]
    },
    {
      "cell_type": "markdown",
      "source": [
        "##추가 전처리 (원핫인코딩)"
      ],
      "metadata": {
        "id": "EwzN2Td_oAXN"
      }
    },
    {
      "cell_type": "code",
      "source": [
        "sns.heatmap(df.corr(), annot = True)"
      ],
      "metadata": {
        "colab": {
          "base_uri": "https://localhost:8080/",
          "height": 332
        },
        "id": "63gZRyXGwXDk",
        "outputId": "429f4400-850a-4756-8fea-879454bd40d3"
      },
      "execution_count": 107,
      "outputs": [
        {
          "output_type": "execute_result",
          "data": {
            "text/plain": [
              "<matplotlib.axes._subplots.AxesSubplot at 0x7ff0172c8430>"
            ]
          },
          "metadata": {},
          "execution_count": 107
        },
        {
          "output_type": "display_data",
          "data": {
            "text/plain": [
              "<Figure size 432x288 with 2 Axes>"
            ],
            "image/png": "[encoded data removed]"
          },
          "metadata": {
            "needs_background": "light"
          }
        }
      ]
    },
    {
      "cell_type": "code",
      "source": [
        "df.head(1)"
      ],
      "metadata": {
        "colab": {
          "base_uri": "https://localhost:8080/",
          "height": 159
        },
        "id": "C0njbSPdxCdB",
        "outputId": "d8a0b090-c1e9-4beb-bfdb-908340f2bb53"
      },
      "execution_count": 108,
      "outputs": [
        {
          "output_type": "execute_result",
          "data": {
            "text/plain": [
              "  영화명   감독       감독_p        배급사         배급사_p 영화형태 영화구분  국적    연도  월  장르  \\\n",
              "0  명량  김한민  8088772.5  (주)씨제이이엔엠  1.722708e+06   장편   일반  한국  2014  7  사극   \n",
              "\n",
              "         등급  전국 스크린수        전국 매출액    전국 관객수       서울 매출액   서울 관객수  \n",
              "0  15세이상관람가     1587  135748398910  17613682  33121225810  4163666  "
            ],
            "text/html": [
              "\n",
              "  <div id=\"df-f7b02e42-d54e-4405-a04e-c76591e48b1c\">\n",
              "    <div class=\"colab-df-container\">\n",
              "      <div>\n",
              "<style scoped>\n",
              "    .dataframe tbody tr th:only-of-type {\n",
              "        vertical-align: middle;\n",
              "    }\n",
              "\n",
              "    .dataframe tbody tr th {\n",
              "        vertical-align: top;\n",
              "    }\n",
              "\n",
              "    .dataframe thead th {\n",
              "        text-align: right;\n",
              "    }\n",
              "</style>\n",
              "<table border=\"1\" class=\"dataframe\">\n",
              "  <thead>\n",
              "    <tr style=\"text-align: right;\">\n",
              "      <th></th>\n",
              "      <th>영화명</th>\n",
              "      <th>감독</th>\n",
              "      <th>감독_p</th>\n",
              "      <th>배급사</th>\n",
              "      <th>배급사_p</th>\n",
              "      <th>영화형태</th>\n",
              "      <th>영화구분</th>\n",
              "      <th>국적</th>\n",
              "      <th>연도</th>\n",
              "      <th>월</th>\n",
              "      <th>장르</th>\n",
              "      <th>등급</th>\n",
              "      <th>전국 스크린수</th>\n",
              "      <th>전국 매출액</th>\n",
              "      <th>전국 관객수</th>\n",
              "      <th>서울 매출액</th>\n",
              "      <th>서울 관객수</th>\n",
              "    </tr>\n",
              "  </thead>\n",
              "  <tbody>\n",
              "    <tr>\n",
              "      <th>0</th>\n",
              "      <td>명량</td>\n",
              "      <td>김한민</td>\n",
              "      <td>8088772.5</td>\n",
              "      <td>(주)씨제이이엔엠</td>\n",
              "      <td>1.722708e+06</td>\n",
              "      <td>장편</td>\n",
              "      <td>일반</td>\n",
              "      <td>한국</td>\n",
              "      <td>2014</td>\n",
              "      <td>7</td>\n",
              "      <td>사극</td>\n",
              "      <td>15세이상관람가</td>\n",
              "      <td>1587</td>\n",
              "      <td>135748398910</td>\n",
              "      <td>17613682</td>\n",
              "      <td>33121225810</td>\n",
              "      <td>4163666</td>\n",
              "    </tr>\n",
              "  </tbody>\n",
              "</table>\n",
              "</div>\n",
              "      <button class=\"colab-df-convert\" onclick=\"convertToInteractive('df-f7b02e42-d54e-4405-a04e-c76591e48b1c')\"\n",
              "              title=\"Convert this dataframe to an interactive table.\"\n",
              "              style=\"display:none;\">\n",
              "        \n",
              "  <svg xmlns=\"http://www.w3.org/2000/svg\" height=\"24px\"viewBox=\"0 0 24 24\"\n",
              "       width=\"24px\">\n",
              "    <path d=\"M0 0h24v24H0V0z\" fill=\"none\"/>\n",
              "    <path d=\"M18.56 5.44l.94 2.06.94-2.06 2.06-.94-2.06-.94-.94-2.06-.94 2.06-2.06.94zm-11 1L8.5 8.5l.94-2.06 2.06-.94-2.06-.94L8.5 2.5l-.94 2.06-2.06.94zm10 10l.94 2.06.94-2.06 2.06-.94-2.06-.94-.94-2.06-.94 2.06-2.06.94z\"/><path d=\"M17.41 7.96l-1.37-1.37c-.4-.4-.92-.59-1.43-.59-.52 0-1.04.2-1.43.59L10.3 9.45l-7.72 7.72c-.78.78-.78 2.05 0 2.83L4 21.41c.39.39.9.59 1.41.59.51 0 1.02-.2 1.41-.59l7.78-7.78 2.81-2.81c.8-.78.8-2.07 0-2.86zM5.41 20L4 18.59l7.72-7.72 1.47 1.35L5.41 20z\"/>\n",
              "  </svg>\n",
              "      </button>\n",
              "      \n",
              "  <style>\n",
              "    .colab-df-container {\n",
              "      display:flex;\n",
              "      flex-wrap:wrap;\n",
              "      gap: 12px;\n",
              "    }\n",
              "\n",
              "    .colab-df-convert {\n",
              "      background-color: #E8F0FE;\n",
              "      border: none;\n",
              "      border-radius: 50%;\n",
              "      cursor: pointer;\n",
              "      display: none;\n",
              "      fill: #1967D2;\n",
              "      height: 32px;\n",
              "      padding: 0 0 0 0;\n",
              "      width: 32px;\n",
              "    }\n",
              "\n",
              "    .colab-df-convert:hover {\n",
              "      background-color: #E2EBFA;\n",
              "      box-shadow: 0px 1px 2px rgba(60, 64, 67, 0.3), 0px 1px 3px 1px rgba(60, 64, 67, 0.15);\n",
              "      fill: #174EA6;\n",
              "    }\n",
              "\n",
              "    [theme=dark] .colab-df-convert {\n",
              "      background-color: #3B4455;\n",
              "      fill: #D2E3FC;\n",
              "    }\n",
              "\n",
              "    [theme=dark] .colab-df-convert:hover {\n",
              "      background-color: #434B5C;\n",
              "      box-shadow: 0px 1px 3px 1px rgba(0, 0, 0, 0.15);\n",
              "      filter: drop-shadow(0px 1px 2px rgba(0, 0, 0, 0.3));\n",
              "      fill: #FFFFFF;\n",
              "    }\n",
              "  </style>\n",
              "\n",
              "      <script>\n",
              "        const buttonEl =\n",
              "          document.querySelector('#df-f7b02e42-d54e-4405-a04e-c76591e48b1c button.colab-df-convert');\n",
              "        buttonEl.style.display =\n",
              "          google.colab.kernel.accessAllowed ? 'block' : 'none';\n",
              "\n",
              "        async function convertToInteractive(key) {\n",
              "          const element = document.querySelector('#df-f7b02e42-d54e-4405-a04e-c76591e48b1c');\n",
              "          const dataTable =\n",
              "            await google.colab.kernel.invokeFunction('convertToInteractive',\n",
              "                                                     [key], {});\n",
              "          if (!dataTable) return;\n",
              "\n",
              "          const docLinkHtml = 'Like what you see? Visit the ' +\n",
              "            '<a target=\"_blank\" href=https://colab.research.google.com/notebooks/data_table.ipynb>data table notebook</a>'\n",
              "            + ' to learn more about interactive tables.';\n",
              "          element.innerHTML = '';\n",
              "          dataTable['output_type'] = 'display_data';\n",
              "          await google.colab.output.renderOutput(dataTable, element);\n",
              "          const docLink = document.createElement('div');\n",
              "          docLink.innerHTML = docLinkHtml;\n",
              "          element.appendChild(docLink);\n",
              "        }\n",
              "      </script>\n",
              "    </div>\n",
              "  </div>\n",
              "  "
            ]
          },
          "metadata": {},
          "execution_count": 108
        }
      ]
    },
    {
      "cell_type": "code",
      "source": [
        "df.groupby(['연도'])['전국 매출액'].mean().plot(kind='bar', \n",
        "                                        title='연도별 매출 추이', \n",
        "                                        fontsize=13,\n",
        "                                        figsize=(20,5));"
      ],
      "metadata": {
        "colab": {
          "base_uri": "https://localhost:8080/",
          "height": 369
        },
        "id": "EUaBZw4FxBqG",
        "outputId": "0cae0bea-cacd-48be-8825-91da51a3d15f"
      },
      "execution_count": 118,
      "outputs": [
        {
          "output_type": "display_data",
          "data": {
            "text/plain": [
              "<Figure size 1440x360 with 1 Axes>"
            ],
            "image/png": "[encoded data removed]"
          },
          "metadata": {
            "needs_background": "light"
          }
        }
      ]
    },
    {
      "cell_type": "code",
      "source": [
        "df.head(1)"
      ],
      "metadata": {
        "colab": {
          "base_uri": "https://localhost:8080/",
          "height": 159
        },
        "id": "_2Jfel4d0FmE",
        "outputId": "1f05b4fa-cdbc-4498-e5c6-5bcc22e92eba"
      },
      "execution_count": 131,
      "outputs": [
        {
          "output_type": "execute_result",
          "data": {
            "text/plain": [
              "  영화명   감독       감독_p        배급사         배급사_p 영화형태 영화구분  국적    연도  월  장르  \\\n",
              "0  명량  김한민  8088772.5  (주)씨제이이엔엠  1.722708e+06   장편   일반  한국  2014  7  사극   \n",
              "\n",
              "         등급  전국 스크린수        전국 매출액    전국 관객수       서울 매출액   서울 관객수  \\\n",
              "0  15세이상관람가     1587  135748398910  17613682  33121225810  4163666   \n",
              "\n",
              "            가격  \n",
              "0  7706.985905  "
            ],
            "text/html": [
              "\n",
              "  <div id=\"df-3ef1e098-6e44-48c9-8359-6c1cf1f8cce7\">\n",
              "    <div class=\"colab-df-container\">\n",
              "      <div>\n",
              "<style scoped>\n",
              "    .dataframe tbody tr th:only-of-type {\n",
              "        vertical-align: middle;\n",
              "    }\n",
              "\n",
              "    .dataframe tbody tr th {\n",
              "        vertical-align: top;\n",
              "    }\n",
              "\n",
              "    .dataframe thead th {\n",
              "        text-align: right;\n",
              "    }\n",
              "</style>\n",
              "<table border=\"1\" class=\"dataframe\">\n",
              "  <thead>\n",
              "    <tr style=\"text-align: right;\">\n",
              "      <th></th>\n",
              "      <th>영화명</th>\n",
              "      <th>감독</th>\n",
              "      <th>감독_p</th>\n",
              "      <th>배급사</th>\n",
              "      <th>배급사_p</th>\n",
              "      <th>영화형태</th>\n",
              "      <th>영화구분</th>\n",
              "      <th>국적</th>\n",
              "      <th>연도</th>\n",
              "      <th>월</th>\n",
              "      <th>장르</th>\n",
              "      <th>등급</th>\n",
              "      <th>전국 스크린수</th>\n",
              "      <th>전국 매출액</th>\n",
              "      <th>전국 관객수</th>\n",
              "      <th>서울 매출액</th>\n",
              "      <th>서울 관객수</th>\n",
              "      <th>가격</th>\n",
              "    </tr>\n",
              "  </thead>\n",
              "  <tbody>\n",
              "    <tr>\n",
              "      <th>0</th>\n",
              "      <td>명량</td>\n",
              "      <td>김한민</td>\n",
              "      <td>8088772.5</td>\n",
              "      <td>(주)씨제이이엔엠</td>\n",
              "      <td>1.722708e+06</td>\n",
              "      <td>장편</td>\n",
              "      <td>일반</td>\n",
              "      <td>한국</td>\n",
              "      <td>2014</td>\n",
              "      <td>7</td>\n",
              "      <td>사극</td>\n",
              "      <td>15세이상관람가</td>\n",
              "      <td>1587</td>\n",
              "      <td>135748398910</td>\n",
              "      <td>17613682</td>\n",
              "      <td>33121225810</td>\n",
              "      <td>4163666</td>\n",
              "      <td>7706.985905</td>\n",
              "    </tr>\n",
              "  </tbody>\n",
              "</table>\n",
              "</div>\n",
              "      <button class=\"colab-df-convert\" onclick=\"convertToInteractive('df-3ef1e098-6e44-48c9-8359-6c1cf1f8cce7')\"\n",
              "              title=\"Convert this dataframe to an interactive table.\"\n",
              "              style=\"display:none;\">\n",
              "        \n",
              "  <svg xmlns=\"http://www.w3.org/2000/svg\" height=\"24px\"viewBox=\"0 0 24 24\"\n",
              "       width=\"24px\">\n",
              "    <path d=\"M0 0h24v24H0V0z\" fill=\"none\"/>\n",
              "    <path d=\"M18.56 5.44l.94 2.06.94-2.06 2.06-.94-2.06-.94-.94-2.06-.94 2.06-2.06.94zm-11 1L8.5 8.5l.94-2.06 2.06-.94-2.06-.94L8.5 2.5l-.94 2.06-2.06.94zm10 10l.94 2.06.94-2.06 2.06-.94-2.06-.94-.94-2.06-.94 2.06-2.06.94z\"/><path d=\"M17.41 7.96l-1.37-1.37c-.4-.4-.92-.59-1.43-.59-.52 0-1.04.2-1.43.59L10.3 9.45l-7.72 7.72c-.78.78-.78 2.05 0 2.83L4 21.41c.39.39.9.59 1.41.59.51 0 1.02-.2 1.41-.59l7.78-7.78 2.81-2.81c.8-.78.8-2.07 0-2.86zM5.41 20L4 18.59l7.72-7.72 1.47 1.35L5.41 20z\"/>\n",
              "  </svg>\n",
              "      </button>\n",
              "      \n",
              "  <style>\n",
              "    .colab-df-container {\n",
              "      display:flex;\n",
              "      flex-wrap:wrap;\n",
              "      gap: 12px;\n",
              "    }\n",
              "\n",
              "    .colab-df-convert {\n",
              "      background-color: #E8F0FE;\n",
              "      border: none;\n",
              "      border-radius: 50%;\n",
              "      cursor: pointer;\n",
              "      display: none;\n",
              "      fill: #1967D2;\n",
              "      height: 32px;\n",
              "      padding: 0 0 0 0;\n",
              "      width: 32px;\n",
              "    }\n",
              "\n",
              "    .colab-df-convert:hover {\n",
              "      background-color: #E2EBFA;\n",
              "      box-shadow: 0px 1px 2px rgba(60, 64, 67, 0.3), 0px 1px 3px 1px rgba(60, 64, 67, 0.15);\n",
              "      fill: #174EA6;\n",
              "    }\n",
              "\n",
              "    [theme=dark] .colab-df-convert {\n",
              "      background-color: #3B4455;\n",
              "      fill: #D2E3FC;\n",
              "    }\n",
              "\n",
              "    [theme=dark] .colab-df-convert:hover {\n",
              "      background-color: #434B5C;\n",
              "      box-shadow: 0px 1px 3px 1px rgba(0, 0, 0, 0.15);\n",
              "      filter: drop-shadow(0px 1px 2px rgba(0, 0, 0, 0.3));\n",
              "      fill: #FFFFFF;\n",
              "    }\n",
              "  </style>\n",
              "\n",
              "      <script>\n",
              "        const buttonEl =\n",
              "          document.querySelector('#df-3ef1e098-6e44-48c9-8359-6c1cf1f8cce7 button.colab-df-convert');\n",
              "        buttonEl.style.display =\n",
              "          google.colab.kernel.accessAllowed ? 'block' : 'none';\n",
              "\n",
              "        async function convertToInteractive(key) {\n",
              "          const element = document.querySelector('#df-3ef1e098-6e44-48c9-8359-6c1cf1f8cce7');\n",
              "          const dataTable =\n",
              "            await google.colab.kernel.invokeFunction('convertToInteractive',\n",
              "                                                     [key], {});\n",
              "          if (!dataTable) return;\n",
              "\n",
              "          const docLinkHtml = 'Like what you see? Visit the ' +\n",
              "            '<a target=\"_blank\" href=https://colab.research.google.com/notebooks/data_table.ipynb>data table notebook</a>'\n",
              "            + ' to learn more about interactive tables.';\n",
              "          element.innerHTML = '';\n",
              "          dataTable['output_type'] = 'display_data';\n",
              "          await google.colab.output.renderOutput(dataTable, element);\n",
              "          const docLink = document.createElement('div');\n",
              "          docLink.innerHTML = docLinkHtml;\n",
              "          element.appendChild(docLink);\n",
              "        }\n",
              "      </script>\n",
              "    </div>\n",
              "  </div>\n",
              "  "
            ]
          },
          "metadata": {},
          "execution_count": 131
        }
      ]
    },
    {
      "cell_type": "code",
      "source": [
        "df.groupby(['연도'])['가격'].mean()"
      ],
      "metadata": {
        "colab": {
          "base_uri": "https://localhost:8080/"
        },
        "id": "i9mli_yV1EG5",
        "outputId": "d4f5a376-2c9b-4121-e654-b98feaab038a"
      },
      "execution_count": 138,
      "outputs": [
        {
          "output_type": "execute_result",
          "data": {
            "text/plain": [
              "연도\n",
              "2010    7286.463036\n",
              "2011    7224.686683\n",
              "2012    7180.090945\n",
              "2013    6536.090765\n",
              "2014    6553.634523\n",
              "2015    7020.658538\n",
              "2016    7080.139758\n",
              "2017    6046.941333\n",
              "2018    5748.849695\n",
              "2019    5766.055368\n",
              "2020    6048.657791\n",
              "2021    5962.730752\n",
              "2022    6253.802793\n",
              "Name: 가격, dtype: float64"
            ]
          },
          "metadata": {},
          "execution_count": 138
        }
      ]
    },
    {
      "cell_type": "code",
      "source": [
        "df.groupby(['연도'])['가격'].mean().plot(kind='bar', \n",
        "                                        title='연도별 가격변동', \n",
        "                                        fontsize=13,\n",
        "                                        figsize=(20,5));"
      ],
      "metadata": {
        "colab": {
          "base_uri": "https://localhost:8080/",
          "height": 369
        },
        "id": "rrwuSSugzo5t",
        "outputId": "cd3a159e-d936-45e0-be23-577f765abab7"
      },
      "execution_count": 137,
      "outputs": [
        {
          "output_type": "display_data",
          "data": {
            "text/plain": [
              "<Figure size 1440x360 with 1 Axes>"
            ],
            "image/png": "[encoded data removed]"
          },
          "metadata": {
            "needs_background": "light"
          }
        }
      ]
    },
    {
      "cell_type": "code",
      "source": [
        "df.groupby(['월'])['전국 매출액'].mean().plot(kind='bar', \n",
        "                                        title='월별 매출 추이', \n",
        "                                        fontsize=13,\n",
        "                                        figsize=(20,5));"
      ],
      "metadata": {
        "colab": {
          "base_uri": "https://localhost:8080/",
          "height": 354
        },
        "id": "97X21Cu1yPiJ",
        "outputId": "726e4c44-7bda-47cc-c59d-b5966e57ed72"
      },
      "execution_count": 119,
      "outputs": [
        {
          "output_type": "display_data",
          "data": {
            "text/plain": [
              "<Figure size 1440x360 with 1 Axes>"
            ],
            "image/png": "[encoded data removed]"
          },
          "metadata": {
            "needs_background": "light"
          }
        }
      ]
    },
    {
      "cell_type": "code",
      "source": [
        "from category_encoders import OneHotEncoder"
      ],
      "metadata": {
        "id": "dKg0aLNgFK-Q"
      },
      "execution_count": null,
      "outputs": []
    },
    {
      "cell_type": "code",
      "source": [
        "df.head(1)"
      ],
      "metadata": {
        "colab": {
          "base_uri": "https://localhost:8080/"
        },
        "id": "39KuIH5pSgtX",
        "outputId": "068942d8-dd6c-48b3-ce70-544dae70be36"
      },
      "execution_count": null,
      "outputs": [
        {
          "output_type": "execute_result",
          "data": {
            "text/plain": [
              "  영화명   감독       감독_p        배급사         배급사_p 영화형태 영화구분  국적    연도  월  장르  \\\n",
              "0  명량  김한민  8088772.5  (주)씨제이이엔엠  1.722708e+06   장편   일반  한국  2014  7  사극   \n",
              "\n",
              "         등급  전국 스크린수        전국 매출액    전국 관객수       서울 매출액   서울 관객수  \n",
              "0  15세이상관람가     1587  135748398910  17613682  33121225810  4163666  "
            ],
            "text/html": [
              "\n",
              "  <div id=\"df-b824668d-2d5d-470e-9726-38d494a91f8c\">\n",
              "    <div class=\"colab-df-container\">\n",
              "      <div>\n",
              "<style scoped>\n",
              "    .dataframe tbody tr th:only-of-type {\n",
              "        vertical-align: middle;\n",
              "    }\n",
              "\n",
              "    .dataframe tbody tr th {\n",
              "        vertical-align: top;\n",
              "    }\n",
              "\n",
              "    .dataframe thead th {\n",
              "        text-align: right;\n",
              "    }\n",
              "</style>\n",
              "<table border=\"1\" class=\"dataframe\">\n",
              "  <thead>\n",
              "    <tr style=\"text-align: right;\">\n",
              "      <th></th>\n",
              "      <th>영화명</th>\n",
              "      <th>감독</th>\n",
              "      <th>감독_p</th>\n",
              "      <th>배급사</th>\n",
              "      <th>배급사_p</th>\n",
              "      <th>영화형태</th>\n",
              "      <th>영화구분</th>\n",
              "      <th>국적</th>\n",
              "      <th>연도</th>\n",
              "      <th>월</th>\n",
              "      <th>장르</th>\n",
              "      <th>등급</th>\n",
              "      <th>전국 스크린수</th>\n",
              "      <th>전국 매출액</th>\n",
              "      <th>전국 관객수</th>\n",
              "      <th>서울 매출액</th>\n",
              "      <th>서울 관객수</th>\n",
              "    </tr>\n",
              "  </thead>\n",
              "  <tbody>\n",
              "    <tr>\n",
              "      <th>0</th>\n",
              "      <td>명량</td>\n",
              "      <td>김한민</td>\n",
              "      <td>8088772.5</td>\n",
              "      <td>(주)씨제이이엔엠</td>\n",
              "      <td>1.722708e+06</td>\n",
              "      <td>장편</td>\n",
              "      <td>일반</td>\n",
              "      <td>한국</td>\n",
              "      <td>2014</td>\n",
              "      <td>7</td>\n",
              "      <td>사극</td>\n",
              "      <td>15세이상관람가</td>\n",
              "      <td>1587</td>\n",
              "      <td>135748398910</td>\n",
              "      <td>17613682</td>\n",
              "      <td>33121225810</td>\n",
              "      <td>4163666</td>\n",
              "    </tr>\n",
              "  </tbody>\n",
              "</table>\n",
              "</div>\n",
              "      <button class=\"colab-df-convert\" onclick=\"convertToInteractive('df-b824668d-2d5d-470e-9726-38d494a91f8c')\"\n",
              "              title=\"Convert this dataframe to an interactive table.\"\n",
              "              style=\"display:none;\">\n",
              "        \n",
              "  <svg xmlns=\"http://www.w3.org/2000/svg\" height=\"24px\"viewBox=\"0 0 24 24\"\n",
              "       width=\"24px\">\n",
              "    <path d=\"M0 0h24v24H0V0z\" fill=\"none\"/>\n",
              "    <path d=\"M18.56 5.44l.94 2.06.94-2.06 2.06-.94-2.06-.94-.94-2.06-.94 2.06-2.06.94zm-11 1L8.5 8.5l.94-2.06 2.06-.94-2.06-.94L8.5 2.5l-.94 2.06-2.06.94zm10 10l.94 2.06.94-2.06 2.06-.94-2.06-.94-.94-2.06-.94 2.06-2.06.94z\"/><path d=\"M17.41 7.96l-1.37-1.37c-.4-.4-.92-.59-1.43-.59-.52 0-1.04.2-1.43.59L10.3 9.45l-7.72 7.72c-.78.78-.78 2.05 0 2.83L4 21.41c.39.39.9.59 1.41.59.51 0 1.02-.2 1.41-.59l7.78-7.78 2.81-2.81c.8-.78.8-2.07 0-2.86zM5.41 20L4 18.59l7.72-7.72 1.47 1.35L5.41 20z\"/>\n",
              "  </svg>\n",
              "      </button>\n",
              "      \n",
              "  <style>\n",
              "    .colab-df-container {\n",
              "      display:flex;\n",
              "      flex-wrap:wrap;\n",
              "      gap: 12px;\n",
              "    }\n",
              "\n",
              "    .colab-df-convert {\n",
              "      background-color: #E8F0FE;\n",
              "      border: none;\n",
              "      border-radius: 50%;\n",
              "      cursor: pointer;\n",
              "      display: none;\n",
              "      fill: #1967D2;\n",
              "      height: 32px;\n",
              "      padding: 0 0 0 0;\n",
              "      width: 32px;\n",
              "    }\n",
              "\n",
              "    .colab-df-convert:hover {\n",
              "      background-color: #E2EBFA;\n",
              "      box-shadow: 0px 1px 2px rgba(60, 64, 67, 0.3), 0px 1px 3px 1px rgba(60, 64, 67, 0.15);\n",
              "      fill: #174EA6;\n",
              "    }\n",
              "\n",
              "    [theme=dark] .colab-df-convert {\n",
              "      background-color: #3B4455;\n",
              "      fill: #D2E3FC;\n",
              "    }\n",
              "\n",
              "    [theme=dark] .colab-df-convert:hover {\n",
              "      background-color: #434B5C;\n",
              "      box-shadow: 0px 1px 3px 1px rgba(0, 0, 0, 0.15);\n",
              "      filter: drop-shadow(0px 1px 2px rgba(0, 0, 0, 0.3));\n",
              "      fill: #FFFFFF;\n",
              "    }\n",
              "  </style>\n",
              "\n",
              "      <script>\n",
              "        const buttonEl =\n",
              "          document.querySelector('#df-b824668d-2d5d-470e-9726-38d494a91f8c button.colab-df-convert');\n",
              "        buttonEl.style.display =\n",
              "          google.colab.kernel.accessAllowed ? 'block' : 'none';\n",
              "\n",
              "        async function convertToInteractive(key) {\n",
              "          const element = document.querySelector('#df-b824668d-2d5d-470e-9726-38d494a91f8c');\n",
              "          const dataTable =\n",
              "            await google.colab.kernel.invokeFunction('convertToInteractive',\n",
              "                                                     [key], {});\n",
              "          if (!dataTable) return;\n",
              "\n",
              "          const docLinkHtml = 'Like what you see? Visit the ' +\n",
              "            '<a target=\"_blank\" href=https://colab.research.google.com/notebooks/data_table.ipynb>data table notebook</a>'\n",
              "            + ' to learn more about interactive tables.';\n",
              "          element.innerHTML = '';\n",
              "          dataTable['output_type'] = 'display_data';\n",
              "          await google.colab.output.renderOutput(dataTable, element);\n",
              "          const docLink = document.createElement('div');\n",
              "          docLink.innerHTML = docLinkHtml;\n",
              "          element.appendChild(docLink);\n",
              "        }\n",
              "      </script>\n",
              "    </div>\n",
              "  </div>\n",
              "  "
            ]
          },
          "metadata": {},
          "execution_count": 88
        }
      ]
    },
    {
      "cell_type": "code",
      "source": [
        "df = df.drop(['영화명', '감독', '배급사'], axis = 1)"
      ],
      "metadata": {
        "id": "KwwvD3WDcsGx"
      },
      "execution_count": null,
      "outputs": []
    },
    {
      "cell_type": "code",
      "source": [
        "df.head(1)"
      ],
      "metadata": {
        "colab": {
          "base_uri": "https://localhost:8080/"
        },
        "id": "rrNSCHeOc7fs",
        "outputId": "3d99cd1e-05c3-440a-e33a-3dcbf6e50772"
      },
      "execution_count": null,
      "outputs": [
        {
          "output_type": "execute_result",
          "data": {
            "text/plain": [
              "        감독_p         배급사_p 영화형태 영화구분  국적    연도  월  장르        등급  전국 스크린수  \\\n",
              "0  8088772.5  1.722708e+06   장편   일반  한국  2014  7  사극  15세이상관람가     1587   \n",
              "\n",
              "         전국 매출액    전국 관객수       서울 매출액   서울 관객수  \n",
              "0  135748398910  17613682  33121225810  4163666  "
            ],
            "text/html": [
              "\n",
              "  <div id=\"df-7536c313-045c-4209-b9b9-d676565dabc8\">\n",
              "    <div class=\"colab-df-container\">\n",
              "      <div>\n",
              "<style scoped>\n",
              "    .dataframe tbody tr th:only-of-type {\n",
              "        vertical-align: middle;\n",
              "    }\n",
              "\n",
              "    .dataframe tbody tr th {\n",
              "        vertical-align: top;\n",
              "    }\n",
              "\n",
              "    .dataframe thead th {\n",
              "        text-align: right;\n",
              "    }\n",
              "</style>\n",
              "<table border=\"1\" class=\"dataframe\">\n",
              "  <thead>\n",
              "    <tr style=\"text-align: right;\">\n",
              "      <th></th>\n",
              "      <th>감독_p</th>\n",
              "      <th>배급사_p</th>\n",
              "      <th>영화형태</th>\n",
              "      <th>영화구분</th>\n",
              "      <th>국적</th>\n",
              "      <th>연도</th>\n",
              "      <th>월</th>\n",
              "      <th>장르</th>\n",
              "      <th>등급</th>\n",
              "      <th>전국 스크린수</th>\n",
              "      <th>전국 매출액</th>\n",
              "      <th>전국 관객수</th>\n",
              "      <th>서울 매출액</th>\n",
              "      <th>서울 관객수</th>\n",
              "    </tr>\n",
              "  </thead>\n",
              "  <tbody>\n",
              "    <tr>\n",
              "      <th>0</th>\n",
              "      <td>8088772.5</td>\n",
              "      <td>1.722708e+06</td>\n",
              "      <td>장편</td>\n",
              "      <td>일반</td>\n",
              "      <td>한국</td>\n",
              "      <td>2014</td>\n",
              "      <td>7</td>\n",
              "      <td>사극</td>\n",
              "      <td>15세이상관람가</td>\n",
              "      <td>1587</td>\n",
              "      <td>135748398910</td>\n",
              "      <td>17613682</td>\n",
              "      <td>33121225810</td>\n",
              "      <td>4163666</td>\n",
              "    </tr>\n",
              "  </tbody>\n",
              "</table>\n",
              "</div>\n",
              "      <button class=\"colab-df-convert\" onclick=\"convertToInteractive('df-7536c313-045c-4209-b9b9-d676565dabc8')\"\n",
              "              title=\"Convert this dataframe to an interactive table.\"\n",
              "              style=\"display:none;\">\n",
              "        \n",
              "  <svg xmlns=\"http://www.w3.org/2000/svg\" height=\"24px\"viewBox=\"0 0 24 24\"\n",
              "       width=\"24px\">\n",
              "    <path d=\"M0 0h24v24H0V0z\" fill=\"none\"/>\n",
              "    <path d=\"M18.56 5.44l.94 2.06.94-2.06 2.06-.94-2.06-.94-.94-2.06-.94 2.06-2.06.94zm-11 1L8.5 8.5l.94-2.06 2.06-.94-2.06-.94L8.5 2.5l-.94 2.06-2.06.94zm10 10l.94 2.06.94-2.06 2.06-.94-2.06-.94-.94-2.06-.94 2.06-2.06.94z\"/><path d=\"M17.41 7.96l-1.37-1.37c-.4-.4-.92-.59-1.43-.59-.52 0-1.04.2-1.43.59L10.3 9.45l-7.72 7.72c-.78.78-.78 2.05 0 2.83L4 21.41c.39.39.9.59 1.41.59.51 0 1.02-.2 1.41-.59l7.78-7.78 2.81-2.81c.8-.78.8-2.07 0-2.86zM5.41 20L4 18.59l7.72-7.72 1.47 1.35L5.41 20z\"/>\n",
              "  </svg>\n",
              "      </button>\n",
              "      \n",
              "  <style>\n",
              "    .colab-df-container {\n",
              "      display:flex;\n",
              "      flex-wrap:wrap;\n",
              "      gap: 12px;\n",
              "    }\n",
              "\n",
              "    .colab-df-convert {\n",
              "      background-color: #E8F0FE;\n",
              "      border: none;\n",
              "      border-radius: 50%;\n",
              "      cursor: pointer;\n",
              "      display: none;\n",
              "      fill: #1967D2;\n",
              "      height: 32px;\n",
              "      padding: 0 0 0 0;\n",
              "      width: 32px;\n",
              "    }\n",
              "\n",
              "    .colab-df-convert:hover {\n",
              "      background-color: #E2EBFA;\n",
              "      box-shadow: 0px 1px 2px rgba(60, 64, 67, 0.3), 0px 1px 3px 1px rgba(60, 64, 67, 0.15);\n",
              "      fill: #174EA6;\n",
              "    }\n",
              "\n",
              "    [theme=dark] .colab-df-convert {\n",
              "      background-color: #3B4455;\n",
              "      fill: #D2E3FC;\n",
              "    }\n",
              "\n",
              "    [theme=dark] .colab-df-convert:hover {\n",
              "      background-color: #434B5C;\n",
              "      box-shadow: 0px 1px 3px 1px rgba(0, 0, 0, 0.15);\n",
              "      filter: drop-shadow(0px 1px 2px rgba(0, 0, 0, 0.3));\n",
              "      fill: #FFFFFF;\n",
              "    }\n",
              "  </style>\n",
              "\n",
              "      <script>\n",
              "        const buttonEl =\n",
              "          document.querySelector('#df-7536c313-045c-4209-b9b9-d676565dabc8 button.colab-df-convert');\n",
              "        buttonEl.style.display =\n",
              "          google.colab.kernel.accessAllowed ? 'block' : 'none';\n",
              "\n",
              "        async function convertToInteractive(key) {\n",
              "          const element = document.querySelector('#df-7536c313-045c-4209-b9b9-d676565dabc8');\n",
              "          const dataTable =\n",
              "            await google.colab.kernel.invokeFunction('convertToInteractive',\n",
              "                                                     [key], {});\n",
              "          if (!dataTable) return;\n",
              "\n",
              "          const docLinkHtml = 'Like what you see? Visit the ' +\n",
              "            '<a target=\"_blank\" href=https://colab.research.google.com/notebooks/data_table.ipynb>data table notebook</a>'\n",
              "            + ' to learn more about interactive tables.';\n",
              "          element.innerHTML = '';\n",
              "          dataTable['output_type'] = 'display_data';\n",
              "          await google.colab.output.renderOutput(dataTable, element);\n",
              "          const docLink = document.createElement('div');\n",
              "          docLink.innerHTML = docLinkHtml;\n",
              "          element.appendChild(docLink);\n",
              "        }\n",
              "      </script>\n",
              "    </div>\n",
              "  </div>\n",
              "  "
            ]
          },
          "metadata": {},
          "execution_count": 90
        }
      ]
    },
    {
      "cell_type": "code",
      "source": [
        "encoder = OneHotEncoder(use_cat_names = True)\n",
        "df = encoder.fit_transform(df)"
      ],
      "metadata": {
        "id": "bqVBr5NdcmvO"
      },
      "execution_count": null,
      "outputs": []
    },
    {
      "cell_type": "code",
      "source": [
        "df.head(1)"
      ],
      "metadata": {
        "colab": {
          "base_uri": "https://localhost:8080/"
        },
        "id": "AFCVQa0eg4on",
        "outputId": "6226c7d2-6ff6-48da-9261-ce49898efaa0"
      },
      "execution_count": null,
      "outputs": [
        {
          "output_type": "execute_result",
          "data": {
            "text/plain": [
              "        감독_p         배급사_p  영화형태_장편  영화형태_옴니버스  영화형태_단편  영화구분_일반  영화구분_독립  \\\n",
              "0  8088772.5  1.722708e+06        1          0        0        1        0   \n",
              "\n",
              "   국적_한국  국적_미국  국적_기타  ...  장르_스릴러  등급_15세이상관람가  등급_12세이상관람가  등급_전체관람가  \\\n",
              "0      1      0      0  ...       0            1            0         0   \n",
              "\n",
              "   등급_청소년관람불가  전국 스크린수        전국 매출액    전국 관객수       서울 매출액   서울 관객수  \n",
              "0           0     1587  135748398910  17613682  33121225810  4163666  \n",
              "\n",
              "[1 rows x 35 columns]"
            ],
            "text/html": [
              "\n",
              "  <div id=\"df-a1bb0954-8123-4ab7-83d3-21989980e4e7\">\n",
              "    <div class=\"colab-df-container\">\n",
              "      <div>\n",
              "<style scoped>\n",
              "    .dataframe tbody tr th:only-of-type {\n",
              "        vertical-align: middle;\n",
              "    }\n",
              "\n",
              "    .dataframe tbody tr th {\n",
              "        vertical-align: top;\n",
              "    }\n",
              "\n",
              "    .dataframe thead th {\n",
              "        text-align: right;\n",
              "    }\n",
              "</style>\n",
              "<table border=\"1\" class=\"dataframe\">\n",
              "  <thead>\n",
              "    <tr style=\"text-align: right;\">\n",
              "      <th></th>\n",
              "      <th>감독_p</th>\n",
              "      <th>배급사_p</th>\n",
              "      <th>영화형태_장편</th>\n",
              "      <th>영화형태_옴니버스</th>\n",
              "      <th>영화형태_단편</th>\n",
              "      <th>영화구분_일반</th>\n",
              "      <th>영화구분_독립</th>\n",
              "      <th>국적_한국</th>\n",
              "      <th>국적_미국</th>\n",
              "      <th>국적_기타</th>\n",
              "      <th>...</th>\n",
              "      <th>장르_스릴러</th>\n",
              "      <th>등급_15세이상관람가</th>\n",
              "      <th>등급_12세이상관람가</th>\n",
              "      <th>등급_전체관람가</th>\n",
              "      <th>등급_청소년관람불가</th>\n",
              "      <th>전국 스크린수</th>\n",
              "      <th>전국 매출액</th>\n",
              "      <th>전국 관객수</th>\n",
              "      <th>서울 매출액</th>\n",
              "      <th>서울 관객수</th>\n",
              "    </tr>\n",
              "  </thead>\n",
              "  <tbody>\n",
              "    <tr>\n",
              "      <th>0</th>\n",
              "      <td>8088772.5</td>\n",
              "      <td>1.722708e+06</td>\n",
              "      <td>1</td>\n",
              "      <td>0</td>\n",
              "      <td>0</td>\n",
              "      <td>1</td>\n",
              "      <td>0</td>\n",
              "      <td>1</td>\n",
              "      <td>0</td>\n",
              "      <td>0</td>\n",
              "      <td>...</td>\n",
              "      <td>0</td>\n",
              "      <td>1</td>\n",
              "      <td>0</td>\n",
              "      <td>0</td>\n",
              "      <td>0</td>\n",
              "      <td>1587</td>\n",
              "      <td>135748398910</td>\n",
              "      <td>17613682</td>\n",
              "      <td>33121225810</td>\n",
              "      <td>4163666</td>\n",
              "    </tr>\n",
              "  </tbody>\n",
              "</table>\n",
              "<p>1 rows × 35 columns</p>\n",
              "</div>\n",
              "      <button class=\"colab-df-convert\" onclick=\"convertToInteractive('df-a1bb0954-8123-4ab7-83d3-21989980e4e7')\"\n",
              "              title=\"Convert this dataframe to an interactive table.\"\n",
              "              style=\"display:none;\">\n",
              "        \n",
              "  <svg xmlns=\"http://www.w3.org/2000/svg\" height=\"24px\"viewBox=\"0 0 24 24\"\n",
              "       width=\"24px\">\n",
              "    <path d=\"M0 0h24v24H0V0z\" fill=\"none\"/>\n",
              "    <path d=\"M18.56 5.44l.94 2.06.94-2.06 2.06-.94-2.06-.94-.94-2.06-.94 2.06-2.06.94zm-11 1L8.5 8.5l.94-2.06 2.06-.94-2.06-.94L8.5 2.5l-.94 2.06-2.06.94zm10 10l.94 2.06.94-2.06 2.06-.94-2.06-.94-.94-2.06-.94 2.06-2.06.94z\"/><path d=\"M17.41 7.96l-1.37-1.37c-.4-.4-.92-.59-1.43-.59-.52 0-1.04.2-1.43.59L10.3 9.45l-7.72 7.72c-.78.78-.78 2.05 0 2.83L4 21.41c.39.39.9.59 1.41.59.51 0 1.02-.2 1.41-.59l7.78-7.78 2.81-2.81c.8-.78.8-2.07 0-2.86zM5.41 20L4 18.59l7.72-7.72 1.47 1.35L5.41 20z\"/>\n",
              "  </svg>\n",
              "      </button>\n",
              "      \n",
              "  <style>\n",
              "    .colab-df-container {\n",
              "      display:flex;\n",
              "      flex-wrap:wrap;\n",
              "      gap: 12px;\n",
              "    }\n",
              "\n",
              "    .colab-df-convert {\n",
              "      background-color: #E8F0FE;\n",
              "      border: none;\n",
              "      border-radius: 50%;\n",
              "      cursor: pointer;\n",
              "      display: none;\n",
              "      fill: #1967D2;\n",
              "      height: 32px;\n",
              "      padding: 0 0 0 0;\n",
              "      width: 32px;\n",
              "    }\n",
              "\n",
              "    .colab-df-convert:hover {\n",
              "      background-color: #E2EBFA;\n",
              "      box-shadow: 0px 1px 2px rgba(60, 64, 67, 0.3), 0px 1px 3px 1px rgba(60, 64, 67, 0.15);\n",
              "      fill: #174EA6;\n",
              "    }\n",
              "\n",
              "    [theme=dark] .colab-df-convert {\n",
              "      background-color: #3B4455;\n",
              "      fill: #D2E3FC;\n",
              "    }\n",
              "\n",
              "    [theme=dark] .colab-df-convert:hover {\n",
              "      background-color: #434B5C;\n",
              "      box-shadow: 0px 1px 3px 1px rgba(0, 0, 0, 0.15);\n",
              "      filter: drop-shadow(0px 1px 2px rgba(0, 0, 0, 0.3));\n",
              "      fill: #FFFFFF;\n",
              "    }\n",
              "  </style>\n",
              "\n",
              "      <script>\n",
              "        const buttonEl =\n",
              "          document.querySelector('#df-a1bb0954-8123-4ab7-83d3-21989980e4e7 button.colab-df-convert');\n",
              "        buttonEl.style.display =\n",
              "          google.colab.kernel.accessAllowed ? 'block' : 'none';\n",
              "\n",
              "        async function convertToInteractive(key) {\n",
              "          const element = document.querySelector('#df-a1bb0954-8123-4ab7-83d3-21989980e4e7');\n",
              "          const dataTable =\n",
              "            await google.colab.kernel.invokeFunction('convertToInteractive',\n",
              "                                                     [key], {});\n",
              "          if (!dataTable) return;\n",
              "\n",
              "          const docLinkHtml = 'Like what you see? Visit the ' +\n",
              "            '<a target=\"_blank\" href=https://colab.research.google.com/notebooks/data_table.ipynb>data table notebook</a>'\n",
              "            + ' to learn more about interactive tables.';\n",
              "          element.innerHTML = '';\n",
              "          dataTable['output_type'] = 'display_data';\n",
              "          await google.colab.output.renderOutput(dataTable, element);\n",
              "          const docLink = document.createElement('div');\n",
              "          docLink.innerHTML = docLinkHtml;\n",
              "          element.appendChild(docLink);\n",
              "        }\n",
              "      </script>\n",
              "    </div>\n",
              "  </div>\n",
              "  "
            ]
          },
          "metadata": {},
          "execution_count": 92
        }
      ]
    },
    {
      "cell_type": "code",
      "source": [
        "df.info()"
      ],
      "metadata": {
        "colab": {
          "base_uri": "https://localhost:8080/"
        },
        "id": "VouLrBgNAHL6",
        "outputId": "dd35c486-1686-4ca9-d895-ca0a32b71536"
      },
      "execution_count": null,
      "outputs": [
        {
          "output_type": "stream",
          "name": "stdout",
          "text": [
            "<class 'pandas.core.frame.DataFrame'>\n",
            "Int64Index: 16692 entries, 0 to 16691\n",
            "Data columns (total 35 columns):\n",
            " #   Column       Non-Null Count  Dtype  \n",
            "---  ------       --------------  -----  \n",
            " 0   감독_p         16692 non-null  float64\n",
            " 1   배급사_p        16692 non-null  float64\n",
            " 2   영화형태_장편      16692 non-null  int64  \n",
            " 3   영화형태_옴니버스    16692 non-null  int64  \n",
            " 4   영화형태_단편      16692 non-null  int64  \n",
            " 5   영화구분_일반      16692 non-null  int64  \n",
            " 6   영화구분_독립      16692 non-null  int64  \n",
            " 7   국적_한국        16692 non-null  int64  \n",
            " 8   국적_미국        16692 non-null  int64  \n",
            " 9   국적_기타        16692 non-null  int64  \n",
            " 10  국적_벨기에       16692 non-null  int64  \n",
            " 11  국적_아이슬란드     16692 non-null  int64  \n",
            " 12  국적_남아프리카공화국  16692 non-null  int64  \n",
            " 13  연도           16692 non-null  int64  \n",
            " 14  월            16692 non-null  int64  \n",
            " 15  장르_사극        16692 non-null  int64  \n",
            " 16  장르_코미디       16692 non-null  int64  \n",
            " 17  장르_판타지       16692 non-null  int64  \n",
            " 18  장르_기타        16692 non-null  int64  \n",
            " 19  장르_액션        16692 non-null  int64  \n",
            " 20  장르_애니메이션     16692 non-null  int64  \n",
            " 21  장르_범죄        16692 non-null  int64  \n",
            " 22  장르_어드벤처      16692 non-null  int64  \n",
            " 23  장르_SF        16692 non-null  int64  \n",
            " 24  장르_미스터리      16692 non-null  int64  \n",
            " 25  장르_스릴러       16692 non-null  int64  \n",
            " 26  등급_15세이상관람가  16692 non-null  int64  \n",
            " 27  등급_12세이상관람가  16692 non-null  int64  \n",
            " 28  등급_전체관람가     16692 non-null  int64  \n",
            " 29  등급_청소년관람불가   16692 non-null  int64  \n",
            " 30  전국 스크린수      16692 non-null  int64  \n",
            " 31  전국 매출액       16692 non-null  int64  \n",
            " 32  전국 관객수       16692 non-null  int64  \n",
            " 33  서울 매출액       16692 non-null  int64  \n",
            " 34  서울 관객수       16692 non-null  int64  \n",
            "dtypes: float64(2), int64(33)\n",
            "memory usage: 4.6 MB\n"
          ]
        }
      ]
    },
    {
      "cell_type": "code",
      "source": [
        "data_null = df[df['배급사_p'].isnull() | df['감독_p'].isnull()]\n",
        "data_null"
      ],
      "metadata": {
        "colab": {
          "base_uri": "https://localhost:8080/"
        },
        "id": "Vhh7TX8FAGlK",
        "outputId": "e083481a-0efb-4850-9ad1-8252b62a5065"
      },
      "execution_count": null,
      "outputs": [
        {
          "output_type": "execute_result",
          "data": {
            "text/plain": [
              "Empty DataFrame\n",
              "Columns: [감독_p, 배급사_p, 영화형태_장편, 영화형태_옴니버스, 영화형태_단편, 영화구분_일반, 영화구분_독립, 국적_한국, 국적_미국, 국적_기타, 국적_벨기에, 국적_아이슬란드, 국적_남아프리카공화국, 연도, 월, 장르_사극, 장르_코미디, 장르_판타지, 장르_기타, 장르_액션, 장르_애니메이션, 장르_범죄, 장르_어드벤처, 장르_SF, 장르_미스터리, 장르_스릴러, 등급_15세이상관람가, 등급_12세이상관람가, 등급_전체관람가, 등급_청소년관람불가, 전국 스크린수, 전국 매출액, 전국 관객수, 서울 매출액, 서울 관객수]\n",
              "Index: []\n",
              "\n",
              "[0 rows x 35 columns]"
            ],
            "text/html": [
              "\n",
              "  <div id=\"df-67c78630-1868-452a-9822-0c85f525c079\">\n",
              "    <div class=\"colab-df-container\">\n",
              "      <div>\n",
              "<style scoped>\n",
              "    .dataframe tbody tr th:only-of-type {\n",
              "        vertical-align: middle;\n",
              "    }\n",
              "\n",
              "    .dataframe tbody tr th {\n",
              "        vertical-align: top;\n",
              "    }\n",
              "\n",
              "    .dataframe thead th {\n",
              "        text-align: right;\n",
              "    }\n",
              "</style>\n",
              "<table border=\"1\" class=\"dataframe\">\n",
              "  <thead>\n",
              "    <tr style=\"text-align: right;\">\n",
              "      <th></th>\n",
              "      <th>감독_p</th>\n",
              "      <th>배급사_p</th>\n",
              "      <th>영화형태_장편</th>\n",
              "      <th>영화형태_옴니버스</th>\n",
              "      <th>영화형태_단편</th>\n",
              "      <th>영화구분_일반</th>\n",
              "      <th>영화구분_독립</th>\n",
              "      <th>국적_한국</th>\n",
              "      <th>국적_미국</th>\n",
              "      <th>국적_기타</th>\n",
              "      <th>...</th>\n",
              "      <th>장르_스릴러</th>\n",
              "      <th>등급_15세이상관람가</th>\n",
              "      <th>등급_12세이상관람가</th>\n",
              "      <th>등급_전체관람가</th>\n",
              "      <th>등급_청소년관람불가</th>\n",
              "      <th>전국 스크린수</th>\n",
              "      <th>전국 매출액</th>\n",
              "      <th>전국 관객수</th>\n",
              "      <th>서울 매출액</th>\n",
              "      <th>서울 관객수</th>\n",
              "    </tr>\n",
              "  </thead>\n",
              "  <tbody>\n",
              "  </tbody>\n",
              "</table>\n",
              "<p>0 rows × 35 columns</p>\n",
              "</div>\n",
              "      <button class=\"colab-df-convert\" onclick=\"convertToInteractive('df-67c78630-1868-452a-9822-0c85f525c079')\"\n",
              "              title=\"Convert this dataframe to an interactive table.\"\n",
              "              style=\"display:none;\">\n",
              "        \n",
              "  <svg xmlns=\"http://www.w3.org/2000/svg\" height=\"24px\"viewBox=\"0 0 24 24\"\n",
              "       width=\"24px\">\n",
              "    <path d=\"M0 0h24v24H0V0z\" fill=\"none\"/>\n",
              "    <path d=\"M18.56 5.44l.94 2.06.94-2.06 2.06-.94-2.06-.94-.94-2.06-.94 2.06-2.06.94zm-11 1L8.5 8.5l.94-2.06 2.06-.94-2.06-.94L8.5 2.5l-.94 2.06-2.06.94zm10 10l.94 2.06.94-2.06 2.06-.94-2.06-.94-.94-2.06-.94 2.06-2.06.94z\"/><path d=\"M17.41 7.96l-1.37-1.37c-.4-.4-.92-.59-1.43-.59-.52 0-1.04.2-1.43.59L10.3 9.45l-7.72 7.72c-.78.78-.78 2.05 0 2.83L4 21.41c.39.39.9.59 1.41.59.51 0 1.02-.2 1.41-.59l7.78-7.78 2.81-2.81c.8-.78.8-2.07 0-2.86zM5.41 20L4 18.59l7.72-7.72 1.47 1.35L5.41 20z\"/>\n",
              "  </svg>\n",
              "      </button>\n",
              "      \n",
              "  <style>\n",
              "    .colab-df-container {\n",
              "      display:flex;\n",
              "      flex-wrap:wrap;\n",
              "      gap: 12px;\n",
              "    }\n",
              "\n",
              "    .colab-df-convert {\n",
              "      background-color: #E8F0FE;\n",
              "      border: none;\n",
              "      border-radius: 50%;\n",
              "      cursor: pointer;\n",
              "      display: none;\n",
              "      fill: #1967D2;\n",
              "      height: 32px;\n",
              "      padding: 0 0 0 0;\n",
              "      width: 32px;\n",
              "    }\n",
              "\n",
              "    .colab-df-convert:hover {\n",
              "      background-color: #E2EBFA;\n",
              "      box-shadow: 0px 1px 2px rgba(60, 64, 67, 0.3), 0px 1px 3px 1px rgba(60, 64, 67, 0.15);\n",
              "      fill: #174EA6;\n",
              "    }\n",
              "\n",
              "    [theme=dark] .colab-df-convert {\n",
              "      background-color: #3B4455;\n",
              "      fill: #D2E3FC;\n",
              "    }\n",
              "\n",
              "    [theme=dark] .colab-df-convert:hover {\n",
              "      background-color: #434B5C;\n",
              "      box-shadow: 0px 1px 3px 1px rgba(0, 0, 0, 0.15);\n",
              "      filter: drop-shadow(0px 1px 2px rgba(0, 0, 0, 0.3));\n",
              "      fill: #FFFFFF;\n",
              "    }\n",
              "  </style>\n",
              "\n",
              "      <script>\n",
              "        const buttonEl =\n",
              "          document.querySelector('#df-67c78630-1868-452a-9822-0c85f525c079 button.colab-df-convert');\n",
              "        buttonEl.style.display =\n",
              "          google.colab.kernel.accessAllowed ? 'block' : 'none';\n",
              "\n",
              "        async function convertToInteractive(key) {\n",
              "          const element = document.querySelector('#df-67c78630-1868-452a-9822-0c85f525c079');\n",
              "          const dataTable =\n",
              "            await google.colab.kernel.invokeFunction('convertToInteractive',\n",
              "                                                     [key], {});\n",
              "          if (!dataTable) return;\n",
              "\n",
              "          const docLinkHtml = 'Like what you see? Visit the ' +\n",
              "            '<a target=\"_blank\" href=https://colab.research.google.com/notebooks/data_table.ipynb>data table notebook</a>'\n",
              "            + ' to learn more about interactive tables.';\n",
              "          element.innerHTML = '';\n",
              "          dataTable['output_type'] = 'display_data';\n",
              "          await google.colab.output.renderOutput(dataTable, element);\n",
              "          const docLink = document.createElement('div');\n",
              "          docLink.innerHTML = docLinkHtml;\n",
              "          element.appendChild(docLink);\n",
              "        }\n",
              "      </script>\n",
              "    </div>\n",
              "  </div>\n",
              "  "
            ]
          },
          "metadata": {},
          "execution_count": 94
        }
      ]
    },
    {
      "cell_type": "markdown",
      "source": [
        "##파일 내보내기"
      ],
      "metadata": {
        "id": "lvn1EnaPWuxA"
      }
    },
    {
      "cell_type": "code",
      "source": [
        "df.describe()"
      ],
      "metadata": {
        "id": "y2J2GS2Hmst4",
        "colab": {
          "base_uri": "https://localhost:8080/",
          "height": 411
        },
        "outputId": "25ef24ca-1eaf-47ed-9983-3488702eba38"
      },
      "execution_count": null,
      "outputs": [
        {
          "output_type": "execute_result",
          "data": {
            "text/plain": [
              "               감독_p         배급사_p       영화형태_장편     영화형태_옴니버스       영화형태_단편  \\\n",
              "count  1.669200e+04  1.669200e+04  16692.000000  16692.000000  16692.000000   \n",
              "mean   1.240477e+05  1.240477e+05      0.996585      0.003295      0.000120   \n",
              "std    6.109540e+05  4.278039e+05      0.058338      0.057309      0.010946   \n",
              "min    0.000000e+00  1.000000e+00      0.000000      0.000000      0.000000   \n",
              "25%    3.000000e+00  1.279167e+01      1.000000      0.000000      0.000000   \n",
              "50%    8.422857e+01  2.826842e+02      1.000000      0.000000      0.000000   \n",
              "75%    5.257500e+03  1.334614e+04      1.000000      0.000000      0.000000   \n",
              "max    1.424600e+07  9.585874e+06      1.000000      1.000000      1.000000   \n",
              "\n",
              "            영화구분_일반       영화구분_독립         국적_한국         국적_미국         국적_기타  \\\n",
              "count  16692.000000  16692.000000  16692.000000  16692.000000  16692.000000   \n",
              "mean       0.728972      0.271028      0.326863      0.182363      0.488497   \n",
              "std        0.444504      0.444504      0.469081      0.386155      0.499883   \n",
              "min        0.000000      0.000000      0.000000      0.000000      0.000000   \n",
              "25%        0.000000      0.000000      0.000000      0.000000      0.000000   \n",
              "50%        1.000000      0.000000      0.000000      0.000000      0.000000   \n",
              "75%        1.000000      1.000000      1.000000      0.000000      1.000000   \n",
              "max        1.000000      1.000000      1.000000      1.000000      1.000000   \n",
              "\n",
              "       ...        장르_스릴러   등급_15세이상관람가   등급_12세이상관람가      등급_전체관람가  \\\n",
              "count  ...  16692.000000  16692.000000  16692.000000  16692.000000   \n",
              "mean   ...      0.029355      0.213935      0.115385      0.097891   \n",
              "std    ...      0.168806      0.410094      0.319495      0.297176   \n",
              "min    ...      0.000000      0.000000      0.000000      0.000000   \n",
              "25%    ...      0.000000      0.000000      0.000000      0.000000   \n",
              "50%    ...      0.000000      0.000000      0.000000      0.000000   \n",
              "75%    ...      0.000000      0.000000      0.000000      0.000000   \n",
              "max    ...      1.000000      1.000000      1.000000      1.000000   \n",
              "\n",
              "         등급_청소년관람불가       전국 스크린수        전국 매출액        전국 관객수        서울 매출액  \\\n",
              "count  16692.000000  16692.000000  1.669200e+04  1.669200e+04  1.669200e+04   \n",
              "mean       0.572789     83.770728  1.002475e+09  1.240477e+05  2.820029e+08   \n",
              "std        0.494688    232.178647  6.093151e+09  7.465775e+05  1.646274e+09   \n",
              "min        0.000000      0.000000  0.000000e+00  0.000000e+00  0.000000e+00   \n",
              "25%        0.000000      1.000000  6.000000e+03  1.000000e+00  0.000000e+00   \n",
              "50%        1.000000      1.000000  3.000000e+05  6.000000e+01  2.500000e+05   \n",
              "75%        1.000000     30.000000  2.617160e+07  3.516250e+03  1.428767e+07   \n",
              "max        1.000000   2948.000000  1.396480e+11  1.761368e+07  3.357714e+10   \n",
              "\n",
              "             서울 관객수  \n",
              "count  1.669200e+04  \n",
              "mean   3.347682e+04  \n",
              "std    1.937109e+05  \n",
              "min    0.000000e+00  \n",
              "25%    0.000000e+00  \n",
              "50%    4.800000e+01  \n",
              "75%    1.756000e+03  \n",
              "max    4.163666e+06  \n",
              "\n",
              "[8 rows x 35 columns]"
            ],
            "text/html": [
              "\n",
              "  <div id=\"df-2b058a78-54eb-4dba-9b23-fbdb65832eca\">\n",
              "    <div class=\"colab-df-container\">\n",
              "      <div>\n",
              "<style scoped>\n",
              "    .dataframe tbody tr th:only-of-type {\n",
              "        vertical-align: middle;\n",
              "    }\n",
              "\n",
              "    .dataframe tbody tr th {\n",
              "        vertical-align: top;\n",
              "    }\n",
              "\n",
              "    .dataframe thead th {\n",
              "        text-align: right;\n",
              "    }\n",
              "</style>\n",
              "<table border=\"1\" class=\"dataframe\">\n",
              "  <thead>\n",
              "    <tr style=\"text-align: right;\">\n",
              "      <th></th>\n",
              "      <th>감독_p</th>\n",
              "      <th>배급사_p</th>\n",
              "      <th>영화형태_장편</th>\n",
              "      <th>영화형태_옴니버스</th>\n",
              "      <th>영화형태_단편</th>\n",
              "      <th>영화구분_일반</th>\n",
              "      <th>영화구분_독립</th>\n",
              "      <th>국적_한국</th>\n",
              "      <th>국적_미국</th>\n",
              "      <th>국적_기타</th>\n",
              "      <th>...</th>\n",
              "      <th>장르_스릴러</th>\n",
              "      <th>등급_15세이상관람가</th>\n",
              "      <th>등급_12세이상관람가</th>\n",
              "      <th>등급_전체관람가</th>\n",
              "      <th>등급_청소년관람불가</th>\n",
              "      <th>전국 스크린수</th>\n",
              "      <th>전국 매출액</th>\n",
              "      <th>전국 관객수</th>\n",
              "      <th>서울 매출액</th>\n",
              "      <th>서울 관객수</th>\n",
              "    </tr>\n",
              "  </thead>\n",
              "  <tbody>\n",
              "    <tr>\n",
              "      <th>count</th>\n",
              "      <td>1.669200e+04</td>\n",
              "      <td>1.669200e+04</td>\n",
              "      <td>16692.000000</td>\n",
              "      <td>16692.000000</td>\n",
              "      <td>16692.000000</td>\n",
              "      <td>16692.000000</td>\n",
              "      <td>16692.000000</td>\n",
              "      <td>16692.000000</td>\n",
              "      <td>16692.000000</td>\n",
              "      <td>16692.000000</td>\n",
              "      <td>...</td>\n",
              "      <td>16692.000000</td>\n",
              "      <td>16692.000000</td>\n",
              "      <td>16692.000000</td>\n",
              "      <td>16692.000000</td>\n",
              "      <td>16692.000000</td>\n",
              "      <td>16692.000000</td>\n",
              "      <td>1.669200e+04</td>\n",
              "      <td>1.669200e+04</td>\n",
              "      <td>1.669200e+04</td>\n",
              "      <td>1.669200e+04</td>\n",
              "    </tr>\n",
              "    <tr>\n",
              "      <th>mean</th>\n",
              "      <td>1.240477e+05</td>\n",
              "      <td>1.240477e+05</td>\n",
              "      <td>0.996585</td>\n",
              "      <td>0.003295</td>\n",
              "      <td>0.000120</td>\n",
              "      <td>0.728972</td>\n",
              "      <td>0.271028</td>\n",
              "      <td>0.326863</td>\n",
              "      <td>0.182363</td>\n",
              "      <td>0.488497</td>\n",
              "      <td>...</td>\n",
              "      <td>0.029355</td>\n",
              "      <td>0.213935</td>\n",
              "      <td>0.115385</td>\n",
              "      <td>0.097891</td>\n",
              "      <td>0.572789</td>\n",
              "      <td>83.770728</td>\n",
              "      <td>1.002475e+09</td>\n",
              "      <td>1.240477e+05</td>\n",
              "      <td>2.820029e+08</td>\n",
              "      <td>3.347682e+04</td>\n",
              "    </tr>\n",
              "    <tr>\n",
              "      <th>std</th>\n",
              "      <td>6.109540e+05</td>\n",
              "      <td>4.278039e+05</td>\n",
              "      <td>0.058338</td>\n",
              "      <td>0.057309</td>\n",
              "      <td>0.010946</td>\n",
              "      <td>0.444504</td>\n",
              "      <td>0.444504</td>\n",
              "      <td>0.469081</td>\n",
              "      <td>0.386155</td>\n",
              "      <td>0.499883</td>\n",
              "      <td>...</td>\n",
              "      <td>0.168806</td>\n",
              "      <td>0.410094</td>\n",
              "      <td>0.319495</td>\n",
              "      <td>0.297176</td>\n",
              "      <td>0.494688</td>\n",
              "      <td>232.178647</td>\n",
              "      <td>6.093151e+09</td>\n",
              "      <td>7.465775e+05</td>\n",
              "      <td>1.646274e+09</td>\n",
              "      <td>1.937109e+05</td>\n",
              "    </tr>\n",
              "    <tr>\n",
              "      <th>min</th>\n",
              "      <td>0.000000e+00</td>\n",
              "      <td>1.000000e+00</td>\n",
              "      <td>0.000000</td>\n",
              "      <td>0.000000</td>\n",
              "      <td>0.000000</td>\n",
              "      <td>0.000000</td>\n",
              "      <td>0.000000</td>\n",
              "      <td>0.000000</td>\n",
              "      <td>0.000000</td>\n",
              "      <td>0.000000</td>\n",
              "      <td>...</td>\n",
              "      <td>0.000000</td>\n",
              "      <td>0.000000</td>\n",
              "      <td>0.000000</td>\n",
              "      <td>0.000000</td>\n",
              "      <td>0.000000</td>\n",
              "      <td>0.000000</td>\n",
              "      <td>0.000000e+00</td>\n",
              "      <td>0.000000e+00</td>\n",
              "      <td>0.000000e+00</td>\n",
              "      <td>0.000000e+00</td>\n",
              "    </tr>\n",
              "    <tr>\n",
              "      <th>25%</th>\n",
              "      <td>3.000000e+00</td>\n",
              "      <td>1.279167e+01</td>\n",
              "      <td>1.000000</td>\n",
              "      <td>0.000000</td>\n",
              "      <td>0.000000</td>\n",
              "      <td>0.000000</td>\n",
              "      <td>0.000000</td>\n",
              "      <td>0.000000</td>\n",
              "      <td>0.000000</td>\n",
              "      <td>0.000000</td>\n",
              "      <td>...</td>\n",
              "      <td>0.000000</td>\n",
              "      <td>0.000000</td>\n",
              "      <td>0.000000</td>\n",
              "      <td>0.000000</td>\n",
              "      <td>0.000000</td>\n",
              "      <td>1.000000</td>\n",
              "      <td>6.000000e+03</td>\n",
              "      <td>1.000000e+00</td>\n",
              "      <td>0.000000e+00</td>\n",
              "      <td>0.000000e+00</td>\n",
              "    </tr>\n",
              "    <tr>\n",
              "      <th>50%</th>\n",
              "      <td>8.422857e+01</td>\n",
              "      <td>2.826842e+02</td>\n",
              "      <td>1.000000</td>\n",
              "      <td>0.000000</td>\n",
              "      <td>0.000000</td>\n",
              "      <td>1.000000</td>\n",
              "      <td>0.000000</td>\n",
              "      <td>0.000000</td>\n",
              "      <td>0.000000</td>\n",
              "      <td>0.000000</td>\n",
              "      <td>...</td>\n",
              "      <td>0.000000</td>\n",
              "      <td>0.000000</td>\n",
              "      <td>0.000000</td>\n",
              "      <td>0.000000</td>\n",
              "      <td>1.000000</td>\n",
              "      <td>1.000000</td>\n",
              "      <td>3.000000e+05</td>\n",
              "      <td>6.000000e+01</td>\n",
              "      <td>2.500000e+05</td>\n",
              "      <td>4.800000e+01</td>\n",
              "    </tr>\n",
              "    <tr>\n",
              "      <th>75%</th>\n",
              "      <td>5.257500e+03</td>\n",
              "      <td>1.334614e+04</td>\n",
              "      <td>1.000000</td>\n",
              "      <td>0.000000</td>\n",
              "      <td>0.000000</td>\n",
              "      <td>1.000000</td>\n",
              "      <td>1.000000</td>\n",
              "      <td>1.000000</td>\n",
              "      <td>0.000000</td>\n",
              "      <td>1.000000</td>\n",
              "      <td>...</td>\n",
              "      <td>0.000000</td>\n",
              "      <td>0.000000</td>\n",
              "      <td>0.000000</td>\n",
              "      <td>0.000000</td>\n",
              "      <td>1.000000</td>\n",
              "      <td>30.000000</td>\n",
              "      <td>2.617160e+07</td>\n",
              "      <td>3.516250e+03</td>\n",
              "      <td>1.428767e+07</td>\n",
              "      <td>1.756000e+03</td>\n",
              "    </tr>\n",
              "    <tr>\n",
              "      <th>max</th>\n",
              "      <td>1.424600e+07</td>\n",
              "      <td>9.585874e+06</td>\n",
              "      <td>1.000000</td>\n",
              "      <td>1.000000</td>\n",
              "      <td>1.000000</td>\n",
              "      <td>1.000000</td>\n",
              "      <td>1.000000</td>\n",
              "      <td>1.000000</td>\n",
              "      <td>1.000000</td>\n",
              "      <td>1.000000</td>\n",
              "      <td>...</td>\n",
              "      <td>1.000000</td>\n",
              "      <td>1.000000</td>\n",
              "      <td>1.000000</td>\n",
              "      <td>1.000000</td>\n",
              "      <td>1.000000</td>\n",
              "      <td>2948.000000</td>\n",
              "      <td>1.396480e+11</td>\n",
              "      <td>1.761368e+07</td>\n",
              "      <td>3.357714e+10</td>\n",
              "      <td>4.163666e+06</td>\n",
              "    </tr>\n",
              "  </tbody>\n",
              "</table>\n",
              "<p>8 rows × 35 columns</p>\n",
              "</div>\n",
              "      <button class=\"colab-df-convert\" onclick=\"convertToInteractive('df-2b058a78-54eb-4dba-9b23-fbdb65832eca')\"\n",
              "              title=\"Convert this dataframe to an interactive table.\"\n",
              "              style=\"display:none;\">\n",
              "        \n",
              "  <svg xmlns=\"http://www.w3.org/2000/svg\" height=\"24px\"viewBox=\"0 0 24 24\"\n",
              "       width=\"24px\">\n",
              "    <path d=\"M0 0h24v24H0V0z\" fill=\"none\"/>\n",
              "    <path d=\"M18.56 5.44l.94 2.06.94-2.06 2.06-.94-2.06-.94-.94-2.06-.94 2.06-2.06.94zm-11 1L8.5 8.5l.94-2.06 2.06-.94-2.06-.94L8.5 2.5l-.94 2.06-2.06.94zm10 10l.94 2.06.94-2.06 2.06-.94-2.06-.94-.94-2.06-.94 2.06-2.06.94z\"/><path d=\"M17.41 7.96l-1.37-1.37c-.4-.4-.92-.59-1.43-.59-.52 0-1.04.2-1.43.59L10.3 9.45l-7.72 7.72c-.78.78-.78 2.05 0 2.83L4 21.41c.39.39.9.59 1.41.59.51 0 1.02-.2 1.41-.59l7.78-7.78 2.81-2.81c.8-.78.8-2.07 0-2.86zM5.41 20L4 18.59l7.72-7.72 1.47 1.35L5.41 20z\"/>\n",
              "  </svg>\n",
              "      </button>\n",
              "      \n",
              "  <style>\n",
              "    .colab-df-container {\n",
              "      display:flex;\n",
              "      flex-wrap:wrap;\n",
              "      gap: 12px;\n",
              "    }\n",
              "\n",
              "    .colab-df-convert {\n",
              "      background-color: #E8F0FE;\n",
              "      border: none;\n",
              "      border-radius: 50%;\n",
              "      cursor: pointer;\n",
              "      display: none;\n",
              "      fill: #1967D2;\n",
              "      height: 32px;\n",
              "      padding: 0 0 0 0;\n",
              "      width: 32px;\n",
              "    }\n",
              "\n",
              "    .colab-df-convert:hover {\n",
              "      background-color: #E2EBFA;\n",
              "      box-shadow: 0px 1px 2px rgba(60, 64, 67, 0.3), 0px 1px 3px 1px rgba(60, 64, 67, 0.15);\n",
              "      fill: #174EA6;\n",
              "    }\n",
              "\n",
              "    [theme=dark] .colab-df-convert {\n",
              "      background-color: #3B4455;\n",
              "      fill: #D2E3FC;\n",
              "    }\n",
              "\n",
              "    [theme=dark] .colab-df-convert:hover {\n",
              "      background-color: #434B5C;\n",
              "      box-shadow: 0px 1px 3px 1px rgba(0, 0, 0, 0.15);\n",
              "      filter: drop-shadow(0px 1px 2px rgba(0, 0, 0, 0.3));\n",
              "      fill: #FFFFFF;\n",
              "    }\n",
              "  </style>\n",
              "\n",
              "      <script>\n",
              "        const buttonEl =\n",
              "          document.querySelector('#df-2b058a78-54eb-4dba-9b23-fbdb65832eca button.colab-df-convert');\n",
              "        buttonEl.style.display =\n",
              "          google.colab.kernel.accessAllowed ? 'block' : 'none';\n",
              "\n",
              "        async function convertToInteractive(key) {\n",
              "          const element = document.querySelector('#df-2b058a78-54eb-4dba-9b23-fbdb65832eca');\n",
              "          const dataTable =\n",
              "            await google.colab.kernel.invokeFunction('convertToInteractive',\n",
              "                                                     [key], {});\n",
              "          if (!dataTable) return;\n",
              "\n",
              "          const docLinkHtml = 'Like what you see? Visit the ' +\n",
              "            '<a target=\"_blank\" href=https://colab.research.google.com/notebooks/data_table.ipynb>data table notebook</a>'\n",
              "            + ' to learn more about interactive tables.';\n",
              "          element.innerHTML = '';\n",
              "          dataTable['output_type'] = 'display_data';\n",
              "          await google.colab.output.renderOutput(dataTable, element);\n",
              "          const docLink = document.createElement('div');\n",
              "          docLink.innerHTML = docLinkHtml;\n",
              "          element.appendChild(docLink);\n",
              "        }\n",
              "      </script>\n",
              "    </div>\n",
              "  </div>\n",
              "  "
            ]
          },
          "metadata": {},
          "execution_count": 95
        }
      ]
    },
    {
      "cell_type": "code",
      "source": [
        "df.to_csv('movies10_22.csv', index=False) "
      ],
      "metadata": {
        "id": "c1XO9lLYUb8H"
      },
      "execution_count": null,
      "outputs": []
    },
    {
      "cell_type": "markdown",
      "source": [
        "# ++++++++++++++그외\n",
        "\n",
        "\n",
        "\n",
        "*   타겟의 분포 왜곡된 형태의 분포(skewed) -> log\n",
        "\n",
        "\n",
        "*   변수별 데이터 분포\n",
        "\n",
        "*   연도별 데이터 증감추이\n",
        "\n",
        "\n",
        "1.   코로나로 매출감소 -> 가격올렸으니 안정? (연도별 관람객수)\n",
        "      코로나 전과 비교하였을때 얼마로 책정해야 도달?\n",
        "2.   영화 제목 세글자, 네글자 법칙은 실제하는가?\n",
        "3.   흥행 영화 배급사는 어디? 흥행요소?\n"
      ],
      "metadata": {
        "id": "QsaIthK05tfA"
      }
    },
    {
      "cell_type": "code",
      "source": [
        "sns.heatmap(df.corr(), annot = True)"
      ],
      "metadata": {
        "colab": {
          "base_uri": "https://localhost:8080/",
          "height": 463
        },
        "id": "3WU-IPrYva8o",
        "outputId": "2dd99f43-3d84-4546-ff87-c848e98fc8be"
      },
      "execution_count": null,
      "outputs": [
        {
          "output_type": "stream",
          "name": "stderr",
          "text": [
            "/usr/local/lib/python3.8/dist-packages/matplotlib/backends/backend_agg.py:214: RuntimeWarning: Glyph 8722 missing from current font.\n",
            "  font.set_text(s, 0.0, flags=flags)\n",
            "/usr/local/lib/python3.8/dist-packages/matplotlib/backends/backend_agg.py:183: RuntimeWarning: Glyph 8722 missing from current font.\n",
            "  font.set_text(s, 0, flags=flags)\n"
          ]
        },
        {
          "output_type": "execute_result",
          "data": {
            "text/plain": [
              "<matplotlib.axes._subplots.AxesSubplot at 0x7ff01e26a250>"
            ]
          },
          "metadata": {},
          "execution_count": 10
        },
        {
          "output_type": "display_data",
          "data": {
            "text/plain": [
              "<Figure size 432x288 with 2 Axes>"
            ],
            "image/png": "[encoded data removed]"
          },
          "metadata": {
            "needs_background": "light"
          }
        }
      ]
    },
    {
      "cell_type": "markdown",
      "source": [
        "#모델"
      ],
      "metadata": {
        "id": "oMK6FsglDaLe"
      }
    },
    {
      "cell_type": "code",
      "source": [
        "from sklearn.model_selection import train_test_split\n",
        "from sklearn.metrics import mean_absolute_error\n",
        "\n",
        "from category_encoders import OneHotEncoder\n",
        "from category_encoders import OrdinalEncoder\n",
        "from sklearn.impute import SimpleImputer\n",
        "from sklearn.preprocessing import StandardScaler\n",
        "from sklearn.pipeline import make_pipeline\n",
        "\n",
        "from sklearn.ensemble import RandomForestClassifier"
      ],
      "metadata": {
        "id": "NrFnPlZdiS83"
      },
      "execution_count": 27,
      "outputs": []
    },
    {
      "cell_type": "markdown",
      "source": [
        "##자름"
      ],
      "metadata": {
        "id": "4nBg6RNzqdwn"
      }
    },
    {
      "cell_type": "markdown",
      "source": [
        "Index(['감독_p', '배급사_p', '영화형태_장편', '영화형태_옴니버스', '영화형태_단편', '영화구분_일반',\n",
        "       '영화구분_독립', '국적_한국', '국적_미국', '국적_기타', '국적_벨기에', '국적_아이슬란드',\n",
        "       '국적_남아프리카공화국', '연도', '월', '장르_사극', '장르_코미디', '장르_판타지', '장르_기타', '장르_액션',\n",
        "       '장르_애니메이션', '장르_범죄', '장르_어드벤처', '장르_SF', '장르_미스터리', '장르_스릴러',\n",
        "       '등급_15세이상관람가', '등급_12세이상관람가', '등급_전체관람가', '등급_청소년관람불가', '전국 스크린수',\n",
        "       '전국 매출액', '전국 관객수', '서울 매출액', '서울 관객수'],\n",
        "      dtype='object')"
      ],
      "metadata": {
        "id": "wsnMV3IvrLpL"
      }
    },
    {
      "cell_type": "code",
      "source": [
        "df_ex = df.copy()"
      ],
      "metadata": {
        "id": "mvzFe_exqNlE"
      },
      "execution_count": 9,
      "outputs": []
    },
    {
      "cell_type": "code",
      "source": [
        "df1 = df.drop(['영화형태_장편', '영화형태_옴니버스', '영화형태_단편'], axis = 1)"
      ],
      "metadata": {
        "id": "awWAckYNepai"
      },
      "execution_count": 10,
      "outputs": []
    },
    {
      "cell_type": "code",
      "source": [
        "df1 = df.drop(['영화구분_일반', '영화구분_독립'], axis = 1)"
      ],
      "metadata": {
        "id": "CogW6rAHhf8U"
      },
      "execution_count": 11,
      "outputs": []
    },
    {
      "cell_type": "code",
      "source": [
        "df1 = df.drop(['연도', '월'], axis = 1)"
      ],
      "metadata": {
        "id": "zFDZ6ohqhk0k"
      },
      "execution_count": 12,
      "outputs": []
    },
    {
      "cell_type": "code",
      "source": [
        "df1 = df.drop(['국적_한국', '국적_미국', '국적_기타', '국적_벨기에', '국적_아이슬란드','국적_남아프리카공화국'], axis = 1)"
      ],
      "metadata": {
        "id": "J7oEhsUJfrtx"
      },
      "execution_count": 13,
      "outputs": []
    },
    {
      "cell_type": "code",
      "source": [
        "df1 = df.drop(['등급_15세이상관람가', '등급_12세이상관람가', '등급_전체관람가', '등급_청소년관람불가'], axis = 1)"
      ],
      "metadata": {
        "id": "RrZH6puBfqWl"
      },
      "execution_count": 14,
      "outputs": []
    },
    {
      "cell_type": "code",
      "source": [
        "df1 = df.drop(['장르_사극', '장르_코미디', '장르_판타지', '장르_기타', '장르_액션',\n",
        "       '장르_애니메이션', '장르_범죄', '장르_어드벤처', '장르_SF', '장르_미스터리', '장르_스릴러'], axis = 1)"
      ],
      "metadata": {
        "id": "6YFod3NSfpD6"
      },
      "execution_count": 15,
      "outputs": []
    },
    {
      "cell_type": "code",
      "source": [
        "#df = df_ex[['전국 관객수', '전국 스크린수']]"
      ],
      "metadata": {
        "id": "t1K_0D0rlDvM"
      },
      "execution_count": 16,
      "outputs": []
    },
    {
      "cell_type": "code",
      "source": [
        "df.info()"
      ],
      "metadata": {
        "colab": {
          "base_uri": "https://localhost:8080/"
        },
        "id": "3a28lovbHAM4",
        "outputId": "9e517cfa-4347-4789-f2b7-0a49b74db9a3"
      },
      "execution_count": 17,
      "outputs": [
        {
          "output_type": "stream",
          "name": "stdout",
          "text": [
            "<class 'pandas.core.frame.DataFrame'>\n",
            "RangeIndex: 16692 entries, 0 to 16691\n",
            "Data columns (total 35 columns):\n",
            " #   Column       Non-Null Count  Dtype  \n",
            "---  ------       --------------  -----  \n",
            " 0   감독_p         16692 non-null  float64\n",
            " 1   배급사_p        16692 non-null  float64\n",
            " 2   영화형태_장편      16692 non-null  int64  \n",
            " 3   영화형태_옴니버스    16692 non-null  int64  \n",
            " 4   영화형태_단편      16692 non-null  int64  \n",
            " 5   영화구분_일반      16692 non-null  int64  \n",
            " 6   영화구분_독립      16692 non-null  int64  \n",
            " 7   국적_한국        16692 non-null  int64  \n",
            " 8   국적_미국        16692 non-null  int64  \n",
            " 9   국적_기타        16692 non-null  int64  \n",
            " 10  국적_벨기에       16692 non-null  int64  \n",
            " 11  국적_아이슬란드     16692 non-null  int64  \n",
            " 12  국적_남아프리카공화국  16692 non-null  int64  \n",
            " 13  연도           16692 non-null  int64  \n",
            " 14  월            16692 non-null  int64  \n",
            " 15  장르_사극        16692 non-null  int64  \n",
            " 16  장르_코미디       16692 non-null  int64  \n",
            " 17  장르_판타지       16692 non-null  int64  \n",
            " 18  장르_기타        16692 non-null  int64  \n",
            " 19  장르_액션        16692 non-null  int64  \n",
            " 20  장르_애니메이션     16692 non-null  int64  \n",
            " 21  장르_범죄        16692 non-null  int64  \n",
            " 22  장르_어드벤처      16692 non-null  int64  \n",
            " 23  장르_SF        16692 non-null  int64  \n",
            " 24  장르_미스터리      16692 non-null  int64  \n",
            " 25  장르_스릴러       16692 non-null  int64  \n",
            " 26  등급_15세이상관람가  16692 non-null  int64  \n",
            " 27  등급_12세이상관람가  16692 non-null  int64  \n",
            " 28  등급_전체관람가     16692 non-null  int64  \n",
            " 29  등급_청소년관람불가   16692 non-null  int64  \n",
            " 30  전국 스크린수      16692 non-null  int64  \n",
            " 31  전국 매출액       16692 non-null  int64  \n",
            " 32  전국 관객수       16692 non-null  int64  \n",
            " 33  서울 매출액       16692 non-null  int64  \n",
            " 34  서울 관객수       16692 non-null  int64  \n",
            "dtypes: float64(2), int64(33)\n",
            "memory usage: 4.5 MB\n"
          ]
        }
      ]
    },
    {
      "cell_type": "markdown",
      "source": [
        "##추가 전처리"
      ],
      "metadata": {
        "id": "LGB6lXBmGs73"
      }
    },
    {
      "cell_type": "code",
      "source": [
        "df.columns"
      ],
      "metadata": {
        "colab": {
          "base_uri": "https://localhost:8080/"
        },
        "id": "-s04GdQUoWLY",
        "outputId": "65d7051b-b8bc-4279-f497-a35721d86aa5"
      },
      "execution_count": 18,
      "outputs": [
        {
          "output_type": "execute_result",
          "data": {
            "text/plain": [
              "Index(['감독_p', '배급사_p', '영화형태_장편', '영화형태_옴니버스', '영화형태_단편', '영화구분_일반',\n",
              "       '영화구분_독립', '국적_한국', '국적_미국', '국적_기타', '국적_벨기에', '국적_아이슬란드',\n",
              "       '국적_남아프리카공화국', '연도', '월', '장르_사극', '장르_코미디', '장르_판타지', '장르_기타', '장르_액션',\n",
              "       '장르_애니메이션', '장르_범죄', '장르_어드벤처', '장르_SF', '장르_미스터리', '장르_스릴러',\n",
              "       '등급_15세이상관람가', '등급_12세이상관람가', '등급_전체관람가', '등급_청소년관람불가', '전국 스크린수',\n",
              "       '전국 매출액', '전국 관객수', '서울 매출액', '서울 관객수'],\n",
              "      dtype='object')"
            ]
          },
          "metadata": {},
          "execution_count": 18
        }
      ]
    },
    {
      "cell_type": "code",
      "source": [
        "df['가격'] = df['전국 매출액']/df['전국 관객수']"
      ],
      "metadata": {
        "id": "6TYueA99HZ4h"
      },
      "execution_count": 19,
      "outputs": []
    },
    {
      "cell_type": "code",
      "source": [
        "df['가격']"
      ],
      "metadata": {
        "colab": {
          "base_uri": "https://localhost:8080/"
        },
        "id": "51pG2ls6Hf_A",
        "outputId": "ba001a2f-2f8e-4339-ba62-e1e8517dd6b7"
      },
      "execution_count": 20,
      "outputs": [
        {
          "output_type": "execute_result",
          "data": {
            "text/plain": [
              "0        7706.985905\n",
              "1        8585.826027\n",
              "2        8028.632932\n",
              "3        7779.589372\n",
              "4        8768.300798\n",
              "            ...     \n",
              "16687    8000.000000\n",
              "16688            NaN\n",
              "16689            NaN\n",
              "16690            NaN\n",
              "16691            NaN\n",
              "Name: 가격, Length: 16692, dtype: float64"
            ]
          },
          "metadata": {},
          "execution_count": 20
        }
      ]
    },
    {
      "cell_type": "code",
      "source": [
        "df.tail()"
      ],
      "metadata": {
        "colab": {
          "base_uri": "https://localhost:8080/",
          "height": 314
        },
        "id": "K6NLKUQ9HtBH",
        "outputId": "3f55f287-f97f-4bac-e55b-271dc987c19b"
      },
      "execution_count": 21,
      "outputs": [
        {
          "output_type": "execute_result",
          "data": {
            "text/plain": [
              "              감독_p        배급사_p  영화형태_장편  영화형태_옴니버스  영화형태_단편  영화구분_일반  \\\n",
              "16687    15.750000    12.791667        1          0        0        1   \n",
              "16688     0.000000     2.406313        1          0        0        1   \n",
              "16689  3230.142857  5026.260504        1          0        0        0   \n",
              "16690     0.000000   438.526316        1          0        0        1   \n",
              "16691     0.000000   438.526316        1          0        0        1   \n",
              "\n",
              "       영화구분_독립  국적_한국  국적_미국  국적_기타  ...  등급_15세이상관람가  등급_12세이상관람가  등급_전체관람가  \\\n",
              "16687        0      0      0      1  ...            0            0         0   \n",
              "16688        0      1      0      0  ...            0            0         0   \n",
              "16689        1      0      0      1  ...            0            1         0   \n",
              "16690        0      0      0      1  ...            0            0         0   \n",
              "16691        0      0      1      0  ...            1            0         0   \n",
              "\n",
              "       등급_청소년관람불가  전국 스크린수  전국 매출액  전국 관객수  서울 매출액  서울 관객수      가격  \n",
              "16687           1        1    8000       1       0       0  8000.0  \n",
              "16688           1        0       0       0       0       0     NaN  \n",
              "16689           0       30       0       0       0       0     NaN  \n",
              "16690           1        0       0       0       0       0     NaN  \n",
              "16691           0        0       0       0       0       0     NaN  \n",
              "\n",
              "[5 rows x 36 columns]"
            ],
            "text/html": [
              "\n",
              "  <div id=\"df-cbc9dfbd-7478-423e-902d-552e4f4731b9\">\n",
              "    <div class=\"colab-df-container\">\n",
              "      <div>\n",
              "<style scoped>\n",
              "    .dataframe tbody tr th:only-of-type {\n",
              "        vertical-align: middle;\n",
              "    }\n",
              "\n",
              "    .dataframe tbody tr th {\n",
              "        vertical-align: top;\n",
              "    }\n",
              "\n",
              "    .dataframe thead th {\n",
              "        text-align: right;\n",
              "    }\n",
              "</style>\n",
              "<table border=\"1\" class=\"dataframe\">\n",
              "  <thead>\n",
              "    <tr style=\"text-align: right;\">\n",
              "      <th></th>\n",
              "      <th>감독_p</th>\n",
              "      <th>배급사_p</th>\n",
              "      <th>영화형태_장편</th>\n",
              "      <th>영화형태_옴니버스</th>\n",
              "      <th>영화형태_단편</th>\n",
              "      <th>영화구분_일반</th>\n",
              "      <th>영화구분_독립</th>\n",
              "      <th>국적_한국</th>\n",
              "      <th>국적_미국</th>\n",
              "      <th>국적_기타</th>\n",
              "      <th>...</th>\n",
              "      <th>등급_15세이상관람가</th>\n",
              "      <th>등급_12세이상관람가</th>\n",
              "      <th>등급_전체관람가</th>\n",
              "      <th>등급_청소년관람불가</th>\n",
              "      <th>전국 스크린수</th>\n",
              "      <th>전국 매출액</th>\n",
              "      <th>전국 관객수</th>\n",
              "      <th>서울 매출액</th>\n",
              "      <th>서울 관객수</th>\n",
              "      <th>가격</th>\n",
              "    </tr>\n",
              "  </thead>\n",
              "  <tbody>\n",
              "    <tr>\n",
              "      <th>16687</th>\n",
              "      <td>15.750000</td>\n",
              "      <td>12.791667</td>\n",
              "      <td>1</td>\n",
              "      <td>0</td>\n",
              "      <td>0</td>\n",
              "      <td>1</td>\n",
              "      <td>0</td>\n",
              "      <td>0</td>\n",
              "      <td>0</td>\n",
              "      <td>1</td>\n",
              "      <td>...</td>\n",
              "      <td>0</td>\n",
              "      <td>0</td>\n",
              "      <td>0</td>\n",
              "      <td>1</td>\n",
              "      <td>1</td>\n",
              "      <td>8000</td>\n",
              "      <td>1</td>\n",
              "      <td>0</td>\n",
              "      <td>0</td>\n",
              "      <td>8000.0</td>\n",
              "    </tr>\n",
              "    <tr>\n",
              "      <th>16688</th>\n",
              "      <td>0.000000</td>\n",
              "      <td>2.406313</td>\n",
              "      <td>1</td>\n",
              "      <td>0</td>\n",
              "      <td>0</td>\n",
              "      <td>1</td>\n",
              "      <td>0</td>\n",
              "      <td>1</td>\n",
              "      <td>0</td>\n",
              "      <td>0</td>\n",
              "      <td>...</td>\n",
              "      <td>0</td>\n",
              "      <td>0</td>\n",
              "      <td>0</td>\n",
              "      <td>1</td>\n",
              "      <td>0</td>\n",
              "      <td>0</td>\n",
              "      <td>0</td>\n",
              "      <td>0</td>\n",
              "      <td>0</td>\n",
              "      <td>NaN</td>\n",
              "    </tr>\n",
              "    <tr>\n",
              "      <th>16689</th>\n",
              "      <td>3230.142857</td>\n",
              "      <td>5026.260504</td>\n",
              "      <td>1</td>\n",
              "      <td>0</td>\n",
              "      <td>0</td>\n",
              "      <td>0</td>\n",
              "      <td>1</td>\n",
              "      <td>0</td>\n",
              "      <td>0</td>\n",
              "      <td>1</td>\n",
              "      <td>...</td>\n",
              "      <td>0</td>\n",
              "      <td>1</td>\n",
              "      <td>0</td>\n",
              "      <td>0</td>\n",
              "      <td>30</td>\n",
              "      <td>0</td>\n",
              "      <td>0</td>\n",
              "      <td>0</td>\n",
              "      <td>0</td>\n",
              "      <td>NaN</td>\n",
              "    </tr>\n",
              "    <tr>\n",
              "      <th>16690</th>\n",
              "      <td>0.000000</td>\n",
              "      <td>438.526316</td>\n",
              "      <td>1</td>\n",
              "      <td>0</td>\n",
              "      <td>0</td>\n",
              "      <td>1</td>\n",
              "      <td>0</td>\n",
              "      <td>0</td>\n",
              "      <td>0</td>\n",
              "      <td>1</td>\n",
              "      <td>...</td>\n",
              "      <td>0</td>\n",
              "      <td>0</td>\n",
              "      <td>0</td>\n",
              "      <td>1</td>\n",
              "      <td>0</td>\n",
              "      <td>0</td>\n",
              "      <td>0</td>\n",
              "      <td>0</td>\n",
              "      <td>0</td>\n",
              "      <td>NaN</td>\n",
              "    </tr>\n",
              "    <tr>\n",
              "      <th>16691</th>\n",
              "      <td>0.000000</td>\n",
              "      <td>438.526316</td>\n",
              "      <td>1</td>\n",
              "      <td>0</td>\n",
              "      <td>0</td>\n",
              "      <td>1</td>\n",
              "      <td>0</td>\n",
              "      <td>0</td>\n",
              "      <td>1</td>\n",
              "      <td>0</td>\n",
              "      <td>...</td>\n",
              "      <td>1</td>\n",
              "      <td>0</td>\n",
              "      <td>0</td>\n",
              "      <td>0</td>\n",
              "      <td>0</td>\n",
              "      <td>0</td>\n",
              "      <td>0</td>\n",
              "      <td>0</td>\n",
              "      <td>0</td>\n",
              "      <td>NaN</td>\n",
              "    </tr>\n",
              "  </tbody>\n",
              "</table>\n",
              "<p>5 rows × 36 columns</p>\n",
              "</div>\n",
              "      <button class=\"colab-df-convert\" onclick=\"convertToInteractive('df-cbc9dfbd-7478-423e-902d-552e4f4731b9')\"\n",
              "              title=\"Convert this dataframe to an interactive table.\"\n",
              "              style=\"display:none;\">\n",
              "        \n",
              "  <svg xmlns=\"http://www.w3.org/2000/svg\" height=\"24px\"viewBox=\"0 0 24 24\"\n",
              "       width=\"24px\">\n",
              "    <path d=\"M0 0h24v24H0V0z\" fill=\"none\"/>\n",
              "    <path d=\"M18.56 5.44l.94 2.06.94-2.06 2.06-.94-2.06-.94-.94-2.06-.94 2.06-2.06.94zm-11 1L8.5 8.5l.94-2.06 2.06-.94-2.06-.94L8.5 2.5l-.94 2.06-2.06.94zm10 10l.94 2.06.94-2.06 2.06-.94-2.06-.94-.94-2.06-.94 2.06-2.06.94z\"/><path d=\"M17.41 7.96l-1.37-1.37c-.4-.4-.92-.59-1.43-.59-.52 0-1.04.2-1.43.59L10.3 9.45l-7.72 7.72c-.78.78-.78 2.05 0 2.83L4 21.41c.39.39.9.59 1.41.59.51 0 1.02-.2 1.41-.59l7.78-7.78 2.81-2.81c.8-.78.8-2.07 0-2.86zM5.41 20L4 18.59l7.72-7.72 1.47 1.35L5.41 20z\"/>\n",
              "  </svg>\n",
              "      </button>\n",
              "      \n",
              "  <style>\n",
              "    .colab-df-container {\n",
              "      display:flex;\n",
              "      flex-wrap:wrap;\n",
              "      gap: 12px;\n",
              "    }\n",
              "\n",
              "    .colab-df-convert {\n",
              "      background-color: #E8F0FE;\n",
              "      border: none;\n",
              "      border-radius: 50%;\n",
              "      cursor: pointer;\n",
              "      display: none;\n",
              "      fill: #1967D2;\n",
              "      height: 32px;\n",
              "      padding: 0 0 0 0;\n",
              "      width: 32px;\n",
              "    }\n",
              "\n",
              "    .colab-df-convert:hover {\n",
              "      background-color: #E2EBFA;\n",
              "      box-shadow: 0px 1px 2px rgba(60, 64, 67, 0.3), 0px 1px 3px 1px rgba(60, 64, 67, 0.15);\n",
              "      fill: #174EA6;\n",
              "    }\n",
              "\n",
              "    [theme=dark] .colab-df-convert {\n",
              "      background-color: #3B4455;\n",
              "      fill: #D2E3FC;\n",
              "    }\n",
              "\n",
              "    [theme=dark] .colab-df-convert:hover {\n",
              "      background-color: #434B5C;\n",
              "      box-shadow: 0px 1px 3px 1px rgba(0, 0, 0, 0.15);\n",
              "      filter: drop-shadow(0px 1px 2px rgba(0, 0, 0, 0.3));\n",
              "      fill: #FFFFFF;\n",
              "    }\n",
              "  </style>\n",
              "\n",
              "      <script>\n",
              "        const buttonEl =\n",
              "          document.querySelector('#df-cbc9dfbd-7478-423e-902d-552e4f4731b9 button.colab-df-convert');\n",
              "        buttonEl.style.display =\n",
              "          google.colab.kernel.accessAllowed ? 'block' : 'none';\n",
              "\n",
              "        async function convertToInteractive(key) {\n",
              "          const element = document.querySelector('#df-cbc9dfbd-7478-423e-902d-552e4f4731b9');\n",
              "          const dataTable =\n",
              "            await google.colab.kernel.invokeFunction('convertToInteractive',\n",
              "                                                     [key], {});\n",
              "          if (!dataTable) return;\n",
              "\n",
              "          const docLinkHtml = 'Like what you see? Visit the ' +\n",
              "            '<a target=\"_blank\" href=https://colab.research.google.com/notebooks/data_table.ipynb>data table notebook</a>'\n",
              "            + ' to learn more about interactive tables.';\n",
              "          element.innerHTML = '';\n",
              "          dataTable['output_type'] = 'display_data';\n",
              "          await google.colab.output.renderOutput(dataTable, element);\n",
              "          const docLink = document.createElement('div');\n",
              "          docLink.innerHTML = docLinkHtml;\n",
              "          element.appendChild(docLink);\n",
              "        }\n",
              "      </script>\n",
              "    </div>\n",
              "  </div>\n",
              "  "
            ]
          },
          "metadata": {},
          "execution_count": 21
        }
      ]
    },
    {
      "cell_type": "code",
      "source": [
        "df['가격'] = df['가격'].fillna('0')"
      ],
      "metadata": {
        "id": "XLo8WtjVHKSx"
      },
      "execution_count": 22,
      "outputs": []
    },
    {
      "cell_type": "code",
      "source": [
        "df['가격'] = df['가격'].astype('float')"
      ],
      "metadata": {
        "id": "lSs0LCZx0jzY"
      },
      "execution_count": 23,
      "outputs": []
    },
    {
      "cell_type": "markdown",
      "source": [
        "##train/test/val"
      ],
      "metadata": {
        "id": "BLvBdPWjG02X"
      }
    },
    {
      "cell_type": "code",
      "source": [
        "X = df.drop('전국 관객수', axis=1)\n",
        "y = df['전국 관객수']\n",
        "X_train, X_test, y_train, y_test = train_test_split(X, y, train_size=0.8, random_state=42)\n",
        "X_train, X_val, y_train, y_val = train_test_split(X_train, y_train, train_size=0.8, random_state=42)"
      ],
      "metadata": {
        "id": "9ts_B_iSmcaO"
      },
      "execution_count": 24,
      "outputs": []
    },
    {
      "cell_type": "code",
      "source": [
        "print(X_train.shape, X_test.shape, X_val.shape)"
      ],
      "metadata": {
        "colab": {
          "base_uri": "https://localhost:8080/"
        },
        "id": "rt4QgPyNnJcD",
        "outputId": "8f3b789c-6f24-4160-dd85-a1e2d8be4537"
      },
      "execution_count": 25,
      "outputs": [
        {
          "output_type": "stream",
          "name": "stdout",
          "text": [
            "(10682, 35) (3339, 35) (2671, 35)\n"
          ]
        }
      ]
    },
    {
      "cell_type": "markdown",
      "source": [
        "#X"
      ],
      "metadata": {
        "id": "hisNUvfwTQp8"
      }
    },
    {
      "cell_type": "markdown",
      "source": [
        "## SimpleLinearRegression"
      ],
      "metadata": {
        "id": "9N9cMVI6ikQd"
      }
    },
    {
      "cell_type": "code",
      "source": [
        "from sklearn.linear_model import LinearRegression"
      ],
      "metadata": {
        "id": "8F80Uw-ZnfSi"
      },
      "execution_count": null,
      "outputs": []
    },
    {
      "cell_type": "code",
      "source": [
        "df['전국 관객수'].describe()"
      ],
      "metadata": {
        "id": "dEDyPDM5OExn",
        "colab": {
          "base_uri": "https://localhost:8080/"
        },
        "outputId": "72eddbeb-7967-4b43-df11-54c9d54e27e7"
      },
      "execution_count": null,
      "outputs": [
        {
          "output_type": "execute_result",
          "data": {
            "text/plain": [
              "count    1.669200e+04\n",
              "mean     1.240477e+05\n",
              "std      7.465775e+05\n",
              "min      0.000000e+00\n",
              "25%      1.000000e+00\n",
              "50%      6.000000e+01\n",
              "75%      3.516250e+03\n",
              "max      1.761368e+07\n",
              "Name: 전국 관객수, dtype: float64"
            ]
          },
          "metadata": {},
          "execution_count": 34
        }
      ]
    },
    {
      "cell_type": "code",
      "source": [
        "predict = df['전국 관객수'].mean()\n",
        "errors = predict - df['전국 관객수']\n",
        "errors"
      ],
      "metadata": {
        "id": "y2vDRwR3Ez0b",
        "colab": {
          "base_uri": "https://localhost:8080/"
        },
        "outputId": "4f9d856f-93aa-4f7f-b14c-4ae25a8f337f"
      },
      "execution_count": null,
      "outputs": [
        {
          "output_type": "execute_result",
          "data": {
            "text/plain": [
              "0       -1.748963e+07\n",
              "1       -1.614090e+07\n",
              "2       -1.428671e+07\n",
              "3       -1.412195e+07\n",
              "4       -1.381054e+07\n",
              "             ...     \n",
              "16687    1.240467e+05\n",
              "16688    1.240477e+05\n",
              "16689    1.240477e+05\n",
              "16690    1.240477e+05\n",
              "16691    1.240477e+05\n",
              "Name: 전국 관객수, Length: 16692, dtype: float64"
            ]
          },
          "metadata": {},
          "execution_count": 45
        }
      ]
    },
    {
      "cell_type": "code",
      "source": [
        "mean_absolute_error = errors.abs().mean()\n",
        "mean_absolute_error"
      ],
      "metadata": {
        "id": "OIvIfXJrE33T",
        "colab": {
          "base_uri": "https://localhost:8080/"
        },
        "outputId": "e0406916-e274-4554-93e4-354ad29f93e0"
      },
      "execution_count": null,
      "outputs": [
        {
          "output_type": "execute_result",
          "data": {
            "text/plain": [
              "219324.1208480866"
            ]
          },
          "metadata": {},
          "execution_count": 46
        }
      ]
    },
    {
      "cell_type": "code",
      "source": [
        "x = df['전국 스크린수']\n",
        "y = df['전국 관객수']\n",
        "\n",
        "predict = df['전국 관객수'].mean()\n",
        "errors = predict - df['전국 관객수']\n",
        "mean_absolute_error = errors.abs().mean()\n",
        "\n",
        "sns.lineplot(x=x, y=predict, color='red')\n",
        "sns.scatterplot(x=x, y=y, color='blue');"
      ],
      "metadata": {
        "id": "wKXJF_k_FKMr",
        "colab": {
          "base_uri": "https://localhost:8080/",
          "height": 289
        },
        "outputId": "d8baabe1-3273-4c7d-ce90-258114ebd737"
      },
      "execution_count": null,
      "outputs": [
        {
          "output_type": "display_data",
          "data": {
            "text/plain": [
              "<Figure size 432x288 with 1 Axes>"
            ],
            "image/png": "[encoded data removed]"
          },
          "metadata": {
            "needs_background": "light"
          }
        }
      ]
    },
    {
      "cell_type": "code",
      "source": [
        "model = LinearRegression()"
      ],
      "metadata": {
        "id": "UlaqPbEkn34K"
      },
      "execution_count": null,
      "outputs": []
    },
    {
      "cell_type": "code",
      "source": [
        "print(f'예측 관객수 : {predict:,.0f}명')\n",
        "print(f'절대평균에러 :  {mean_absolute_error:,.0f}명')"
      ],
      "metadata": {
        "id": "IGvVGxksGnI2",
        "colab": {
          "base_uri": "https://localhost:8080/"
        },
        "outputId": "43b4f849-c7ba-4b95-9cc9-dbc135c1ff60"
      },
      "execution_count": null,
      "outputs": [
        {
          "output_type": "stream",
          "name": "stdout",
          "text": [
            "예측 관객수 : 124,048명\n",
            "절대평균에러 :  219,324명\n"
          ]
        }
      ]
    },
    {
      "cell_type": "code",
      "source": [
        "top = df['전국 관객수'].sort_values(ascending=False)[:1000]"
      ],
      "metadata": {
        "id": "it6AfHt7_X8R"
      },
      "execution_count": null,
      "outputs": []
    },
    {
      "cell_type": "code",
      "source": [
        "sns.displot(top);"
      ],
      "metadata": {
        "id": "4bZVUdSt_Y1Y",
        "colab": {
          "base_uri": "https://localhost:8080/",
          "height": 369
        },
        "outputId": "e365316f-d699-4c72-e8f7-66c65e058202"
      },
      "execution_count": null,
      "outputs": [
        {
          "output_type": "display_data",
          "data": {
            "text/plain": [
              "<Figure size 360x360 with 1 Axes>"
            ],
            "image/png": "[encoded data removed]"
          },
          "metadata": {
            "needs_background": "light"
          }
        }
      ]
    },
    {
      "cell_type": "code",
      "source": [
        "feature = ['전국 스크린수']\n",
        "target = ['전국 관객수']\n",
        "X_train = df[feature]\n",
        "y_train = df[target]\n",
        "\n",
        "model.fit(X_train, y_train)"
      ],
      "metadata": {
        "colab": {
          "base_uri": "https://localhost:8080/"
        },
        "id": "PiCDAQkzoHu1",
        "outputId": "a5735d9d-dd40-4a39-bb40-79548134cde8"
      },
      "execution_count": null,
      "outputs": [
        {
          "output_type": "execute_result",
          "data": {
            "text/plain": [
              "LinearRegression()"
            ]
          },
          "metadata": {},
          "execution_count": 39
        }
      ]
    },
    {
      "cell_type": "code",
      "source": [
        "X_test = [[x] for x in X_test['전국 스크린수']]\n",
        "y_pred = model.predict(X_test)"
      ],
      "metadata": {
        "id": "NWjB-FdtoqIn"
      },
      "execution_count": null,
      "outputs": []
    },
    {
      "cell_type": "code",
      "source": [
        "y_pred"
      ],
      "metadata": {
        "colab": {
          "base_uri": "https://localhost:8080/"
        },
        "id": "bJwPIlyYpsuy",
        "outputId": "8e659f6a-9bdb-42ed-8096-08be66d5236a"
      },
      "execution_count": null,
      "outputs": [
        {
          "output_type": "execute_result",
          "data": {
            "text/plain": [
              "array([[-61828.12282652],\n",
              "       [-19160.36437085],\n",
              "       [-46108.42234285],\n",
              "       ...,\n",
              "       [-61828.12282652],\n",
              "       [-61828.12282652],\n",
              "       [-61828.12282652]])"
            ]
          },
          "metadata": {},
          "execution_count": 41
        }
      ]
    },
    {
      "cell_type": "code",
      "source": [
        "plt.scatter(X_train_s, y_train_s, color='black', linewidth=1)\n",
        "\n",
        "plt.scatter(X_test_s, y_pred_s, color='blue', linewidth=1);"
      ],
      "metadata": {
        "colab": {
          "base_uri": "https://localhost:8080/",
          "height": 275
        },
        "id": "Ax8KUr1ipwLa",
        "outputId": "70568c6d-bb22-407c-de57-d73a22fd1408"
      },
      "execution_count": null,
      "outputs": [
        {
          "output_type": "display_data",
          "data": {
            "text/plain": [
              "<Figure size 432x288 with 1 Axes>"
            ],
            "image/png": "[encoded data removed]"
          },
          "metadata": {
            "needs_background": "light"
          }
        }
      ]
    },
    {
      "cell_type": "code",
      "source": [
        "model.coef_"
      ],
      "metadata": {
        "colab": {
          "base_uri": "https://localhost:8080/"
        },
        "id": "kA4ZTJXip4PK",
        "outputId": "6d733fde-b081-4301-d87e-5ec46db22cdc"
      },
      "execution_count": null,
      "outputs": [
        {
          "output_type": "execute_result",
          "data": {
            "text/plain": [
              "array([[2245.67149767]])"
            ]
          },
          "metadata": {},
          "execution_count": 43
        }
      ]
    },
    {
      "cell_type": "markdown",
      "source": [
        "##MultipleLinearRegression"
      ],
      "metadata": {
        "id": "7QUNOsrAqQHM"
      }
    },
    {
      "cell_type": "code",
      "source": [
        "train, test = train_test_split(df, train_size=0.8, random_state=42)"
      ],
      "metadata": {
        "id": "AwNuBXbKvKrV"
      },
      "execution_count": null,
      "outputs": []
    },
    {
      "cell_type": "code",
      "source": [
        "features = ['전국 스크린수', '서울 관객수']\n",
        "target = '전국 관객수'\n",
        "X_train = train[features]\n",
        "X_test = test[features]\n",
        "y_train = train[target]\n",
        "y_test = test[target]"
      ],
      "metadata": {
        "id": "TlqFW2phw1s4"
      },
      "execution_count": null,
      "outputs": []
    },
    {
      "cell_type": "code",
      "source": [
        "model = LinearRegression()"
      ],
      "metadata": {
        "id": "ySWrQ6uVvf0k"
      },
      "execution_count": null,
      "outputs": []
    },
    {
      "cell_type": "code",
      "source": [
        "model.fit(X_train, y_train)\n",
        "y_pred = model.predict(X_train)\n",
        "mae = mean_absolute_error(y_train, y_pred)\n",
        "print(f'훈련 에러: {mae:.2f}')"
      ],
      "metadata": {
        "colab": {
          "base_uri": "https://localhost:8080/"
        },
        "id": "LOBGMgalvi_1",
        "outputId": "4dba3ca1-a904-4028-9e84-60b9c11d5cd8"
      },
      "execution_count": null,
      "outputs": [
        {
          "output_type": "stream",
          "name": "stdout",
          "text": [
            "훈련 에러: 24428.98\n"
          ]
        }
      ]
    },
    {
      "cell_type": "code",
      "source": [
        "y_pred = model.predict(X_test)\n",
        "mae = mean_absolute_error(y_test, y_pred)\n",
        "print(f'테스트 에러: {mae:.2f}')"
      ],
      "metadata": {
        "colab": {
          "base_uri": "https://localhost:8080/"
        },
        "id": "QMpczblMxI14",
        "outputId": "8cb208ff-e5ad-4969-d040-bce3434a905f"
      },
      "execution_count": null,
      "outputs": [
        {
          "output_type": "stream",
          "name": "stdout",
          "text": [
            "테스트 에러: 27339.84\n"
          ]
        }
      ]
    },
    {
      "cell_type": "code",
      "source": [
        "model.intercept_, model.coef_"
      ],
      "metadata": {
        "colab": {
          "base_uri": "https://localhost:8080/"
        },
        "id": "9AEmcOMIt8tO",
        "outputId": "1a5e8922-4614-43cd-f64c-8b1db0c26bfd"
      },
      "execution_count": null,
      "outputs": [
        {
          "output_type": "execute_result",
          "data": {
            "text/plain": [
              "(-8039.891754173092, array([89.6090985 ,  3.70296874]))"
            ]
          },
          "metadata": {},
          "execution_count": 95
        }
      ]
    },
    {
      "cell_type": "markdown",
      "source": [
        "##SelectKBest"
      ],
      "metadata": {
        "id": "l8tmvdhbxxjw"
      }
    },
    {
      "cell_type": "code",
      "source": [
        "#sns.displot(df['전국 관객수']);"
      ],
      "metadata": {
        "colab": {
          "base_uri": "https://localhost:8080/",
          "height": 369
        },
        "id": "ySPsZ2tYGOZK",
        "outputId": "220b4d1d-28ba-4baf-d714-f74a7d50b3a4"
      },
      "execution_count": null,
      "outputs": [
        {
          "output_type": "display_data",
          "data": {
            "text/plain": [
              "<Figure size 360x360 with 1 Axes>"
            ],
            "image/png": "[encoded data removed]"
          },
          "metadata": {
            "needs_background": "light"
          }
        }
      ]
    },
    {
      "cell_type": "code",
      "source": [
        "from sklearn.feature_selection import f_regression, SelectKBest\n",
        "\n",
        "## selctor 정의합니다.\n",
        "selector = SelectKBest(score_func=f_regression, k=7)\n",
        "\n",
        "## 학습데이터에 fit_transform \n",
        "X_train_selected = selector.fit_transform(X_train, y_train)\n",
        "\n",
        "## 테스트 데이터는 transform\n",
        "X_test_selected = selector.transform(X_test)\n",
        "\n",
        "\n",
        "X_train_selected.shape, X_test_selected.shape"
      ],
      "metadata": {
        "colab": {
          "base_uri": "https://localhost:8080/"
        },
        "id": "FDqlckPyIFBX",
        "outputId": "618fbbf3-2f7f-4d61-ca55-adf7bd0cf71b"
      },
      "execution_count": null,
      "outputs": [
        {
          "output_type": "execute_result",
          "data": {
            "text/plain": [
              "((10682, 7), (3339, 7))"
            ]
          },
          "metadata": {},
          "execution_count": 25
        }
      ]
    },
    {
      "cell_type": "code",
      "source": [
        "all_names = X_train.columns\n",
        "\n",
        "## selector.get_support()\n",
        "selected_mask = selector.get_support()\n",
        "\n",
        "## 선택된 특성들\n",
        "selected_names = all_names[selected_mask]\n",
        "\n",
        "## 선택되지 않은 특성들\n",
        "unselected_names = all_names[~selected_mask] \n",
        "\n",
        "print('Selected names: ', selected_names)\n",
        "print('Unselected names: ', unselected_names)"
      ],
      "metadata": {
        "colab": {
          "base_uri": "https://localhost:8080/"
        },
        "id": "KGjDDdinIH-H",
        "outputId": "25b6d586-3c0d-4610-f0f8-97f2b420f660"
      },
      "execution_count": null,
      "outputs": [
        {
          "output_type": "stream",
          "name": "stdout",
          "text": [
            "Selected names:  Index(['감독_p', '배급사_p', '장르_기타', '전국 스크린수', '전국 매출액', '서울 매출액', '서울 관객수'], dtype='object')\n",
            "Unselected names:  Index(['영화형태_장편', '영화형태_옴니버스', '영화형태_단편', '영화구분_일반', '영화구분_독립', '국적_한국',\n",
            "       '국적_미국', '국적_기타', '국적_벨기에', '국적_아이슬란드', '국적_남아프리카공화국', '연도', '월',\n",
            "       '장르_사극', '장르_코미디', '장르_판타지', '장르_액션', '장르_애니메이션', '장르_범죄', '장르_어드벤처',\n",
            "       '장르_SF', '장르_미스터리', '장르_스릴러', '등급_15세이상관람가', '등급_12세이상관람가', '등급_전체관람가',\n",
            "       '등급_청소년관람불가', '가격'],\n",
            "      dtype='object')\n"
          ]
        }
      ]
    },
    {
      "cell_type": "code",
      "source": [
        "\n",
        "from sklearn.linear_model import LinearRegression\n",
        "from sklearn.metrics import mean_absolute_error, r2_score\n",
        "\n",
        "training = []\n",
        "testing = []\n",
        "ks = range(1, len(X_train.columns)+1)\n",
        "\n",
        "# 1 부터 특성 수 만큼 사용한 모델을 만들어서 MAE 값을 비교 합니다.\n",
        "for k in range(1, len(X_train.columns)+ 1):\n",
        "    print(f'{k} features')\n",
        "    \n",
        "    selector = SelectKBest(score_func=f_regression, k=k)\n",
        "    \n",
        "    X_train_selected = selector.fit_transform(X_train, y_train)\n",
        "    X_test_selected = selector.transform(X_test)\n",
        "    \n",
        "    all_names = X_train.columns\n",
        "    selected_mask = selector.get_support()\n",
        "    selected_names = all_names[selected_mask]\n",
        "    print('Selected names: ', selected_names)\n",
        "\n",
        "    \n",
        "    model = LinearRegression()\n",
        "    model.fit(X_train_selected, y_train)\n",
        "    y_pred = model.predict(X_train_selected)\n",
        "    mae = mean_absolute_error(y_train, y_pred)\n",
        "    training.append(mae)\n",
        "    \n",
        "    y_pred = model.predict(X_test_selected)\n",
        "    mae = mean_absolute_error(y_test, y_pred)\n",
        "    r2 = r2_score(y_test, y_pred)\n",
        "    testing.append(mae)\n",
        "    print(f'Test MAE: ${mae:,.0f}')\n",
        "    print(f'Test R2: {r2} \\n')\n",
        "\n",
        "plt.plot(ks, training, label='Training Score', color='b')\n",
        "plt.plot(ks, testing, label='Testing Score', color='g')\n",
        "plt.ylabel(\"MAE ($)\")\n",
        "plt.xlabel(\"Number of Features\")\n",
        "plt.title('Validation Curve')\n",
        "plt.legend()\n",
        "plt.show()\n"
      ],
      "metadata": {
        "colab": {
          "base_uri": "https://localhost:8080/",
          "height": 1000
        },
        "id": "H3k3PiOZIgFE",
        "outputId": "fe625bd9-a597-4f97-dea2-dcb9853de1d8"
      },
      "execution_count": null,
      "outputs": [
        {
          "output_type": "stream",
          "name": "stdout",
          "text": [
            "1 features\n",
            "Selected names:  Index(['전국 매출액'], dtype='object')\n",
            "Test MAE: $11,284\n",
            "Test R2: 0.9936406265452766 \n",
            "\n",
            "2 features\n",
            "Selected names:  Index(['전국 매출액', '서울 관객수'], dtype='object')\n",
            "Test MAE: $10,482\n",
            "Test R2: 0.994056623657382 \n",
            "\n",
            "3 features\n",
            "Selected names:  Index(['전국 매출액', '서울 매출액', '서울 관객수'], dtype='object')\n",
            "Test MAE: $3,156\n",
            "Test R2: 0.9995172027775933 \n",
            "\n",
            "4 features\n",
            "Selected names:  Index(['감독_p', '전국 매출액', '서울 매출액', '서울 관객수'], dtype='object')\n",
            "Test MAE: $3,222\n",
            "Test R2: 0.999513718992069 \n",
            "\n",
            "5 features\n",
            "Selected names:  Index(['감독_p', '전국 스크린수', '전국 매출액', '서울 매출액', '서울 관객수'], dtype='object')\n",
            "Test MAE: $3,322\n",
            "Test R2: 0.9995100411508572 \n",
            "\n",
            "6 features\n",
            "Selected names:  Index(['감독_p', '배급사_p', '전국 스크린수', '전국 매출액', '서울 매출액', '서울 관객수'], dtype='object')\n",
            "Test MAE: $3,328\n",
            "Test R2: 0.9995124649354533 \n",
            "\n",
            "7 features\n",
            "Selected names:  Index(['감독_p', '배급사_p', '장르_기타', '전국 스크린수', '전국 매출액', '서울 매출액', '서울 관객수'], dtype='object')\n",
            "Test MAE: $3,458\n",
            "Test R2: 0.9995133793314516 \n",
            "\n",
            "8 features\n",
            "Selected names:  Index(['감독_p', '배급사_p', '장르_기타', '등급_청소년관람불가', '전국 스크린수', '전국 매출액', '서울 매출액',\n",
            "       '서울 관객수'],\n",
            "      dtype='object')\n",
            "Test MAE: $3,471\n",
            "Test R2: 0.9995135707303194 \n",
            "\n",
            "9 features\n",
            "Selected names:  Index(['감독_p', '배급사_p', '국적_기타', '장르_기타', '등급_청소년관람불가', '전국 스크린수', '전국 매출액',\n",
            "       '서울 매출액', '서울 관객수'],\n",
            "      dtype='object')\n",
            "Test MAE: $3,469\n",
            "Test R2: 0.9995135210680145 \n",
            "\n",
            "10 features\n",
            "Selected names:  Index(['감독_p', '배급사_p', '국적_기타', '장르_사극', '장르_기타', '등급_청소년관람불가', '전국 스크린수',\n",
            "       '전국 매출액', '서울 매출액', '서울 관객수'],\n",
            "      dtype='object')\n",
            "Test MAE: $3,506\n",
            "Test R2: 0.9995111489324391 \n",
            "\n",
            "11 features\n",
            "Selected names:  Index(['감독_p', '배급사_p', '국적_기타', '장르_사극', '장르_기타', '장르_액션', '등급_청소년관람불가',\n",
            "       '전국 스크린수', '전국 매출액', '서울 매출액', '서울 관객수'],\n",
            "      dtype='object')\n",
            "Test MAE: $3,511\n",
            "Test R2: 0.9995109450577315 \n",
            "\n",
            "12 features\n",
            "Selected names:  Index(['감독_p', '배급사_p', '국적_기타', '장르_사극', '장르_기타', '장르_액션', '등급_12세이상관람가',\n",
            "       '등급_청소년관람불가', '전국 스크린수', '전국 매출액', '서울 매출액', '서울 관객수'],\n",
            "      dtype='object')\n",
            "Test MAE: $3,533\n",
            "Test R2: 0.9995111387174204 \n",
            "\n",
            "13 features\n",
            "Selected names:  Index(['감독_p', '배급사_p', '국적_미국', '국적_기타', '장르_사극', '장르_기타', '장르_액션',\n",
            "       '등급_12세이상관람가', '등급_청소년관람불가', '전국 스크린수', '전국 매출액', '서울 매출액', '서울 관객수'],\n",
            "      dtype='object')\n",
            "Test MAE: $3,543\n",
            "Test R2: 0.9995110461849804 \n",
            "\n",
            "14 features\n",
            "Selected names:  Index(['감독_p', '배급사_p', '국적_미국', '국적_기타', '장르_사극', '장르_기타', '장르_액션',\n",
            "       '등급_12세이상관람가', '등급_청소년관람불가', '전국 스크린수', '전국 매출액', '서울 매출액', '서울 관객수',\n",
            "       '가격'],\n",
            "      dtype='object')\n",
            "Test MAE: $3,538\n",
            "Test R2: 0.9995111275099441 \n",
            "\n",
            "15 features\n",
            "Selected names:  Index(['감독_p', '배급사_p', '국적_미국', '국적_기타', '연도', '장르_사극', '장르_기타', '장르_액션',\n",
            "       '등급_12세이상관람가', '등급_청소년관람불가', '전국 스크린수', '전국 매출액', '서울 매출액', '서울 관객수',\n",
            "       '가격'],\n",
            "      dtype='object')\n",
            "Test MAE: $3,537\n",
            "Test R2: 0.9995110913239983 \n",
            "\n",
            "16 features\n",
            "Selected names:  Index(['감독_p', '배급사_p', '영화구분_독립', '국적_미국', '국적_기타', '연도', '장르_사극', '장르_기타',\n",
            "       '장르_액션', '등급_12세이상관람가', '등급_청소년관람불가', '전국 스크린수', '전국 매출액', '서울 매출액',\n",
            "       '서울 관객수', '가격'],\n",
            "      dtype='object')\n",
            "Test MAE: $3,568\n",
            "Test R2: 0.9995129548554702 \n",
            "\n",
            "17 features\n",
            "Selected names:  Index(['감독_p', '배급사_p', '영화구분_일반', '영화구분_독립', '국적_미국', '국적_기타', '연도', '장르_사극',\n",
            "       '장르_기타', '장르_액션', '등급_12세이상관람가', '등급_청소년관람불가', '전국 스크린수', '전국 매출액',\n",
            "       '서울 매출액', '서울 관객수', '가격'],\n",
            "      dtype='object')\n",
            "Test MAE: $3,568\n",
            "Test R2: 0.9995129548555878 \n",
            "\n",
            "18 features\n",
            "Selected names:  Index(['감독_p', '배급사_p', '영화구분_일반', '영화구분_독립', '국적_미국', '국적_기타', '연도', '장르_사극',\n",
            "       '장르_기타', '장르_액션', '등급_15세이상관람가', '등급_12세이상관람가', '등급_청소년관람불가', '전국 스크린수',\n",
            "       '전국 매출액', '서울 매출액', '서울 관객수', '가격'],\n",
            "      dtype='object')\n",
            "Test MAE: $3,729\n",
            "Test R2: 0.9995163109602142 \n",
            "\n",
            "19 features\n",
            "Selected names:  Index(['감독_p', '배급사_p', '영화구분_일반', '영화구분_독립', '국적_미국', '국적_기타', '연도', '장르_사극',\n",
            "       '장르_기타', '장르_액션', '장르_범죄', '등급_15세이상관람가', '등급_12세이상관람가', '등급_청소년관람불가',\n",
            "       '전국 스크린수', '전국 매출액', '서울 매출액', '서울 관객수', '가격'],\n",
            "      dtype='object')\n",
            "Test MAE: $3,789\n",
            "Test R2: 0.999517034871023 \n",
            "\n",
            "20 features\n",
            "Selected names:  Index(['감독_p', '배급사_p', '영화구분_일반', '영화구분_독립', '국적_한국', '국적_미국', '국적_기타', '연도',\n",
            "       '장르_사극', '장르_기타', '장르_액션', '장르_범죄', '등급_15세이상관람가', '등급_12세이상관람가',\n",
            "       '등급_청소년관람불가', '전국 스크린수', '전국 매출액', '서울 매출액', '서울 관객수', '가격'],\n",
            "      dtype='object')\n",
            "Test MAE: $3,795\n",
            "Test R2: 0.9995168695345491 \n",
            "\n",
            "21 features\n",
            "Selected names:  Index(['감독_p', '배급사_p', '영화구분_일반', '영화구분_독립', '국적_한국', '국적_미국', '국적_기타', '연도',\n",
            "       '장르_사극', '장르_기타', '장르_액션', '장르_범죄', '장르_어드벤처', '등급_15세이상관람가',\n",
            "       '등급_12세이상관람가', '등급_청소년관람불가', '전국 스크린수', '전국 매출액', '서울 매출액', '서울 관객수',\n",
            "       '가격'],\n",
            "      dtype='object')\n",
            "Test MAE: $3,801\n",
            "Test R2: 0.9995165921896522 \n",
            "\n",
            "22 features\n",
            "Selected names:  Index(['감독_p', '배급사_p', '영화구분_일반', '영화구분_독립', '국적_한국', '국적_미국', '국적_기타', '연도',\n",
            "       '장르_사극', '장르_기타', '장르_액션', '장르_애니메이션', '장르_범죄', '장르_어드벤처',\n",
            "       '등급_15세이상관람가', '등급_12세이상관람가', '등급_청소년관람불가', '전국 스크린수', '전국 매출액',\n",
            "       '서울 매출액', '서울 관객수', '가격'],\n",
            "      dtype='object')\n",
            "Test MAE: $3,763\n",
            "Test R2: 0.9995170974973516 \n",
            "\n",
            "23 features\n",
            "Selected names:  Index(['감독_p', '배급사_p', '영화구분_일반', '영화구분_독립', '국적_한국', '국적_미국', '국적_기타', '연도',\n",
            "       '장르_사극', '장르_코미디', '장르_기타', '장르_액션', '장르_애니메이션', '장르_범죄', '장르_어드벤처',\n",
            "       '등급_15세이상관람가', '등급_12세이상관람가', '등급_청소년관람불가', '전국 스크린수', '전국 매출액',\n",
            "       '서울 매출액', '서울 관객수', '가격'],\n",
            "      dtype='object')\n",
            "Test MAE: $3,768\n",
            "Test R2: 0.9995168769318318 \n",
            "\n",
            "24 features\n",
            "Selected names:  Index(['감독_p', '배급사_p', '영화구분_일반', '영화구분_독립', '국적_한국', '국적_미국', '국적_기타', '연도',\n",
            "       '장르_사극', '장르_코미디', '장르_기타', '장르_액션', '장르_애니메이션', '장르_범죄', '장르_어드벤처',\n",
            "       '장르_미스터리', '등급_15세이상관람가', '등급_12세이상관람가', '등급_청소년관람불가', '전국 스크린수',\n",
            "       '전국 매출액', '서울 매출액', '서울 관객수', '가격'],\n",
            "      dtype='object')\n",
            "Test MAE: $3,769\n",
            "Test R2: 0.9995168857701526 \n",
            "\n",
            "25 features\n",
            "Selected names:  Index(['감독_p', '배급사_p', '영화구분_일반', '영화구분_독립', '국적_한국', '국적_미국', '국적_기타', '연도',\n",
            "       '장르_사극', '장르_코미디', '장르_기타', '장르_액션', '장르_애니메이션', '장르_범죄', '장르_어드벤처',\n",
            "       '장르_미스터리', '등급_15세이상관람가', '등급_12세이상관람가', '등급_전체관람가', '등급_청소년관람불가',\n",
            "       '전국 스크린수', '전국 매출액', '서울 매출액', '서울 관객수', '가격'],\n",
            "      dtype='object')\n",
            "Test MAE: $3,769\n",
            "Test R2: 0.9995168857701753 \n",
            "\n",
            "26 features\n",
            "Selected names:  Index(['감독_p', '배급사_p', '영화구분_일반', '영화구분_독립', '국적_한국', '국적_미국', '국적_기타', '연도',\n",
            "       '장르_사극', '장르_코미디', '장르_판타지', '장르_기타', '장르_액션', '장르_애니메이션', '장르_범죄',\n",
            "       '장르_어드벤처', '장르_미스터리', '등급_15세이상관람가', '등급_12세이상관람가', '등급_전체관람가',\n",
            "       '등급_청소년관람불가', '전국 스크린수', '전국 매출액', '서울 매출액', '서울 관객수', '가격'],\n",
            "      dtype='object')\n",
            "Test MAE: $3,775\n",
            "Test R2: 0.9995169469026622 \n",
            "\n",
            "27 features\n",
            "Selected names:  Index(['감독_p', '배급사_p', '영화형태_장편', '영화구분_일반', '영화구분_독립', '국적_한국', '국적_미국',\n",
            "       '국적_기타', '연도', '장르_사극', '장르_코미디', '장르_판타지', '장르_기타', '장르_액션',\n",
            "       '장르_애니메이션', '장르_범죄', '장르_어드벤처', '장르_미스터리', '등급_15세이상관람가', '등급_12세이상관람가',\n",
            "       '등급_전체관람가', '등급_청소년관람불가', '전국 스크린수', '전국 매출액', '서울 매출액', '서울 관객수',\n",
            "       '가격'],\n",
            "      dtype='object')\n",
            "Test MAE: $3,775\n",
            "Test R2: 0.9995169399527107 \n",
            "\n",
            "28 features\n",
            "Selected names:  Index(['감독_p', '배급사_p', '영화형태_장편', '영화형태_옴니버스', '영화구분_일반', '영화구분_독립', '국적_한국',\n",
            "       '국적_미국', '국적_기타', '연도', '장르_사극', '장르_코미디', '장르_판타지', '장르_기타', '장르_액션',\n",
            "       '장르_애니메이션', '장르_범죄', '장르_어드벤처', '장르_미스터리', '등급_15세이상관람가', '등급_12세이상관람가',\n",
            "       '등급_전체관람가', '등급_청소년관람불가', '전국 스크린수', '전국 매출액', '서울 매출액', '서울 관객수',\n",
            "       '가격'],\n",
            "      dtype='object')\n",
            "Test MAE: $3,774\n",
            "Test R2: 0.9995169629433772 \n",
            "\n",
            "29 features\n",
            "Selected names:  Index(['감독_p', '배급사_p', '영화형태_장편', '영화형태_옴니버스', '영화구분_일반', '영화구분_독립', '국적_한국',\n",
            "       '국적_미국', '국적_기타', '연도', '장르_사극', '장르_코미디', '장르_판타지', '장르_기타', '장르_액션',\n",
            "       '장르_애니메이션', '장르_범죄', '장르_어드벤처', '장르_미스터리', '장르_스릴러', '등급_15세이상관람가',\n",
            "       '등급_12세이상관람가', '등급_전체관람가', '등급_청소년관람불가', '전국 스크린수', '전국 매출액', '서울 매출액',\n",
            "       '서울 관객수', '가격'],\n",
            "      dtype='object')\n",
            "Test MAE: $3,787\n",
            "Test R2: 0.9995170374871898 \n",
            "\n",
            "30 features\n",
            "Selected names:  Index(['감독_p', '배급사_p', '영화형태_장편', '영화형태_옴니버스', '영화구분_일반', '영화구분_독립', '국적_한국',\n",
            "       '국적_미국', '국적_기타', '연도', '월', '장르_사극', '장르_코미디', '장르_판타지', '장르_기타',\n",
            "       '장르_액션', '장르_애니메이션', '장르_범죄', '장르_어드벤처', '장르_미스터리', '장르_스릴러',\n",
            "       '등급_15세이상관람가', '등급_12세이상관람가', '등급_전체관람가', '등급_청소년관람불가', '전국 스크린수',\n",
            "       '전국 매출액', '서울 매출액', '서울 관객수', '가격'],\n",
            "      dtype='object')\n",
            "Test MAE: $3,785\n",
            "Test R2: 0.9995171298082257 \n",
            "\n",
            "31 features\n",
            "Selected names:  Index(['감독_p', '배급사_p', '영화형태_장편', '영화형태_옴니버스', '영화구분_일반', '영화구분_독립', '국적_한국',\n",
            "       '국적_미국', '국적_기타', '국적_벨기에', '연도', '월', '장르_사극', '장르_코미디', '장르_판타지',\n",
            "       '장르_기타', '장르_액션', '장르_애니메이션', '장르_범죄', '장르_어드벤처', '장르_미스터리', '장르_스릴러',\n",
            "       '등급_15세이상관람가', '등급_12세이상관람가', '등급_전체관람가', '등급_청소년관람불가', '전국 스크린수',\n",
            "       '전국 매출액', '서울 매출액', '서울 관객수', '가격'],\n",
            "      dtype='object')\n",
            "Test MAE: $3,783\n",
            "Test R2: 0.9995171360506051 \n",
            "\n",
            "32 features\n",
            "Selected names:  Index(['감독_p', '배급사_p', '영화형태_장편', '영화형태_옴니버스', '영화구분_일반', '영화구분_독립', '국적_한국',\n",
            "       '국적_미국', '국적_기타', '국적_벨기에', '국적_남아프리카공화국', '연도', '월', '장르_사극', '장르_코미디',\n",
            "       '장르_판타지', '장르_기타', '장르_액션', '장르_애니메이션', '장르_범죄', '장르_어드벤처', '장르_미스터리',\n",
            "       '장르_스릴러', '등급_15세이상관람가', '등급_12세이상관람가', '등급_전체관람가', '등급_청소년관람불가',\n",
            "       '전국 스크린수', '전국 매출액', '서울 매출액', '서울 관객수', '가격'],\n",
            "      dtype='object')\n",
            "Test MAE: $3,782\n",
            "Test R2: 0.9995171403061522 \n",
            "\n",
            "33 features\n",
            "Selected names:  Index(['감독_p', '배급사_p', '영화형태_장편', '영화형태_옴니버스', '영화형태_단편', '영화구분_일반',\n",
            "       '영화구분_독립', '국적_한국', '국적_미국', '국적_기타', '국적_벨기에', '국적_남아프리카공화국', '연도',\n",
            "       '월', '장르_사극', '장르_코미디', '장르_판타지', '장르_기타', '장르_액션', '장르_애니메이션', '장르_범죄',\n",
            "       '장르_어드벤처', '장르_미스터리', '장르_스릴러', '등급_15세이상관람가', '등급_12세이상관람가',\n",
            "       '등급_전체관람가', '등급_청소년관람불가', '전국 스크린수', '전국 매출액', '서울 매출액', '서울 관객수',\n",
            "       '가격'],\n",
            "      dtype='object')\n",
            "Test MAE: $3,782\n",
            "Test R2: 0.9995171403062512 \n",
            "\n",
            "34 features\n",
            "Selected names:  Index(['감독_p', '배급사_p', '영화형태_장편', '영화형태_옴니버스', '영화형태_단편', '영화구분_일반',\n",
            "       '영화구분_독립', '국적_한국', '국적_미국', '국적_기타', '국적_벨기에', '국적_남아프리카공화국', '연도',\n",
            "       '월', '장르_사극', '장르_코미디', '장르_판타지', '장르_기타', '장르_액션', '장르_애니메이션', '장르_범죄',\n",
            "       '장르_어드벤처', '장르_SF', '장르_미스터리', '장르_스릴러', '등급_15세이상관람가', '등급_12세이상관람가',\n",
            "       '등급_전체관람가', '등급_청소년관람불가', '전국 스크린수', '전국 매출액', '서울 매출액', '서울 관객수',\n",
            "       '가격'],\n",
            "      dtype='object')\n",
            "Test MAE: $3,782\n",
            "Test R2: 0.9995171403062076 \n",
            "\n",
            "35 features\n",
            "Selected names:  Index(['감독_p', '배급사_p', '영화형태_장편', '영화형태_옴니버스', '영화형태_단편', '영화구분_일반',\n",
            "       '영화구분_독립', '국적_한국', '국적_미국', '국적_기타', '국적_벨기에', '국적_아이슬란드',\n",
            "       '국적_남아프리카공화국', '연도', '월', '장르_사극', '장르_코미디', '장르_판타지', '장르_기타', '장르_액션',\n",
            "       '장르_애니메이션', '장르_범죄', '장르_어드벤처', '장르_SF', '장르_미스터리', '장르_스릴러',\n",
            "       '등급_15세이상관람가', '등급_12세이상관람가', '등급_전체관람가', '등급_청소년관람불가', '전국 스크린수',\n",
            "       '전국 매출액', '서울 매출액', '서울 관객수', '가격'],\n",
            "      dtype='object')\n",
            "Test MAE: $3,782\n",
            "Test R2: 0.9995171403062504 \n",
            "\n"
          ]
        },
        {
          "output_type": "display_data",
          "data": {
            "text/plain": [
              "<Figure size 432x288 with 1 Axes>"
            ],
            "image/png": "[encoded data removed]"
          },
          "metadata": {
            "needs_background": "light"
          }
        }
      ]
    },
    {
      "cell_type": "markdown",
      "source": [
        "##DecisionTree"
      ],
      "metadata": {
        "id": "wtu1V5K1NUmB"
      }
    },
    {
      "cell_type": "code",
      "source": [
        "from sklearn.tree import DecisionTreeClassifier\n",
        "\n",
        "pipe = make_pipeline(\n",
        "    OneHotEncoder(use_cat_names=True),  \n",
        "    SimpleImputer(), \n",
        "    DecisionTreeClassifier(random_state=1, criterion='entropy')\n",
        ")\n",
        "\n",
        "pipe.fit(X_train, y_train)\n",
        "print('훈련 정확도: ', pipe.score(X_train, y_train))\n",
        "print('검증 정확도: ', pipe.score(X_val, y_val))"
      ],
      "metadata": {
        "colab": {
          "base_uri": "https://localhost:8080/"
        },
        "id": "CaP4leVTR05V",
        "outputId": "29135806-265a-47b5-989a-c70d976982da"
      },
      "execution_count": null,
      "outputs": [
        {
          "output_type": "stream",
          "name": "stdout",
          "text": [
            "훈련 정확도:  1.0\n",
            "검증 정확도:  0.5185323848745788\n"
          ]
        }
      ]
    },
    {
      "cell_type": "markdown",
      "source": [
        "##Random Forests"
      ],
      "metadata": {
        "id": "1E-3wMIhZcji"
      }
    },
    {
      "cell_type": "code",
      "source": [
        "import tensorflow as tf"
      ],
      "metadata": {
        "id": "Ra56knaximkq"
      },
      "execution_count": null,
      "outputs": []
    },
    {
      "cell_type": "code",
      "source": [
        "tf.test.gpu_device_name()"
      ],
      "metadata": {
        "colab": {
          "base_uri": "https://localhost:8080/",
          "height": 35
        },
        "id": "sq1a77qdiy9L",
        "outputId": "158f9369-9221-4d0f-f0df-3fb4ad016a73"
      },
      "execution_count": null,
      "outputs": [
        {
          "output_type": "execute_result",
          "data": {
            "text/plain": [
              "'/device:GPU:0'"
            ],
            "application/vnd.google.colaboratory.intrinsic+json": {
              "type": "string"
            }
          },
          "metadata": {},
          "execution_count": 2
        }
      ]
    },
    {
      "cell_type": "code",
      "source": [
        "pipe = make_pipeline(\n",
        "    OneHotEncoder(use_cat_names=True), \n",
        "    #SimpleImputer(), \n",
        "    RandomForestClassifier(random_state=42)\n",
        ")\n",
        "pipe.fit(X_train, y_train)\n",
        "print('검증 정확도: ', pipe.score(X_val, y_val))"
      ],
      "metadata": {
        "colab": {
          "base_uri": "https://localhost:8080/"
        },
        "id": "OXQ3laFOqBfL",
        "outputId": "5f66da11-d38d-46b1-e775-1d85f83514ce"
      },
      "execution_count": null,
      "outputs": [
        {
          "output_type": "stream",
          "name": "stdout",
          "text": [
            "Warning: No categorical columns found. Calling 'transform' will only return input data.\n"
          ]
        }
      ]
    },
    {
      "cell_type": "code",
      "source": [
        "pipe = make_pipeline(\n",
        "    OneHotEncoder(use_cat_names=True), \n",
        "    #SimpleImputer(), \n",
        "    RandomForestClassifier(random_state=42)\n",
        ")\n",
        "pipe.fit(X_train, y_train)\n",
        "print('검증 정확도: ', pipe.score(X_val, y_val))"
      ],
      "metadata": {
        "colab": {
          "base_uri": "https://localhost:8080/"
        },
        "id": "DPn3Sf73pkKx",
        "outputId": "48df6fc3-bf97-4077-f5a5-c0e7efddecf4"
      },
      "execution_count": null,
      "outputs": [
        {
          "output_type": "stream",
          "name": "stdout",
          "text": [
            "Warning: No categorical columns found. Calling 'transform' will only return input data.\n",
            "검증 정확도:  0.3646574316735305\n"
          ]
        }
      ]
    },
    {
      "cell_type": "code",
      "source": [
        "pipe = make_pipeline(\n",
        "    OneHotEncoder(use_cat_names=True), \n",
        "    #SimpleImputer(), \n",
        "    RandomForestClassifier(random_state=42)\n",
        ")\n",
        "pipe.fit(X_train, y_train)\n",
        "print('검증 정확도: ', pipe.score(X_val, y_val))"
      ],
      "metadata": {
        "id": "Ecbt3IezZmpZ",
        "colab": {
          "base_uri": "https://localhost:8080/"
        },
        "outputId": "326cbe7d-2090-4a43-ea3e-303936a2e20f"
      },
      "execution_count": null,
      "outputs": [
        {
          "output_type": "stream",
          "name": "stdout",
          "text": [
            "Warning: No categorical columns found. Calling 'transform' will only return input data.\n",
            "검증 정확도:  0.3680269561961812\n"
          ]
        }
      ]
    },
    {
      "cell_type": "code",
      "source": [
        "pipe_1 = make_pipeline(\n",
        "    OrdinalEncoder(), \n",
        "    SimpleImputer(), \n",
        "    RandomForestClassifier(n_estimators=10, n_jobs=-1, random_state=10, max_depth=None, oob_score=True)\n",
        ")\n",
        "\n",
        "pipe_1.fit(X_train, y_train)\n",
        "print('검증 정확도', pipe_1.score(X_val, y_val))\n",
        "\n"
      ],
      "metadata": {
        "colab": {
          "base_uri": "https://localhost:8080/"
        },
        "id": "az80isu_4qs1",
        "outputId": "2d984c62-d46f-45bd-f90c-1860052fd9b0"
      },
      "execution_count": 160,
      "outputs": [
        {
          "output_type": "stream",
          "name": "stdout",
          "text": [
            "Warning: No categorical columns found. Calling 'transform' will only return input data.\n"
          ]
        },
        {
          "output_type": "stream",
          "name": "stderr",
          "text": [
            "/usr/local/lib/python3.8/dist-packages/sklearn/ensemble/_forest.py:541: UserWarning: Some inputs do not have OOB scores. This probably means too few trees were used to compute any reliable oob estimates.\n",
            "  warn(\"Some inputs do not have OOB scores. \"\n",
            "/usr/local/lib/python3.8/dist-packages/sklearn/ensemble/_forest.py:545: RuntimeWarning: invalid value encountered in true_divide\n",
            "  decision = (predictions[k] /\n"
          ]
        },
        {
          "output_type": "stream",
          "name": "stdout",
          "text": [
            "검증 정확도 0.5080494196929989\n"
          ]
        }
      ]
    },
    {
      "cell_type": "code",
      "source": [
        "pipe_1 = make_pipeline(\n",
        "    OrdinalEncoder(), \n",
        "    SimpleImputer(), \n",
        "    RandomForestClassifier(n_estimators=20, n_jobs=-1, random_state=10, max_depth=None, oob_score=True)\n",
        ")\n",
        "\n",
        "pipe_1.fit(X_train, y_train)\n",
        "print('검증 정확도', pipe_1.score(X_val, y_val))\n"
      ],
      "metadata": {
        "colab": {
          "base_uri": "https://localhost:8080/"
        },
        "id": "f3ggpeI45UqG",
        "outputId": "0c221ae6-d39b-46c4-a6a6-68422d569f4b"
      },
      "execution_count": 30,
      "outputs": [
        {
          "output_type": "stream",
          "name": "stdout",
          "text": [
            "Warning: No categorical columns found. Calling 'transform' will only return input data.\n"
          ]
        },
        {
          "output_type": "stream",
          "name": "stderr",
          "text": [
            "/usr/local/lib/python3.8/dist-packages/sklearn/ensemble/_forest.py:541: UserWarning: Some inputs do not have OOB scores. This probably means too few trees were used to compute any reliable oob estimates.\n",
            "  warn(\"Some inputs do not have OOB scores. \"\n",
            "/usr/local/lib/python3.8/dist-packages/sklearn/ensemble/_forest.py:545: RuntimeWarning: invalid value encountered in true_divide\n",
            "  decision = (predictions[k] /\n"
          ]
        },
        {
          "output_type": "stream",
          "name": "stdout",
          "text": [
            "검증 정확도 0.510295769374766\n"
          ]
        }
      ]
    },
    {
      "cell_type": "code",
      "source": [
        "pipe_1 = make_pipeline(\n",
        "    OrdinalEncoder(), \n",
        "    SimpleImputer(), \n",
        "    RandomForestClassifier(n_estimators=30, n_jobs=-1, random_state=10, max_depth=None, oob_score=True)\n",
        ")\n",
        "\n",
        "pipe_1.fit(X_train, y_train)\n",
        "print('검증 정확도', pipe_1.score(X_val, y_val))"
      ],
      "metadata": {
        "colab": {
          "base_uri": "https://localhost:8080/"
        },
        "id": "yTAUXtPN6SWq",
        "outputId": "2bc421d4-7052-4c21-e842-eaf9f1de774f"
      },
      "execution_count": 31,
      "outputs": [
        {
          "output_type": "stream",
          "name": "stdout",
          "text": [
            "Warning: No categorical columns found. Calling 'transform' will only return input data.\n",
            "검증 정확도 0.5121677274429053\n"
          ]
        }
      ]
    },
    {
      "cell_type": "code",
      "source": [
        "#y_pred = pipe_1.predict(X_test)\n",
        "#print('테스트 셋', pipe_1.score(y_test, y_pred))"
      ],
      "metadata": {
        "colab": {
          "base_uri": "https://localhost:8080/",
          "height": 342
        },
        "id": "XVoV_Zjy6kyC",
        "outputId": "7289128d-c880-4bdd-8777-698163c6ed37"
      },
      "execution_count": 35,
      "outputs": [
        {
          "output_type": "error",
          "ename": "ValueError",
          "evalue": "ignored",
          "traceback": [
            "\u001b[0;31m---------------------------------------------------------------------------\u001b[0m",
            "\u001b[0;31mValueError\u001b[0m                                Traceback (most recent call last)",
            "\u001b[0;32m<ipython-input-35-f2f67e4667ef>\u001b[0m in \u001b[0;36m<module>\u001b[0;34m\u001b[0m\n\u001b[1;32m      1\u001b[0m \u001b[0my_pred\u001b[0m \u001b[0;34m=\u001b[0m \u001b[0mpipe_1\u001b[0m\u001b[0;34m.\u001b[0m\u001b[0mpredict\u001b[0m\u001b[0;34m(\u001b[0m\u001b[0mX_test\u001b[0m\u001b[0;34m)\u001b[0m\u001b[0;34m\u001b[0m\u001b[0;34m\u001b[0m\u001b[0m\n\u001b[0;32m----> 2\u001b[0;31m \u001b[0mprint\u001b[0m\u001b[0;34m(\u001b[0m\u001b[0;34m'테스트 셋'\u001b[0m\u001b[0;34m,\u001b[0m \u001b[0mpipe_1\u001b[0m\u001b[0;34m.\u001b[0m\u001b[0mscore\u001b[0m\u001b[0;34m(\u001b[0m\u001b[0my_test\u001b[0m\u001b[0;34m,\u001b[0m \u001b[0my_pred\u001b[0m\u001b[0;34m)\u001b[0m\u001b[0;34m)\u001b[0m\u001b[0;34m\u001b[0m\u001b[0;34m\u001b[0m\u001b[0m\n\u001b[0m",
            "\u001b[0;32m/usr/local/lib/python3.8/dist-packages/sklearn/utils/metaestimators.py\u001b[0m in \u001b[0;36m<lambda>\u001b[0;34m(*args, **kwargs)\u001b[0m\n\u001b[1;32m    118\u001b[0m \u001b[0;34m\u001b[0m\u001b[0m\n\u001b[1;32m    119\u001b[0m         \u001b[0;31m# lambda, but not partial, allows help() to work with update_wrapper\u001b[0m\u001b[0;34m\u001b[0m\u001b[0;34m\u001b[0m\u001b[0;34m\u001b[0m\u001b[0m\n\u001b[0;32m--> 120\u001b[0;31m         \u001b[0mout\u001b[0m \u001b[0;34m=\u001b[0m \u001b[0;32mlambda\u001b[0m \u001b[0;34m*\u001b[0m\u001b[0margs\u001b[0m\u001b[0;34m,\u001b[0m \u001b[0;34m**\u001b[0m\u001b[0mkwargs\u001b[0m\u001b[0;34m:\u001b[0m \u001b[0mself\u001b[0m\u001b[0;34m.\u001b[0m\u001b[0mfn\u001b[0m\u001b[0;34m(\u001b[0m\u001b[0mobj\u001b[0m\u001b[0;34m,\u001b[0m \u001b[0;34m*\u001b[0m\u001b[0margs\u001b[0m\u001b[0;34m,\u001b[0m \u001b[0;34m**\u001b[0m\u001b[0mkwargs\u001b[0m\u001b[0;34m)\u001b[0m\u001b[0;34m\u001b[0m\u001b[0;34m\u001b[0m\u001b[0m\n\u001b[0m\u001b[1;32m    121\u001b[0m         \u001b[0;31m# update the docstring of the returned function\u001b[0m\u001b[0;34m\u001b[0m\u001b[0;34m\u001b[0m\u001b[0;34m\u001b[0m\u001b[0m\n\u001b[1;32m    122\u001b[0m         \u001b[0mupdate_wrapper\u001b[0m\u001b[0;34m(\u001b[0m\u001b[0mout\u001b[0m\u001b[0;34m,\u001b[0m \u001b[0mself\u001b[0m\u001b[0;34m.\u001b[0m\u001b[0mfn\u001b[0m\u001b[0;34m)\u001b[0m\u001b[0;34m\u001b[0m\u001b[0;34m\u001b[0m\u001b[0m\n",
            "\u001b[0;32m/usr/local/lib/python3.8/dist-packages/sklearn/pipeline.py\u001b[0m in \u001b[0;36mscore\u001b[0;34m(self, X, y, sample_weight)\u001b[0m\n\u001b[1;32m    616\u001b[0m         \u001b[0mXt\u001b[0m \u001b[0;34m=\u001b[0m \u001b[0mX\u001b[0m\u001b[0;34m\u001b[0m\u001b[0;34m\u001b[0m\u001b[0m\n\u001b[1;32m    617\u001b[0m         \u001b[0;32mfor\u001b[0m \u001b[0m_\u001b[0m\u001b[0;34m,\u001b[0m \u001b[0mname\u001b[0m\u001b[0;34m,\u001b[0m \u001b[0mtransform\u001b[0m \u001b[0;32min\u001b[0m \u001b[0mself\u001b[0m\u001b[0;34m.\u001b[0m\u001b[0m_iter\u001b[0m\u001b[0;34m(\u001b[0m\u001b[0mwith_final\u001b[0m\u001b[0;34m=\u001b[0m\u001b[0;32mFalse\u001b[0m\u001b[0;34m)\u001b[0m\u001b[0;34m:\u001b[0m\u001b[0;34m\u001b[0m\u001b[0;34m\u001b[0m\u001b[0m\n\u001b[0;32m--> 618\u001b[0;31m             \u001b[0mXt\u001b[0m \u001b[0;34m=\u001b[0m \u001b[0mtransform\u001b[0m\u001b[0;34m.\u001b[0m\u001b[0mtransform\u001b[0m\u001b[0;34m(\u001b[0m\u001b[0mXt\u001b[0m\u001b[0;34m)\u001b[0m\u001b[0;34m\u001b[0m\u001b[0;34m\u001b[0m\u001b[0m\n\u001b[0m\u001b[1;32m    619\u001b[0m         \u001b[0mscore_params\u001b[0m \u001b[0;34m=\u001b[0m \u001b[0;34m{\u001b[0m\u001b[0;34m}\u001b[0m\u001b[0;34m\u001b[0m\u001b[0;34m\u001b[0m\u001b[0m\n\u001b[1;32m    620\u001b[0m         \u001b[0;32mif\u001b[0m \u001b[0msample_weight\u001b[0m \u001b[0;32mis\u001b[0m \u001b[0;32mnot\u001b[0m \u001b[0;32mNone\u001b[0m\u001b[0;34m:\u001b[0m\u001b[0;34m\u001b[0m\u001b[0;34m\u001b[0m\u001b[0m\n",
            "\u001b[0;32m/usr/local/lib/python3.8/dist-packages/category_encoders/utils.py\u001b[0m in \u001b[0;36mtransform\u001b[0;34m(self, X, override_return_df)\u001b[0m\n\u001b[1;32m    452\u001b[0m         \u001b[0;31m# first check the type\u001b[0m\u001b[0;34m\u001b[0m\u001b[0;34m\u001b[0m\u001b[0;34m\u001b[0m\u001b[0m\n\u001b[1;32m    453\u001b[0m         \u001b[0mX\u001b[0m \u001b[0;34m=\u001b[0m \u001b[0mconvert_input\u001b[0m\u001b[0;34m(\u001b[0m\u001b[0mX\u001b[0m\u001b[0;34m,\u001b[0m \u001b[0mdeep\u001b[0m\u001b[0;34m=\u001b[0m\u001b[0;32mTrue\u001b[0m\u001b[0;34m)\u001b[0m\u001b[0;34m\u001b[0m\u001b[0;34m\u001b[0m\u001b[0m\n\u001b[0;32m--> 454\u001b[0;31m         \u001b[0mself\u001b[0m\u001b[0;34m.\u001b[0m\u001b[0m_check_transform_inputs\u001b[0m\u001b[0;34m(\u001b[0m\u001b[0mX\u001b[0m\u001b[0;34m)\u001b[0m\u001b[0;34m\u001b[0m\u001b[0;34m\u001b[0m\u001b[0m\n\u001b[0m\u001b[1;32m    455\u001b[0m \u001b[0;34m\u001b[0m\u001b[0m\n\u001b[1;32m    456\u001b[0m         \u001b[0;32mif\u001b[0m \u001b[0;32mnot\u001b[0m \u001b[0mlist\u001b[0m\u001b[0;34m(\u001b[0m\u001b[0mself\u001b[0m\u001b[0;34m.\u001b[0m\u001b[0mcols\u001b[0m\u001b[0;34m)\u001b[0m\u001b[0;34m:\u001b[0m\u001b[0;34m\u001b[0m\u001b[0;34m\u001b[0m\u001b[0m\n",
            "\u001b[0;32m/usr/local/lib/python3.8/dist-packages/category_encoders/utils.py\u001b[0m in \u001b[0;36m_check_transform_inputs\u001b[0;34m(self, X)\u001b[0m\n\u001b[1;32m    331\u001b[0m         \u001b[0;31m# then make sure that it is the right size\u001b[0m\u001b[0;34m\u001b[0m\u001b[0;34m\u001b[0m\u001b[0;34m\u001b[0m\u001b[0m\n\u001b[1;32m    332\u001b[0m         \u001b[0;32mif\u001b[0m \u001b[0mX\u001b[0m\u001b[0;34m.\u001b[0m\u001b[0mshape\u001b[0m\u001b[0;34m[\u001b[0m\u001b[0;36m1\u001b[0m\u001b[0;34m]\u001b[0m \u001b[0;34m!=\u001b[0m \u001b[0mself\u001b[0m\u001b[0;34m.\u001b[0m\u001b[0m_dim\u001b[0m\u001b[0;34m:\u001b[0m\u001b[0;34m\u001b[0m\u001b[0;34m\u001b[0m\u001b[0m\n\u001b[0;32m--> 333\u001b[0;31m             \u001b[0;32mraise\u001b[0m \u001b[0mValueError\u001b[0m\u001b[0;34m(\u001b[0m\u001b[0;34mf'Unexpected input dimension {X.shape[1]}, expected {self._dim}'\u001b[0m\u001b[0;34m)\u001b[0m\u001b[0;34m\u001b[0m\u001b[0;34m\u001b[0m\u001b[0m\n\u001b[0m\u001b[1;32m    334\u001b[0m \u001b[0;34m\u001b[0m\u001b[0m\n\u001b[1;32m    335\u001b[0m     \u001b[0;32mdef\u001b[0m \u001b[0m_drop_invariants\u001b[0m\u001b[0;34m(\u001b[0m\u001b[0mself\u001b[0m\u001b[0;34m,\u001b[0m \u001b[0mX\u001b[0m\u001b[0;34m:\u001b[0m \u001b[0mpd\u001b[0m\u001b[0;34m.\u001b[0m\u001b[0mDataFrame\u001b[0m\u001b[0;34m,\u001b[0m \u001b[0moverride_return_df\u001b[0m\u001b[0;34m:\u001b[0m \u001b[0mbool\u001b[0m\u001b[0;34m)\u001b[0m \u001b[0;34m->\u001b[0m \u001b[0mUnion\u001b[0m\u001b[0;34m[\u001b[0m\u001b[0mnp\u001b[0m\u001b[0;34m.\u001b[0m\u001b[0mndarray\u001b[0m\u001b[0;34m,\u001b[0m \u001b[0mpd\u001b[0m\u001b[0;34m.\u001b[0m\u001b[0mDataFrame\u001b[0m\u001b[0;34m]\u001b[0m\u001b[0;34m:\u001b[0m\u001b[0;34m\u001b[0m\u001b[0;34m\u001b[0m\u001b[0m\n",
            "\u001b[0;31mValueError\u001b[0m: Unexpected input dimension 1, expected 35"
          ]
        }
      ]
    }
  ]
}